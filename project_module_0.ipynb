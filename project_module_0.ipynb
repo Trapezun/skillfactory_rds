{
  "nbformat": 4,
  "nbformat_minor": 0,
  "metadata": {
    "colab": {
      "name": "project_module_0.ipynb",
      "provenance": [],
      "collapsed_sections": [],
      "authorship_tag": "ABX9TyOHM+4qdINddMzeRswTgHEm",
      "include_colab_link": true
    },
    "kernelspec": {
      "name": "python3",
      "display_name": "Python 3"
    }
  },
  "cells": [
    {
      "cell_type": "markdown",
      "metadata": {
        "id": "view-in-github",
        "colab_type": "text"
      },
      "source": [
        "<a href=\"https://colab.research.google.com/github/Trapezun/skillfactory_rds/blob/master/project_module_0.ipynb\" target=\"_parent\"><img src=\"https://colab.research.google.com/assets/colab-badge.svg\" alt=\"Open In Colab\"/></a>"
      ]
    },
    {
      "cell_type": "code",
      "metadata": {
        "id": "G6MWknK2dl4J",
        "colab_type": "code",
        "outputId": "e1920b9f-0e4f-46bc-a9ec-84ace634d4ff",
        "colab": {
          "base_uri": "https://localhost:8080/",
          "height": 51
        }
      },
      "source": [
        "import numpy as np\n",
        "\n",
        "#реализация игры.\n",
        "#Основная идея в том, чтобы разбить диапазон чисел на две равные части и искать число только в одной из частей.\n",
        "#И так делаем рекурсивно, пока не найдем число\n",
        "\n",
        "#Параметры\n",
        "#number - число, которе надо угадать\n",
        "#min_value - минимальне значение дипазона\n",
        "#max_value - максимальне значение дипазона\n",
        "def game_core_my(number, min_value, max_value):      \n",
        "  #Класс для хранения счетчика. Его передаю в ф-ии угадывания\n",
        "  class gameData:    \n",
        "    counter=0\n",
        "\n",
        "  #Функция, которая угадывает число.\n",
        "  def _guess(minValue, maxValue, data):         \n",
        "    #увеличиваю счетчик\n",
        "     data.counter += 1\n",
        "\n",
        "     #если входные значения равны заданному числу, то выхожу.\n",
        "     if minValue == number:              \n",
        "       return\n",
        "     elif maxValue == number:        \n",
        "        return                   \n",
        "     \n",
        "     #беру середину между maxValue и minValue\n",
        "     middle = ((maxValue - minValue) / 2)\n",
        "     middle = np.round(middle)\n",
        "\n",
        "     #делаю 2 новых дипазона.\n",
        "     #с минимального до середины и с середины до максимального\n",
        "     from1 = minValue\n",
        "     to1 = minValue + middle;\n",
        "\n",
        "     from2 = to1;\n",
        "     to2 = maxValue;\n",
        "   \n",
        "     #в зависимости в какой дипазано попало число, снова вызываю ф-ю угадывания.\n",
        "     if (number >= from1 and number <= to1):            \n",
        "        _guess(from1, to1, data)    \n",
        "     else:            \n",
        "        _guess(from2, to2, data)                  \n",
        "  \n",
        "  data = gameData()\n",
        "  _guess(min_value, max_value, data);\n",
        "  return data.counter;   \n",
        "\n",
        "\n",
        "#счетчик очков из примера.\n",
        "def score_game(game_core):\n",
        "    '''Запускаем игру 1000 раз, чтобы узнать, как быстро игра угадывает число'''\n",
        "    count_ls = []\n",
        "    np.random.seed(1)  # фиксируем RANDOM SEED, чтобы ваш эксперимент был воспроизводим!\n",
        "    max_value=100\n",
        "    min_value=1\n",
        "    random_array = np.random.randint(min_value, max_value, size=(1000))    \n",
        "    for number in random_array:\n",
        "      score = game_core(number,min_value, max_value)\n",
        "      count_ls.append(score)      \n",
        "    score = int(np.mean(count_ls))\n",
        "    print(f\"Ваш алгоритм угадывает число в среднем за {score} попыток\")\n",
        "    return(score)\n",
        "\n",
        "score_game(game_core_my)\n"
      ],
      "execution_count": 53,
      "outputs": [
        {
          "output_type": "stream",
          "text": [
            "Ваш алгоритм угадывает число в среднем за 6 попыток\n"
          ],
          "name": "stdout"
        },
        {
          "output_type": "execute_result",
          "data": {
            "text/plain": [
              "6"
            ]
          },
          "metadata": {
            "tags": []
          },
          "execution_count": 53
        }
      ]
    },
    {
      "cell_type": "code",
      "metadata": {
        "id": "vVDKp2V7eOH0",
        "colab_type": "code",
        "colab": {}
      },
      "source": [
        ""
      ],
      "execution_count": 0,
      "outputs": []
    }
  ]
}
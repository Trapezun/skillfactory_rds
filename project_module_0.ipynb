{
  "nbformat": 4,
  "nbformat_minor": 0,
  "metadata": {
    "colab": {
      "name": "project_module_0.ipynb",
      "provenance": [],
      "collapsed_sections": [],
      "authorship_tag": "ABX9TyPmuXi7E6KXZBVOW8EbN0hh",
      "include_colab_link": true
    },
    "kernelspec": {
      "name": "python3",
      "display_name": "Python 3"
    }
  },
  "cells": [
    {
      "cell_type": "markdown",
      "metadata": {
        "id": "view-in-github",
        "colab_type": "text"
      },
      "source": [
        "<a href=\"https://colab.research.google.com/github/Trapezun/skillfactory_rds/blob/master/project_module_0.ipynb\" target=\"_parent\"><img src=\"https://colab.research.google.com/assets/colab-badge.svg\" alt=\"Open In Colab\"/></a>"
      ]
    },
    {
      "cell_type": "code",
      "metadata": {
        "id": "G6MWknK2dl4J",
        "colab_type": "code",
        "colab": {
          "base_uri": "https://localhost:8080/",
          "height": 129
        },
        "outputId": "20fad7cb-2654-4f0a-c1dd-a2ca2a3adc5a"
      },
      "source": [
        "import numpy as np\n",
        "\n",
        "\n",
        "def game_core_my(number, min_value, max_value):\n",
        "  global counter = 0\n",
        "  youNumber = -1\n",
        "\n",
        "  def _guess(minValue, maxValue):\n",
        "     if minValue == number:\n",
        "       youNumber = number\n",
        "       return\n",
        "     elif maxValue == number:\n",
        "        youNumber = number\n",
        "        return\n",
        "    counter = counter + 1\n",
        "    middle = ((maxValue - minValue) / 2)\n",
        "    middle = np.round(middle)\n",
        "    from1 = minValue\n",
        "    to1 = minValue + middle;\n",
        "\n",
        "    from2 = to1 + 1;\n",
        "    to2 = maxValue;\n",
        "\n",
        "    if number >= from1 & number <= to1:    \n",
        "        _guess(from1, to1)    \n",
        "    else:    \n",
        "        _guess(from2, to2)\n",
        "                \n",
        "  _guess(min_value, max_value);\n",
        "  return counter;   \n",
        "\n",
        "def score_game(game_core):\n",
        "    '''Запускаем игру 1000 раз, чтобы узнать, как быстро игра угадывает число'''\n",
        "    count_ls = []\n",
        "    np.random.seed(1)  # фиксируем RANDOM SEED, чтобы ваш эксперимент был воспроизводим!\n",
        "\n",
        "    max_value=101\n",
        "    min_value=1\n",
        "\n",
        "    random_array = np.random.randint(min_value, max_value, size=(1000))\n",
        "    for number in random_array:\n",
        "      score = game_core(number,min_value, max_value)\n",
        "      count_ls.append(score)\n",
        "    score = int(np.mean(count_ls))\n",
        "    print(f\"Ваш алгоритм угадывает число в среднем за {score} попыток\")\n",
        "    return(score)\n",
        "\n",
        "score_game(game_core_my)\n"
      ],
      "execution_count": 5,
      "outputs": [
        {
          "output_type": "error",
          "ename": "SyntaxError",
          "evalue": "ignored",
          "traceback": [
            "\u001b[0;36m  File \u001b[0;32m\"<ipython-input-5-2ce797a45547>\"\u001b[0;36m, line \u001b[0;32m5\u001b[0m\n\u001b[0;31m    global counter = 0\u001b[0m\n\u001b[0m                   ^\u001b[0m\n\u001b[0;31mSyntaxError\u001b[0m\u001b[0;31m:\u001b[0m invalid syntax\n"
          ]
        }
      ]
    },
    {
      "cell_type": "code",
      "metadata": {
        "id": "vVDKp2V7eOH0",
        "colab_type": "code",
        "colab": {}
      },
      "source": [
        ""
      ],
      "execution_count": 0,
      "outputs": []
    }
  ]
}
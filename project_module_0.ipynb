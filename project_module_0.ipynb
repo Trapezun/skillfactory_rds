{
  "nbformat": 4,
  "nbformat_minor": 0,
  "metadata": {
    "colab": {
      "name": "project_module_0.ipynb",
      "provenance": [],
      "collapsed_sections": [],
      "authorship_tag": "ABX9TyPLYQ6+/Wn5oKgVPunoogdP",
      "include_colab_link": true
    },
    "kernelspec": {
      "name": "python3",
      "display_name": "Python 3"
    }
  },
  "cells": [
    {
      "cell_type": "markdown",
      "metadata": {
        "id": "view-in-github",
        "colab_type": "text"
      },
      "source": [
        "<a href=\"https://colab.research.google.com/github/Trapezun/skillfactory_rds/blob/master/project_module_0.ipynb\" target=\"_parent\"><img src=\"https://colab.research.google.com/assets/colab-badge.svg\" alt=\"Open In Colab\"/></a>"
      ]
    },
    {
      "cell_type": "code",
      "metadata": {
        "id": "G6MWknK2dl4J",
        "colab_type": "code",
        "colab": {
          "base_uri": "https://localhost:8080/",
          "height": 51
        },
        "outputId": "93549084-19e2-4eeb-a7b7-6eacf50e0497"
      },
      "source": [
        "import numpy as np\n",
        "\n",
        "\n",
        "def game_core_my(number, min_value, max_value):\n",
        "  counter = 0;\n",
        "  youNumber = -1;\n",
        "\n",
        "\n",
        "\n",
        "\n",
        "\n",
        "\n",
        "    '''Просто угадываем на random, никак не используя информацию о больше или меньше.\n",
        "       Функция принимает загаданное число и возвращает число попыток'''\n",
        "    count = 0\n",
        "    while True:\n",
        "        count+=1\n",
        "        predict = np.random.randint(1, 101) # предполагаемое число\n",
        "        if number == predict: \n",
        "            return(count) # выход из цикла, если угадали\n",
        "\n",
        "\n",
        "def score_game(game_core):\n",
        "    '''Запускаем игру 1000 раз, чтобы узнать, как быстро игра угадывает число'''\n",
        "    count_ls = []\n",
        "    np.random.seed(1)  # фиксируем RANDOM SEED, чтобы ваш эксперимент был воспроизводим!\n",
        "\n",
        "    max_value=101\n",
        "    min_value=1\n",
        "\n",
        "    random_array = np.random.randint(min_value, max_value, size=(1000))\n",
        "    for number in random_array:\n",
        "      score = game_core(number,min_value, max_value)\n",
        "      count_ls.append(score)\n",
        "    score = int(np.mean(count_ls))\n",
        "    print(f\"Ваш алгоритм угадывает число в среднем за {score} попыток\")\n",
        "    return(score)\n",
        "\n",
        "score_game(game_core_my)\n"
      ],
      "execution_count": 2,
      "outputs": [
        {
          "output_type": "stream",
          "text": [
            "Ваш алгоритм угадывает число в среднем за 101 попыток\n"
          ],
          "name": "stdout"
        },
        {
          "output_type": "execute_result",
          "data": {
            "text/plain": [
              "101"
            ]
          },
          "metadata": {
            "tags": []
          },
          "execution_count": 2
        }
      ]
    },
    {
      "cell_type": "code",
      "metadata": {
        "id": "vVDKp2V7eOH0",
        "colab_type": "code",
        "colab": {}
      },
      "source": [
        ""
      ],
      "execution_count": 0,
      "outputs": []
    }
  ]
}
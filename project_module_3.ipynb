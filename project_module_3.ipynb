{
  "nbformat": 4,
  "nbformat_minor": 0,
  "metadata": {
    "kernelspec": {
      "display_name": "Python 3",
      "language": "python",
      "name": "python3"
    },
    "language_info": {
      "codemirror_mode": {
        "name": "ipython",
        "version": 3
      },
      "file_extension": ".py",
      "mimetype": "text/x-python",
      "name": "python",
      "nbconvert_exporter": "python",
      "pygments_lexer": "ipython3",
      "version": "3.6.6"
    },
    "colab": {
      "name": "project_module_3.ipynb",
      "provenance": [],
      "include_colab_link": true
    }
  },
  "cells": [
    {
      "cell_type": "markdown",
      "metadata": {
        "id": "view-in-github",
        "colab_type": "text"
      },
      "source": [
        "<a href=\"https://colab.research.google.com/github/Trapezun/skillfactory_rds/blob/master/project_module_3.ipynb\" target=\"_parent\"><img src=\"https://colab.research.google.com/assets/colab-badge.svg\" alt=\"Open In Colab\"/></a>"
      ]
    },
    {
      "cell_type": "code",
      "metadata": {
        "_cell_guid": "b1076dfc-b9ad-4769-8c92-a6c4dae69d19",
        "_uuid": "8f2839f25d086af736a60e9eeb907d3b93b6e0e5",
        "id": "c_KxpuOE17i7",
        "colab_type": "code",
        "colab": {},
        "outputId": "fe6c25e8-9bfa-4b59-8370-9d14aaf655d5"
      },
      "source": [
        "# This Python 3 environment comes with many helpful analytics libraries installed\n",
        "# It is defined by the kaggle/python docker image: https://github.com/kaggle/docker-python\n",
        "# For example, here's several helpful packages to load in \n",
        "\n",
        "import numpy as np # linear algebra\n",
        "import pandas as pd # data processing, CSV file I/O (e.g. pd.read_csv)\n",
        "\n",
        "import matplotlib.pyplot as plt\n",
        "import seaborn as sns \n",
        "%matplotlib inline\n",
        "\n",
        "import re\n",
        "import json\n",
        "import datetime as dt\n",
        "\n",
        "import unicodedata #для транслитерации не ASCII\n",
        "import unidecode #для транслитерации не ASCII \n",
        "\n",
        "# Загружаем специальный удобный инструмент для разделения датасета:\n",
        "from sklearn.model_selection import train_test_split\n",
        "\n",
        "# Input data files are available in the \"../input/\" directory.\n",
        "# For example, running this (by clicking run or pressing Shift+Enter) will list all files under the input directory\n",
        "\n",
        "import os\n",
        "for dirname, _, filenames in os.walk('/kaggle/input'):\n",
        "    for filename in filenames:\n",
        "        print(os.path.join(dirname, filename))\n",
        "\n",
        "# Any results you write to the current directory are saved as output."
      ],
      "execution_count": null,
      "outputs": [
        {
          "output_type": "stream",
          "text": [
            "/kaggle/input/opinion-lexicon-english/neg_words.txt\n",
            "/kaggle/input/opinion-lexicon-english/positive-words.txt\n",
            "/kaggle/input/sf-dst-restaurant-rating/kaggle_task.csv\n",
            "/kaggle/input/sf-dst-restaurant-rating/main_task.csv\n",
            "/kaggle/input/sf-dst-restaurant-rating/sample_submission.csv\n"
          ],
          "name": "stdout"
        }
      ]
    },
    {
      "cell_type": "code",
      "metadata": {
        "id": "bPDOn5cd17jE",
        "colab_type": "code",
        "colab": {}
      },
      "source": [
        "# всегда фиксируйте RANDOM_SEED, чтобы ваши эксперименты были воспроизводимы!\n",
        "RANDOM_SEED = 42"
      ],
      "execution_count": null,
      "outputs": []
    },
    {
      "cell_type": "code",
      "metadata": {
        "id": "L0fRLU_A17jL",
        "colab_type": "code",
        "colab": {}
      },
      "source": [
        "# зафиксируем версию пакетов, чтобы эксперименты были воспроизводимы:\n",
        "!pip freeze > requirements.txt"
      ],
      "execution_count": null,
      "outputs": []
    },
    {
      "cell_type": "markdown",
      "metadata": {
        "id": "66Tkmh9217jQ",
        "colab_type": "text"
      },
      "source": [
        "# DATA"
      ]
    },
    {
      "cell_type": "code",
      "metadata": {
        "_cell_guid": "79c7e3d0-c299-4dcb-8224-4455121ee9b0",
        "_uuid": "d629ff2d2480ee46fbb7e2d37f6b5fab8052498a",
        "id": "ocuUyqC617jR",
        "colab_type": "code",
        "colab": {}
      },
      "source": [
        "DATA_DIR = '/kaggle/input/sf-dst-restaurant-rating/'\n",
        "df_train = pd.read_csv(DATA_DIR+'/main_task.csv')\n",
        "df_test = pd.read_csv(DATA_DIR+'kaggle_task.csv')\n",
        "sample_submission = pd.read_csv(DATA_DIR+'/sample_submission.csv')"
      ],
      "execution_count": null,
      "outputs": []
    },
    {
      "cell_type": "code",
      "metadata": {
        "id": "XxQPt8Pa17jV",
        "colab_type": "code",
        "colab": {}
      },
      "source": [
        "# Cлова с позитивным отношением\n",
        "df_pos_words = pd.read_csv('/kaggle/input/opinion-lexicon-english/positive-words.txt',skiprows=34, names=['word'])\n",
        "pos_words_list = df_pos_words['word'].to_list() \n"
      ],
      "execution_count": null,
      "outputs": []
    },
    {
      "cell_type": "code",
      "metadata": {
        "id": "1zwGZOGP17ja",
        "colab_type": "code",
        "colab": {}
      },
      "source": [
        "# ВАЖНО! дря корректной обработки признаков объединяем трейн и тест в один датасет\n",
        "df_train['sample'] = 1 # помечаем где у нас трейн\n",
        "df_test['sample'] = 0 # помечаем где у нас тест\n",
        "df_test['Rating'] = 0 # в тесте у нас нет значения Rating, мы его должны предсказать, по этому пока просто заполняем нулями\n",
        "\n",
        "data = df_test.append(df_train, sort=False).reset_index(drop=True) # объединяем"
      ],
      "execution_count": null,
      "outputs": []
    },
    {
      "cell_type": "code",
      "metadata": {
        "id": "l_ycG9bp17jf",
        "colab_type": "code",
        "colab": {},
        "outputId": "3a02c972-1b09-499d-92ff-fde92dff29ef"
      },
      "source": [
        "data.info()"
      ],
      "execution_count": null,
      "outputs": [
        {
          "output_type": "stream",
          "text": [
            "<class 'pandas.core.frame.DataFrame'>\n",
            "RangeIndex: 50000 entries, 0 to 49999\n",
            "Data columns (total 11 columns):\n",
            "Restaurant_id        50000 non-null object\n",
            "City                 50000 non-null object\n",
            "Cuisine Style        38410 non-null object\n",
            "Ranking              50000 non-null float64\n",
            "Price Range          32639 non-null object\n",
            "Number of Reviews    46800 non-null float64\n",
            "Reviews              49998 non-null object\n",
            "URL_TA               50000 non-null object\n",
            "ID_TA                50000 non-null object\n",
            "sample               50000 non-null int64\n",
            "Rating               50000 non-null float64\n",
            "dtypes: float64(3), int64(1), object(7)\n",
            "memory usage: 4.2+ MB\n"
          ],
          "name": "stdout"
        }
      ]
    },
    {
      "cell_type": "markdown",
      "metadata": {
        "id": "2OyhftO717jl",
        "colab_type": "text"
      },
      "source": [
        "Подробнее по признакам:\n",
        "* City: Город \n",
        "* Cuisine Style: Кухня\n",
        "* Ranking: Ранг ресторана относительно других ресторанов в этом городе\n",
        "* Price Range: Цены в ресторане в 3 категориях\n",
        "* Number of Reviews: Количество отзывов\n",
        "* Reviews: 2 последних отзыва и даты этих отзывов\n",
        "* URL_TA: страница ресторана на 'www.tripadvisor.com' \n",
        "* ID_TA: ID ресторана в TripAdvisor\n",
        "* Rating: Рейтинг ресторана"
      ]
    },
    {
      "cell_type": "code",
      "metadata": {
        "id": "R1iWWQNc17jm",
        "colab_type": "code",
        "colab": {}
      },
      "source": [
        " #Выбираем нужные для последующего анализа столбцы\n",
        "df = data[['Ranking', 'Rating', 'Number of Reviews', 'City', 'Price Range', 'Cuisine Style', 'Reviews', 'Restaurant_id', 'ID_TA', 'sample' ]].copy()"
      ],
      "execution_count": null,
      "outputs": []
    },
    {
      "cell_type": "code",
      "metadata": {
        "id": "XbCl2von17jq",
        "colab_type": "code",
        "colab": {},
        "outputId": "1e6f7ed3-f123-4d61-ce61-2ca047708708"
      },
      "source": [
        "df.head()"
      ],
      "execution_count": null,
      "outputs": [
        {
          "output_type": "execute_result",
          "data": {
            "text/html": [
              "<div>\n",
              "<style scoped>\n",
              "    .dataframe tbody tr th:only-of-type {\n",
              "        vertical-align: middle;\n",
              "    }\n",
              "\n",
              "    .dataframe tbody tr th {\n",
              "        vertical-align: top;\n",
              "    }\n",
              "\n",
              "    .dataframe thead th {\n",
              "        text-align: right;\n",
              "    }\n",
              "</style>\n",
              "<table border=\"1\" class=\"dataframe\">\n",
              "  <thead>\n",
              "    <tr style=\"text-align: right;\">\n",
              "      <th></th>\n",
              "      <th>Ranking</th>\n",
              "      <th>Rating</th>\n",
              "      <th>Number of Reviews</th>\n",
              "      <th>City</th>\n",
              "      <th>Price Range</th>\n",
              "      <th>Cuisine Style</th>\n",
              "      <th>Reviews</th>\n",
              "      <th>Restaurant_id</th>\n",
              "      <th>ID_TA</th>\n",
              "      <th>sample</th>\n",
              "    </tr>\n",
              "  </thead>\n",
              "  <tbody>\n",
              "    <tr>\n",
              "      <th>0</th>\n",
              "      <td>12963.0</td>\n",
              "      <td>0.0</td>\n",
              "      <td>4.0</td>\n",
              "      <td>Paris</td>\n",
              "      <td>$$ - $$$</td>\n",
              "      <td>['Bar', 'Pub']</td>\n",
              "      <td>[[], []]</td>\n",
              "      <td>id_0</td>\n",
              "      <td>d10746918</td>\n",
              "      <td>0</td>\n",
              "    </tr>\n",
              "    <tr>\n",
              "      <th>1</th>\n",
              "      <td>106.0</td>\n",
              "      <td>0.0</td>\n",
              "      <td>97.0</td>\n",
              "      <td>Helsinki</td>\n",
              "      <td>$$ - $$$</td>\n",
              "      <td>['European', 'Scandinavian', 'Gluten Free Opti...</td>\n",
              "      <td>[['Very good reviews!', 'Fine dining in Hakani...</td>\n",
              "      <td>id_1</td>\n",
              "      <td>d6674944</td>\n",
              "      <td>0</td>\n",
              "    </tr>\n",
              "    <tr>\n",
              "      <th>2</th>\n",
              "      <td>810.0</td>\n",
              "      <td>0.0</td>\n",
              "      <td>28.0</td>\n",
              "      <td>Edinburgh</td>\n",
              "      <td>$$ - $$$</td>\n",
              "      <td>['Vegetarian Friendly']</td>\n",
              "      <td>[['Better than the Links', 'Ivy Black'], ['12/...</td>\n",
              "      <td>id_2</td>\n",
              "      <td>d13129638</td>\n",
              "      <td>0</td>\n",
              "    </tr>\n",
              "    <tr>\n",
              "      <th>3</th>\n",
              "      <td>1669.0</td>\n",
              "      <td>0.0</td>\n",
              "      <td>202.0</td>\n",
              "      <td>London</td>\n",
              "      <td>$$$$</td>\n",
              "      <td>['Italian', 'Mediterranean', 'European', 'Vege...</td>\n",
              "      <td>[['Most exquisite', 'Delicious and authentic']...</td>\n",
              "      <td>id_3</td>\n",
              "      <td>d680417</td>\n",
              "      <td>0</td>\n",
              "    </tr>\n",
              "    <tr>\n",
              "      <th>4</th>\n",
              "      <td>37.0</td>\n",
              "      <td>0.0</td>\n",
              "      <td>162.0</td>\n",
              "      <td>Bratislava</td>\n",
              "      <td>$$$$</td>\n",
              "      <td>['Italian', 'Mediterranean', 'European', 'Seaf...</td>\n",
              "      <td>[['Always the best in bratislava', 'Very good ...</td>\n",
              "      <td>id_4</td>\n",
              "      <td>d1112354</td>\n",
              "      <td>0</td>\n",
              "    </tr>\n",
              "  </tbody>\n",
              "</table>\n",
              "</div>"
            ],
            "text/plain": [
              "   Ranking  Rating  Number of Reviews        City Price Range  \\\n",
              "0  12963.0     0.0                4.0       Paris    $$ - $$$   \n",
              "1    106.0     0.0               97.0    Helsinki    $$ - $$$   \n",
              "2    810.0     0.0               28.0   Edinburgh    $$ - $$$   \n",
              "3   1669.0     0.0              202.0      London        $$$$   \n",
              "4     37.0     0.0              162.0  Bratislava        $$$$   \n",
              "\n",
              "                                       Cuisine Style  \\\n",
              "0                                     ['Bar', 'Pub']   \n",
              "1  ['European', 'Scandinavian', 'Gluten Free Opti...   \n",
              "2                            ['Vegetarian Friendly']   \n",
              "3  ['Italian', 'Mediterranean', 'European', 'Vege...   \n",
              "4  ['Italian', 'Mediterranean', 'European', 'Seaf...   \n",
              "\n",
              "                                             Reviews Restaurant_id      ID_TA  \\\n",
              "0                                           [[], []]          id_0  d10746918   \n",
              "1  [['Very good reviews!', 'Fine dining in Hakani...          id_1   d6674944   \n",
              "2  [['Better than the Links', 'Ivy Black'], ['12/...          id_2  d13129638   \n",
              "3  [['Most exquisite', 'Delicious and authentic']...          id_3    d680417   \n",
              "4  [['Always the best in bratislava', 'Very good ...          id_4   d1112354   \n",
              "\n",
              "   sample  \n",
              "0       0  \n",
              "1       0  \n",
              "2       0  \n",
              "3       0  \n",
              "4       0  "
            ]
          },
          "metadata": {
            "tags": []
          },
          "execution_count": 9
        }
      ]
    },
    {
      "cell_type": "markdown",
      "metadata": {
        "id": "Kne6AF2Y17jv",
        "colab_type": "text"
      },
      "source": [
        "\n",
        "# Определяю ф-ии для работы с данными"
      ]
    },
    {
      "cell_type": "code",
      "metadata": {
        "id": "qh__4ctF17jv",
        "colab_type": "code",
        "colab": {}
      },
      "source": [
        "allCusines = []\n",
        "\n",
        "def get_cuisines(cuisines):\n",
        "    '''\n",
        "    Список кухонь, если NaN, то возвращаем 'Vegetarian Cusine' - самая популярная\n",
        "    '''\n",
        "    if cuisines == 'NaN': return ['Vegetarian Friendly']\n",
        "    if  cuisines:\n",
        "        cuisines = str(cuisines).replace(\"'\",'\"')\n",
        "        return json.loads(cuisines)\n",
        "    else:\n",
        "        return ['Vegetarian Friendly']\n",
        "    \n",
        "def cuisine_styles_number(row):\n",
        "    '''\n",
        "    Количество видов кухонь\n",
        "    '''\n",
        "    global allCusines\n",
        "    cusines = get_cuisines(row['Cuisine Style'])\n",
        "    \n",
        "    if row['Cuisine Style'] != 'NaN':    \n",
        "        cusines = get_cuisines(row['Cuisine Style'])\n",
        "        allCusines.extend(cusines)\n",
        "        cuisines_number =len(cusines)\n",
        "    else:\n",
        "        cuisines_number = 1\n",
        "   \n",
        "    return cuisines_number\n"
      ],
      "execution_count": null,
      "outputs": []
    },
    {
      "cell_type": "code",
      "metadata": {
        "id": "B8Q_bSfF17jz",
        "colab_type": "code",
        "colab": {}
      },
      "source": [
        "def review_clean(str_in):\n",
        "    '''\n",
        "    Очистка текста в Review    \n",
        "    '''\n",
        "    try:      \n",
        "        \n",
        "        #middle\n",
        "        str = str_in.replace(\"', \\\"\",\"⅞\").replace(\"', '\",\"⅞\").replace(\"\\\", '\",\"⅞\").replace(\"\\\", \\\"\",\"⅞\")# \", \n",
        "        str = str.replace(\"\\\", \\\"\\\"\",\"⅞\").replace(\"\\\"\\\", '\",\"⅞\").replace(\"\\\", \\'\",\"⅞\").replace(\"\\\"\\\", \\'\",\"⅞\")\n",
        "        str = str.replace(\"\\', \\'\",\"⅞\")\n",
        "        #middle\n",
        "        #left\n",
        "        str = str.replace(\"[['\",\"≤\").replace(\"['\",\"⅛\")\n",
        "        #left\n",
        "        #right\n",
        "        str = str.replace(\"']]\",\"≥\").replace(\"']\",\"⅝\")\n",
        "        #right\n",
        "        #cleanups\n",
        "        str = str.replace('\\'', ' ').replace('\\\"', ' ').replace('\\'', ' ').replace('\"', ' ')     \n",
        "        str = str.replace(\"\\\\\", \" \").replace(\"[[`\", \"≤\").replace('\\'\"', '\\'').replace('\\'\\\"', '\\'')\n",
        "        str = str.replace('\"\\'', '\\'').replace('\\\"\\'', '\\'').replace(\"[''\" ,\"≤\").replace(\"[\\'\\'\" ,\"≤\")\n",
        "        str = str.replace('\\'', ' ').replace('\\\"', ' ')\n",
        "        str = str.replace('\\'', ' ').replace('\\\"', ' ')\n",
        "        str = str.replace('\\'', ' ').replace('\"', ' ')\n",
        "        #cleanups\n",
        "        #middle\n",
        "        str = str.replace(\"⅞\", \"', '\")\n",
        "        #middle\n",
        "        #left\n",
        "        str = str.replace(\"≤\", \"[['\").replace(\"⅛\", \"['\").replace('[[ ', '[[ \\'')\n",
        "        #left\n",
        "        #right\n",
        "        str = str.replace(\"≥\" ,\"']]\").replace(\"⅝\", \"']\").replace(' ]', ' \\']')\n",
        "        str = str.replace(', nan]', '\\', \\'nan\\']').replace('[nan, ', '[\\'nan\\', \\'')\n",
        "        #right\n",
        "    except Exception:\n",
        "        print('<----',str_in,'---->')\n",
        "    return str\n"
      ],
      "execution_count": null,
      "outputs": []
    },
    {
      "cell_type": "code",
      "metadata": {
        "id": "T7Ee0Zl_17j5",
        "colab_type": "code",
        "colab": {}
      },
      "source": [
        "def get_city_population():              \n",
        "    '''\n",
        "    Составил руками список городов с населением\n",
        "    '''\n",
        "    retval = { \n",
        "    'London': 8.173900,\n",
        "    'Paris': 2.240621,\n",
        "    'Madrid': 3.155360,\n",
        "    'Barcelona': 1.593075,\n",
        "    'Berlin': 3.326002,\n",
        "    'Milan': 1.331586,\n",
        "    'Rome': 2.870493,\n",
        "    'Prague': 1.272690,\n",
        "    'Lisbon': .547733,\n",
        "    'Vienna': 1.765649,\n",
        "    'Amsterdam': .825080,\n",
        "    'Brussels': .144784,\n",
        "    'Edinburgh': .482005,\n",
        "    'Hamburg': 1.718187,\n",
        "    'Munich': 1.364920,\n",
        "    'Lyon': .496343,\n",
        "    'Stockholm': 1.981263,\n",
        "    'Budapest': 1.744665,\n",
        "    'Warsaw': 1.720398,\n",
        "    'Dublin': .506211 ,\n",
        "    'Copenhagen': 1.246611,\n",
        "    'Athens': 3.168846,\n",
        "    'Zurich': .402275,\n",
        "    'Oporto': .221800,\n",
        "    'Geneva': .196150,\n",
        "    'Krakow': .756183,\n",
        "    'Oslo': .673469,\n",
        "    'Helsinki': .574579,\n",
        "    'Bratislava': .413192,\n",
        "    'Luxembourg': .576249,\n",
        "    'Ljubljana': .277554\n",
        "    }\n",
        "    return retval\n"
      ],
      "execution_count": null,
      "outputs": []
    },
    {
      "cell_type": "code",
      "metadata": {
        "id": "Cc_HBeD117j9",
        "colab_type": "code",
        "colab": {}
      },
      "source": [
        "def positive_words_number(reviews):\n",
        "    '''\n",
        "    Количество позитивных слов в отзывах\n",
        "    '''\n",
        "    pos_words_count = 0\n",
        "    txts=get_reviews(reviews)['reviews_txt']\n",
        "    txt = ' '.join(txts)    \n",
        "    words = createWordList(txt)\n",
        "    \n",
        "    words_count = len(words) if len(words) > 0 else 1\n",
        "    words_count = 1\n",
        "    pos_words_in_review=set(words).intersection(pos_words_list)\n",
        "    for word in words:\n",
        "        if word in pos_words_list:\n",
        "            #print(word)\n",
        "            pos_words_count +=1  \n",
        "    return np.round(pos_words_count/words_count,2)\n",
        "\n",
        "    \n",
        "def createWordList(line):\n",
        "    wordList2 =[]\n",
        "    wordList1 = line.split()\n",
        "    for word in wordList1:\n",
        "        cleanWord = \"\"\n",
        "        for char in word:\n",
        "            if char in '!,.?\":;0123456789':\n",
        "                char = \"\"\n",
        "            cleanWord += char\n",
        "        wordList2.append(cleanWord.lower())\n",
        "    return wordList2\n",
        "\n",
        "def get_reviews(rev):\n",
        "    '''\n",
        "    Получаем review в виде:\n",
        "    review['reviews_txt'][1] - list of reviews\n",
        "    review['reviews_dt'][1] - list of reviews dates\n",
        "    '''\n",
        "    if  not pd.isna(rev): \n",
        "        rev = str(rev).replace(\"'\",'\"')\n",
        "        rev = rev.replace('], [', '], \"reviews_dt\": [')\n",
        "        rev = '{ \"reviews_txt\":' + rev + '}'\n",
        "        rev = rev.replace('[[','[').replace(']]',']')\n",
        "        d = json.loads(rev)\n",
        "\n",
        "        d['reviews_dt'] = [dt.datetime.strptime(date, '%m/%d/%Y').date() if len(date.split('/')[2])==4 else dt.datetime.strptime(date, '%m/%d/%y').date() for date in d['reviews_dt']]\n",
        "        return d\n",
        "    else:\n",
        "        return {}"
      ],
      "execution_count": null,
      "outputs": []
    },
    {
      "cell_type": "code",
      "metadata": {
        "id": "6BC3Dkz317kB",
        "colab_type": "code",
        "colab": {}
      },
      "source": [
        "def rev_time_diff(reviews):\n",
        "    '''\n",
        "    Количество дней между review\n",
        "    '''\n",
        "    if (pd.notna(reviews)):\n",
        "        reviews_dt_list = get_reviews(reviews)['reviews_dt']\n",
        "        if reviews_dt_list:\n",
        "            return (max(reviews_dt_list) - min(reviews_dt_list)).days\n",
        "        else:\n",
        "            return dt.timedelta(days=3650).days\n",
        "    else:\n",
        "        return dt.timedelta(days=3650).days\n",
        "\n",
        "    \n",
        "\n",
        "    \n",
        "\n"
      ],
      "execution_count": null,
      "outputs": []
    },
    {
      "cell_type": "markdown",
      "metadata": {
        "id": "Jarzb-I917kF",
        "colab_type": "text"
      },
      "source": [
        "## Обработка данных. Одновременно создание новых признаков и удаление Nan "
      ]
    },
    {
      "cell_type": "code",
      "metadata": {
        "collapsed": true,
        "id": "USNiJkkn17kG",
        "colab_type": "code",
        "colab": {},
        "outputId": "6e305ce6-b9d1-47c2-f058-f6f2f341bf89"
      },
      "source": [
        "df.info()"
      ],
      "execution_count": null,
      "outputs": [
        {
          "output_type": "stream",
          "text": [
            "<class 'pandas.core.frame.DataFrame'>\n",
            "RangeIndex: 50000 entries, 0 to 49999\n",
            "Data columns (total 10 columns):\n",
            "Ranking              50000 non-null float64\n",
            "Rating               50000 non-null float64\n",
            "Number of Reviews    46800 non-null float64\n",
            "City                 50000 non-null object\n",
            "Price Range          32639 non-null object\n",
            "Cuisine Style        38410 non-null object\n",
            "Reviews              49998 non-null object\n",
            "Restaurant_id        50000 non-null object\n",
            "ID_TA                50000 non-null object\n",
            "sample               50000 non-null int64\n",
            "dtypes: float64(3), int64(1), object(6)\n",
            "memory usage: 3.8+ MB\n"
          ],
          "name": "stdout"
        }
      ]
    },
    {
      "cell_type": "code",
      "metadata": {
        "collapsed": true,
        "id": "TerGZx_817kM",
        "colab_type": "code",
        "colab": {},
        "outputId": "2351269c-8202-4b6e-f490-24f53b7c7228"
      },
      "source": [
        "#Посмотрим на признаки уникальные значения\n",
        "df.nunique(dropna=False)"
      ],
      "execution_count": null,
      "outputs": [
        {
          "output_type": "execute_result",
          "data": {
            "text/plain": [
              "Ranking              12975\n",
              "Rating                  10\n",
              "Number of Reviews     1574\n",
              "City                    31\n",
              "Price Range              4\n",
              "Cuisine Style        10732\n",
              "Reviews              41858\n",
              "Restaurant_id        13094\n",
              "ID_TA                49963\n",
              "sample                   2\n",
              "dtype: int64"
            ]
          },
          "metadata": {
            "tags": []
          },
          "execution_count": 16
        }
      ]
    },
    {
      "cell_type": "code",
      "metadata": {
        "collapsed": true,
        "id": "QMue-NLo17kR",
        "colab_type": "code",
        "colab": {},
        "outputId": "8775cec8-66a4-4f52-b092-45caae6c88b8"
      },
      "source": [
        "df[['Ranking', 'Rating', 'Number of Reviews','Price Range', 'Restaurant_id']].hist(figsize=(20, 10), bins=100);\n",
        "plt.tight_layout()"
      ],
      "execution_count": null,
      "outputs": [
        {
          "output_type": "display_data",
          "data": {
            "image/png": "[encoded data removed]",
            "text/plain": [
              "<Figure size 1440x720 with 4 Axes>"
            ]
          },
          "metadata": {
            "tags": [],
            "needs_background": "light"
          }
        }
      ]
    },
    {
      "cell_type": "code",
      "metadata": {
        "id": "ctMIIPvs17kV",
        "colab_type": "code",
        "colab": {},
        "outputId": "54a8a15d-3b4c-49df-80ee-e67169516fcf"
      },
      "source": [
        "df['ID_TA'].apply(lambda x: x[1:]).astype(int).hist(figsize=(10, 5), bins=100);\n",
        "plt.tight_layout()\n",
        "# получили какие-то группы. надо этот признак оставить."
      ],
      "execution_count": null,
      "outputs": [
        {
          "output_type": "display_data",
          "data": {
            "image/png": "[encoded data removed]",
            "text/plain": [
              "<Figure size 720x360 with 1 Axes>"
            ]
          },
          "metadata": {
            "tags": [],
            "needs_background": "light"
          }
        }
      ]
    },
    {
      "cell_type": "code",
      "metadata": {
        "id": "JE7hInQq17kY",
        "colab_type": "code",
        "colab": {}
      },
      "source": [
        "df['ID_TA'] = df['ID_TA'].apply(lambda x: x[1:]) "
      ],
      "execution_count": null,
      "outputs": []
    },
    {
      "cell_type": "code",
      "metadata": {
        "id": "sX_xTP4U17kb",
        "colab_type": "code",
        "colab": {}
      },
      "source": [
        "# Reviews - Сохраняем где был NaN\n",
        "df['Reviews_txt_NaN'] = df['Reviews'].apply(lambda x: x ==  '[[], []]')\n",
        "\n"
      ],
      "execution_count": null,
      "outputs": []
    },
    {
      "cell_type": "code",
      "metadata": {
        "id": "FjoaASI117ke",
        "colab_type": "code",
        "colab": {}
      },
      "source": [
        "df['Reviews'] = df['Reviews'].fillna('[[], []]')\n",
        "df['Reviews'] = df['Reviews'].apply(lambda x: review_clean(x))"
      ],
      "execution_count": null,
      "outputs": []
    },
    {
      "cell_type": "code",
      "metadata": {
        "id": "jeKQlPy317ki",
        "colab_type": "code",
        "colab": {}
      },
      "source": [
        "# Price Range - удаляем NaN и кодируем в 1, 2, 3\n",
        "price_nums = {'Price Range':     {\"$\": 1, \"$$ - $$$\": 2, \"$$$$\": 3, np.NaN: 2}} # самый частый \"$$ - $$$\" => 2\n",
        "df['Price Range NAN'] = df['Price Range'].isna()\n",
        "df.replace(price_nums, inplace=True)"
      ],
      "execution_count": null,
      "outputs": []
    },
    {
      "cell_type": "code",
      "metadata": {
        "id": "FjQdUttL17kl",
        "colab_type": "code",
        "colab": {}
      },
      "source": [
        "# Удаляем NaN\n",
        "# Получаем Cuisines Count - количество кухонь в ресторане\n",
        "df['Cuisine Style NAN'] = df['Cuisine Style'].isna()\n",
        "df['Cuisine Style'] = df['Cuisine Style'].fillna('NaN')\n",
        "df['Cuisines Count'] = df.apply(cuisine_styles_number, axis=1)\n",
        "\n",
        "#самая популярная кухня\n",
        "most_popular_cusine = pd.Series(allCusines).value_counts().index[0]\n",
        "#most_popular_cusine  => 'Vegetarian Friendly'\n",
        "\n",
        "#среднее к-во кухонь в ресторане\n",
        "average_cousines_count = np.round(df['Cuisines Count'].mean())\n",
        "#average_cousines_count => 3.0 "
      ],
      "execution_count": null,
      "outputs": []
    },
    {
      "cell_type": "code",
      "metadata": {
        "id": "7vduYInm17ko",
        "colab_type": "code",
        "colab": {}
      },
      "source": [
        "# Number of Reviews - Nan заменяем на среднее\n",
        "df['Number of Reviews NAN'] = df['Number of Reviews'].isna()\n",
        "replace_val = df['Number of Reviews'].mean()\n",
        "replace_val = np.round(replace_val)\n",
        "df['Number of Reviews'] = df['Number of Reviews'].fillna(replace_val)"
      ],
      "execution_count": null,
      "outputs": []
    },
    {
      "cell_type": "code",
      "metadata": {
        "id": "h07Pz-Fs17kt",
        "colab_type": "code",
        "colab": {},
        "outputId": "c78b79d4-ecf3-4c8d-9f8c-eae1787515ee"
      },
      "source": [
        "#Распределение Ranking по городам\n",
        "for x in (df['City'].value_counts())[0:10].index:\n",
        "    df['Ranking'][df['City'] == x].hist(bins=100)\n",
        "plt.show()"
      ],
      "execution_count": null,
      "outputs": [
        {
          "output_type": "display_data",
          "data": {
            "image/png": "[encoded data removed]",
            "text/plain": [
              "<Figure size 432x288 with 1 Axes>"
            ]
          },
          "metadata": {
            "tags": [],
            "needs_background": "light"
          }
        }
      ]
    },
    {
      "cell_type": "code",
      "metadata": {
        "id": "OmlOWWe517kz",
        "colab_type": "code",
        "colab": {}
      },
      "source": [
        "# Есть смещение в городах, но это можно поправить, если использовать нормированный параметр\n",
        "mean_Ranking_on_City = df.groupby(['City'])['Ranking'].mean()\n",
        "count_Restorant_in_City = df['City'].value_counts(ascending=False)\n",
        "df['mean_Ranking_on_City'] = df['City'].apply(lambda x: mean_Ranking_on_City[x])\n",
        "df['count_Restorant_in_City'] = df['City'].apply(lambda x: count_Restorant_in_City[x])\n",
        "df['norm_Ranking_on_Rest_in_City'] = (df['Ranking'] - df['mean_Ranking_on_City']) / df['count_Restorant_in_City']\n"
      ],
      "execution_count": null,
      "outputs": []
    },
    {
      "cell_type": "code",
      "metadata": {
        "id": "CuqUIpcs17k3",
        "colab_type": "code",
        "colab": {},
        "outputId": "11a2b81d-15da-41e9-9f5c-3086b72b21fb"
      },
      "source": [
        "# что получилось для 10 городов\n",
        "for x in (df['City'].value_counts())[0:10].index:\n",
        "    df['norm_Ranking_on_Rest_in_City'][df['City'] == x].hist(bins=100)\n",
        "plt.show()"
      ],
      "execution_count": null,
      "outputs": [
        {
          "output_type": "display_data",
          "data": {
            "image/png": "[encoded data removed]",
            "text/plain": [
              "<Figure size 432x288 with 1 Axes>"
            ]
          },
          "metadata": {
            "tags": [],
            "needs_background": "light"
          }
        }
      ]
    },
    {
      "cell_type": "code",
      "metadata": {
        "id": "dt9hkXrY17k7",
        "colab_type": "code",
        "colab": {}
      },
      "source": [
        "#В ходе испытаний выяснилось, что лучше еще добавить группировку по максимальному рангу\n",
        "max_Ranking_on_City = df.groupby(['City'])['Ranking'].max()\n",
        "df['max_Ranking_on_City'] = df['City'].apply(lambda x: max_Ranking_on_City[x])\n",
        "df['norm_Ranking_on_maxRank_in_City'] = (df['Ranking'] - df['mean_Ranking_on_City']) / df['max_Ranking_on_City']"
      ],
      "execution_count": null,
      "outputs": []
    },
    {
      "cell_type": "code",
      "metadata": {
        "id": "jPsXXyUG17k-",
        "colab_type": "code",
        "colab": {},
        "outputId": "8b174d34-4243-45b4-97cc-0b8be2d2bd9c"
      },
      "source": [
        "# что получилось для 10 городов\n",
        "for x in (df['City'].value_counts())[0:10].index:\n",
        "    df['norm_Ranking_on_maxRank_in_City'][df['City'] == x].hist(bins=100)\n",
        "plt.show()"
      ],
      "execution_count": null,
      "outputs": [
        {
          "output_type": "display_data",
          "data": {
            "image/png": "[encoded data removed]",
            "text/plain": [
              "<Figure size 432x288 with 1 Axes>"
            ]
          },
          "metadata": {
            "tags": [],
            "needs_background": "light"
          }
        }
      ]
    },
    {
      "cell_type": "code",
      "metadata": {
        "id": "uYGAmmmT17lC",
        "colab_type": "code",
        "colab": {}
      },
      "source": [
        "# Вычисляем к-во ресторанов для городе\n",
        "restorants_in_city =  df['City'].value_counts(ascending=False)\n",
        "df['Restaurants Count'] = df['City'].map(restorants_in_city)"
      ],
      "execution_count": null,
      "outputs": []
    },
    {
      "cell_type": "code",
      "metadata": {
        "id": "zLgpidA817lG",
        "colab_type": "code",
        "colab": {}
      },
      "source": [
        "# Вычисляем население (в тыс. чел) для города в каждой строке\n",
        "population_city_dict = get_city_population()\n",
        "df['Population'] = df[\"City\"].map(population_city_dict)"
      ],
      "execution_count": null,
      "outputs": []
    },
    {
      "cell_type": "code",
      "metadata": {
        "id": "fhG6KpY-17lJ",
        "colab_type": "code",
        "colab": {}
      },
      "source": [
        "# Вычисляем к-во ресторанов на 1000 чел для города\n",
        "df['Restaurants for Population'] = df['Restaurants Count'] / (df['Population']*1000) #"
      ],
      "execution_count": null,
      "outputs": []
    },
    {
      "cell_type": "code",
      "metadata": {
        "id": "sz3lD4CW17lN",
        "colab_type": "code",
        "colab": {}
      },
      "source": [
        "# isMostPopCusine - есть ли в ресторане самая популярная кухня; \n",
        "# isMultyCusine - к-во кухонь в ресторане больше или столько же чем в среднем\n",
        "df['isMostPopCusine'] = df['Cuisine Style'].apply(lambda x: 1 if most_popular_cusine in x else 0 )\n",
        "df['isMultyCusine'] = df['Cuisines Count'].apply(lambda x: 1 if  x >= average_cousines_count else 0 )"
      ],
      "execution_count": null,
      "outputs": []
    },
    {
      "cell_type": "code",
      "metadata": {
        "id": "q12pL3ug17lQ",
        "colab_type": "code",
        "colab": {}
      },
      "source": [
        "# К-во позитивных слов в представленных отзывах\n",
        "df['PositiveWords'] = df['Reviews'].apply(lambda x: positive_words_number(x))"
      ],
      "execution_count": null,
      "outputs": []
    },
    {
      "cell_type": "code",
      "metadata": {
        "id": "D7o-NDyY17lT",
        "colab_type": "code",
        "colab": {}
      },
      "source": [
        "# Кол-во дней между отзывами\n",
        "df['RevTimeDelta'] = df['Reviews'].apply(rev_time_diff)"
      ],
      "execution_count": null,
      "outputs": []
    },
    {
      "cell_type": "code",
      "metadata": {
        "id": "gqORFXnT17lW",
        "colab_type": "code",
        "colab": {}
      },
      "source": [
        "#Преобразую колонки с True/False в 1/0\n",
        "\n",
        "df['Reviews_txt_NaN'] =  df['Reviews_txt_NaN'].astype(int)\n",
        "df['Price Range NAN'] =  df['Price Range NAN'].astype(int)\n",
        "df['Cuisine Style NAN'] =  df['Cuisine Style NAN'].astype(int)\n",
        "df['Number of Reviews NAN'] =  df['Number of Reviews NAN'].astype(int)\n",
        "df['ID_TA'] = df['ID_TA'].astype(int)\n"
      ],
      "execution_count": null,
      "outputs": []
    },
    {
      "cell_type": "code",
      "metadata": {
        "id": "C3sCsfl117la",
        "colab_type": "code",
        "colab": {}
      },
      "source": [
        "#делаю dummies из City\n",
        "\n",
        "df = pd.get_dummies(df, columns=[ 'City',], dummy_na=True)"
      ],
      "execution_count": null,
      "outputs": []
    },
    {
      "cell_type": "code",
      "metadata": {
        "id": "BuU4cUlW17le",
        "colab_type": "code",
        "colab": {},
        "outputId": "0bbd6609-f340-4da2-ce83-f5126ab52b04"
      },
      "source": [
        "#собираю колонки, которые содержат цифровые данные\n",
        "df_preproc = df.loc[:, df.dtypes != object]\n",
        "df_preproc.info()"
      ],
      "execution_count": null,
      "outputs": [
        {
          "output_type": "stream",
          "text": [
            "<class 'pandas.core.frame.DataFrame'>\n",
            "RangeIndex: 50000 entries, 0 to 49999\n",
            "Data columns (total 55 columns):\n",
            "Ranking                            50000 non-null float64\n",
            "Rating                             50000 non-null float64\n",
            "Number of Reviews                  50000 non-null float64\n",
            "Price Range                        50000 non-null int64\n",
            "ID_TA                              50000 non-null int64\n",
            "sample                             50000 non-null int64\n",
            "Reviews_txt_NaN                    50000 non-null int64\n",
            "Price Range NAN                    50000 non-null int64\n",
            "Cuisine Style NAN                  50000 non-null int64\n",
            "Cuisines Count                     50000 non-null int64\n",
            "Number of Reviews NAN              50000 non-null int64\n",
            "mean_Ranking_on_City               50000 non-null float64\n",
            "count_Restorant_in_City            50000 non-null int64\n",
            "norm_Ranking_on_Rest_in_City       50000 non-null float64\n",
            "max_Ranking_on_City                50000 non-null float64\n",
            "norm_Ranking_on_maxRank_in_City    50000 non-null float64\n",
            "Restaurants Count                  50000 non-null int64\n",
            "Population                         50000 non-null float64\n",
            "Restaurants for Population         50000 non-null float64\n",
            "isMostPopCusine                    50000 non-null int64\n",
            "isMultyCusine                      50000 non-null int64\n",
            "PositiveWords                      50000 non-null float64\n",
            "RevTimeDelta                       50000 non-null int64\n",
            "City_Amsterdam                     50000 non-null uint8\n",
            "City_Athens                        50000 non-null uint8\n",
            "City_Barcelona                     50000 non-null uint8\n",
            "City_Berlin                        50000 non-null uint8\n",
            "City_Bratislava                    50000 non-null uint8\n",
            "City_Brussels                      50000 non-null uint8\n",
            "City_Budapest                      50000 non-null uint8\n",
            "City_Copenhagen                    50000 non-null uint8\n",
            "City_Dublin                        50000 non-null uint8\n",
            "City_Edinburgh                     50000 non-null uint8\n",
            "City_Geneva                        50000 non-null uint8\n",
            "City_Hamburg                       50000 non-null uint8\n",
            "City_Helsinki                      50000 non-null uint8\n",
            "City_Krakow                        50000 non-null uint8\n",
            "City_Lisbon                        50000 non-null uint8\n",
            "City_Ljubljana                     50000 non-null uint8\n",
            "City_London                        50000 non-null uint8\n",
            "City_Luxembourg                    50000 non-null uint8\n",
            "City_Lyon                          50000 non-null uint8\n",
            "City_Madrid                        50000 non-null uint8\n",
            "City_Milan                         50000 non-null uint8\n",
            "City_Munich                        50000 non-null uint8\n",
            "City_Oporto                        50000 non-null uint8\n",
            "City_Oslo                          50000 non-null uint8\n",
            "City_Paris                         50000 non-null uint8\n",
            "City_Prague                        50000 non-null uint8\n",
            "City_Rome                          50000 non-null uint8\n",
            "City_Stockholm                     50000 non-null uint8\n",
            "City_Vienna                        50000 non-null uint8\n",
            "City_Warsaw                        50000 non-null uint8\n",
            "City_Zurich                        50000 non-null uint8\n",
            "City_nan                           50000 non-null uint8\n",
            "dtypes: float64(10), int64(13), uint8(32)\n",
            "memory usage: 10.3 MB\n"
          ],
          "name": "stdout"
        }
      ]
    },
    {
      "cell_type": "markdown",
      "metadata": {
        "id": "6JwUletW17li",
        "colab_type": "text"
      },
      "source": [
        "# Data Preprocessing\n",
        "Теперь, для удобства и воспроизводимости кода, завернем всю обработку в одну большую функцию."
      ]
    },
    {
      "cell_type": "code",
      "metadata": {
        "id": "X8dK7dZG17lj",
        "colab_type": "code",
        "colab": {},
        "outputId": "cbfd19c7-0795-4524-dd43-1215550df1e7"
      },
      "source": [
        "# на всякий случай, заново подгружаем данные\n",
        "df_train = pd.read_csv(DATA_DIR+'/main_task.csv')\n",
        "df_test = pd.read_csv(DATA_DIR+'/kaggle_task.csv')\n",
        "df_train['sample'] = 1 # помечаем где у нас трейн\n",
        "df_test['sample'] = 0 # помечаем где у нас тест\n",
        "df_test['Rating'] = 0 # в тесте у нас нет значения Rating, мы его должны предсказать, по этому пока просто заполняем нулями\n",
        "\n",
        "data = df_test.append(df_train, sort=False).reset_index(drop=True) # объединяем\n",
        "data.info()"
      ],
      "execution_count": null,
      "outputs": [
        {
          "output_type": "stream",
          "text": [
            "<class 'pandas.core.frame.DataFrame'>\n",
            "RangeIndex: 50000 entries, 0 to 49999\n",
            "Data columns (total 11 columns):\n",
            "Restaurant_id        50000 non-null object\n",
            "City                 50000 non-null object\n",
            "Cuisine Style        38410 non-null object\n",
            "Ranking              50000 non-null float64\n",
            "Price Range          32639 non-null object\n",
            "Number of Reviews    46800 non-null float64\n",
            "Reviews              49998 non-null object\n",
            "URL_TA               50000 non-null object\n",
            "ID_TA                50000 non-null object\n",
            "sample               50000 non-null int64\n",
            "Rating               50000 non-null float64\n",
            "dtypes: float64(3), int64(1), object(7)\n",
            "memory usage: 4.2+ MB\n"
          ],
          "name": "stdout"
        }
      ]
    },
    {
      "cell_type": "code",
      "metadata": {
        "id": "iPQczAcv17ll",
        "colab_type": "code",
        "colab": {}
      },
      "source": [
        "def preproc_data(df_input):\n",
        "    '''includes several functions to pre-process the predictor data.'''\n",
        "    \n",
        "    df = df_input[['Ranking', 'Rating', 'Number of Reviews', 'City', 'Price Range', 'Cuisine Style', 'Reviews', 'Restaurant_id', 'ID_TA', 'sample' ]].copy()\n",
        "    \n",
        "    \n",
        "    \n",
        "    \n",
        "    # ################### 1. Предобработка ############################################################## \n",
        "    # убираем не нужные для модели признаки\n",
        "    df['ID_TA'] = df['ID_TA'].apply(lambda x: x[1:]) \n",
        "    df[df['Reviews']=='[[], []]']\n",
        "    df['Reviews_txt_NaN'] = df['Reviews'].apply(lambda x: x ==  '[[], []]')\n",
        "    df['Reviews'] = df['Reviews'].fillna('[[], []]')\n",
        "    df['Reviews'] = df['Reviews'].apply(lambda x: review_clean(x))\n",
        "    cleanup_nums = {'Price Range':     {\"$\": 1, \"$$ - $$$\": 2, \"$$$$\": 3, np.NaN: 2}} # чаще всего встречается \"$$ - $$$\" == 2\n",
        "    df['Price Range NAN'] = df['Price Range'].isna()\n",
        "    df.replace(cleanup_nums, inplace=True)       \n",
        "    df['Cuisine Style NAN'] = df['Cuisine Style'].isna()\n",
        "    df['Cuisine Style'] = df['Cuisine Style'].fillna('NaN')\n",
        "    df['Cuisines Count'] = df.apply(cuisine_styles_number, axis=1)\n",
        "\n",
        "    most_popular_cusine = pd.Series(allCusines).value_counts().index[0]\n",
        "    average_cousines_count = np.round(df['Cuisines Count'].mean())\n",
        "    \n",
        "    df['Number of Reviews NAN'] = df['Number of Reviews'].isna()\n",
        "    replace_val = df['Number of Reviews'].mean()\n",
        "    replace_val = np.round(replace_val)\n",
        "    df['Number of Reviews'] = df['Number of Reviews'].fillna(replace_val)\n",
        "    \n",
        "    \n",
        "    mean_Ranking_on_City = df.groupby(['City'])['Ranking'].mean()\n",
        "    count_Restorant_in_City = df['City'].value_counts(ascending=False)\n",
        "    df['mean_Ranking_on_City'] = df['City'].apply(lambda x: mean_Ranking_on_City[x])\n",
        "    df['count_Restorant_in_City'] = df['City'].apply(lambda x: count_Restorant_in_City[x])\n",
        "    df['norm_Ranking_on_Rest_in_City'] = (df['Ranking'] - df['mean_Ranking_on_City']) / df['count_Restorant_in_City']\n",
        "    \n",
        "    max_Ranking_on_City = df.groupby(['City'])['Ranking'].max()\n",
        "    df['max_Ranking_on_City'] = df['City'].apply(lambda x: max_Ranking_on_City[x])\n",
        "    df['norm_Ranking_on_maxRank_in_City'] = (df['Ranking'] - df['mean_Ranking_on_City']) / df['max_Ranking_on_City']\n",
        "                 \n",
        "    restorants_in_city =  df['City'].value_counts(ascending=False)\n",
        "    df['Restaurants Count'] = df['City'].map(restorants_in_city)\n",
        "    df['Population'] = df[\"City\"].map(population_city_dict)\n",
        "    df['Restaurants for Population'] = df['Restaurants Count'] / (df['Population']*1000) #\n",
        "    df['RevTimeDelta'] = df['Reviews'].apply(rev_time_diff)\n",
        "    df['PositiveWords'] = df['Reviews'].apply(lambda x: positive_words_number(x))\n",
        "    df['Reviews_txt_NaN'] =  df['Reviews_txt_NaN'].astype(int)\n",
        "    df['Price Range NAN'] =  df['Price Range NAN'].astype(int)\n",
        "    df['Cuisine Style NAN'] =  df['Cuisine Style NAN'].astype(int)\n",
        "    df['Number of Reviews NAN'] =  df['Number of Reviews NAN'].astype(int)\n",
        "    df['ID_TA'] = df['ID_TA'].astype(int)\n",
        "    df = pd.get_dummies(df, columns=[ 'City',], dummy_na=True)\n",
        "   \n",
        "    \n",
        "    # ################### 5. Clean #################################################### \n",
        "    # убираем признаки которые еще не успели обработать, \n",
        "    # модель на признаках с dtypes \"object\" обучаться не будет, просто выберим их и удалим\n",
        "    df_output = df.loc[:, df.dtypes != object]\n",
        "    \n",
        "    return df_output"
      ],
      "execution_count": null,
      "outputs": []
    },
    {
      "cell_type": "markdown",
      "metadata": {
        "id": "BIHNyNWa17ls",
        "colab_type": "text"
      },
      "source": [
        "#### Запускаем и проверяем что получилось"
      ]
    },
    {
      "cell_type": "code",
      "metadata": {
        "id": "uPmPQ-Fr17lt",
        "colab_type": "code",
        "colab": {},
        "outputId": "6135fbc7-6bed-4cb2-e9c6-3a3dafbe95a2"
      },
      "source": [
        "df_preproc = preproc_data(data)\n",
        "df_preproc.sample(10)"
      ],
      "execution_count": null,
      "outputs": [
        {
          "output_type": "execute_result",
          "data": {
            "text/html": [
              "<div>\n",
              "<style scoped>\n",
              "    .dataframe tbody tr th:only-of-type {\n",
              "        vertical-align: middle;\n",
              "    }\n",
              "\n",
              "    .dataframe tbody tr th {\n",
              "        vertical-align: top;\n",
              "    }\n",
              "\n",
              "    .dataframe thead th {\n",
              "        text-align: right;\n",
              "    }\n",
              "</style>\n",
              "<table border=\"1\" class=\"dataframe\">\n",
              "  <thead>\n",
              "    <tr style=\"text-align: right;\">\n",
              "      <th></th>\n",
              "      <th>Ranking</th>\n",
              "      <th>Rating</th>\n",
              "      <th>Number of Reviews</th>\n",
              "      <th>Price Range</th>\n",
              "      <th>ID_TA</th>\n",
              "      <th>sample</th>\n",
              "      <th>Reviews_txt_NaN</th>\n",
              "      <th>Price Range NAN</th>\n",
              "      <th>Cuisine Style NAN</th>\n",
              "      <th>Cuisines Count</th>\n",
              "      <th>...</th>\n",
              "      <th>City_Oporto</th>\n",
              "      <th>City_Oslo</th>\n",
              "      <th>City_Paris</th>\n",
              "      <th>City_Prague</th>\n",
              "      <th>City_Rome</th>\n",
              "      <th>City_Stockholm</th>\n",
              "      <th>City_Vienna</th>\n",
              "      <th>City_Warsaw</th>\n",
              "      <th>City_Zurich</th>\n",
              "      <th>City_nan</th>\n",
              "    </tr>\n",
              "  </thead>\n",
              "  <tbody>\n",
              "    <tr>\n",
              "      <th>8590</th>\n",
              "      <td>249.0</td>\n",
              "      <td>0.0</td>\n",
              "      <td>897.0</td>\n",
              "      <td>2</td>\n",
              "      <td>737184</td>\n",
              "      <td>0</td>\n",
              "      <td>0</td>\n",
              "      <td>0</td>\n",
              "      <td>0</td>\n",
              "      <td>3</td>\n",
              "      <td>...</td>\n",
              "      <td>0</td>\n",
              "      <td>0</td>\n",
              "      <td>0</td>\n",
              "      <td>0</td>\n",
              "      <td>0</td>\n",
              "      <td>0</td>\n",
              "      <td>0</td>\n",
              "      <td>0</td>\n",
              "      <td>0</td>\n",
              "      <td>0</td>\n",
              "    </tr>\n",
              "    <tr>\n",
              "      <th>39525</th>\n",
              "      <td>1568.0</td>\n",
              "      <td>3.5</td>\n",
              "      <td>90.0</td>\n",
              "      <td>2</td>\n",
              "      <td>6704176</td>\n",
              "      <td>1</td>\n",
              "      <td>0</td>\n",
              "      <td>0</td>\n",
              "      <td>0</td>\n",
              "      <td>2</td>\n",
              "      <td>...</td>\n",
              "      <td>0</td>\n",
              "      <td>0</td>\n",
              "      <td>0</td>\n",
              "      <td>0</td>\n",
              "      <td>0</td>\n",
              "      <td>0</td>\n",
              "      <td>0</td>\n",
              "      <td>0</td>\n",
              "      <td>0</td>\n",
              "      <td>0</td>\n",
              "    </tr>\n",
              "    <tr>\n",
              "      <th>34849</th>\n",
              "      <td>1283.0</td>\n",
              "      <td>4.0</td>\n",
              "      <td>9.0</td>\n",
              "      <td>2</td>\n",
              "      <td>9776760</td>\n",
              "      <td>1</td>\n",
              "      <td>1</td>\n",
              "      <td>0</td>\n",
              "      <td>0</td>\n",
              "      <td>4</td>\n",
              "      <td>...</td>\n",
              "      <td>0</td>\n",
              "      <td>0</td>\n",
              "      <td>0</td>\n",
              "      <td>0</td>\n",
              "      <td>0</td>\n",
              "      <td>0</td>\n",
              "      <td>0</td>\n",
              "      <td>0</td>\n",
              "      <td>0</td>\n",
              "      <td>0</td>\n",
              "    </tr>\n",
              "    <tr>\n",
              "      <th>495</th>\n",
              "      <td>5701.0</td>\n",
              "      <td>0.0</td>\n",
              "      <td>124.0</td>\n",
              "      <td>2</td>\n",
              "      <td>12516807</td>\n",
              "      <td>0</td>\n",
              "      <td>1</td>\n",
              "      <td>0</td>\n",
              "      <td>0</td>\n",
              "      <td>1</td>\n",
              "      <td>...</td>\n",
              "      <td>0</td>\n",
              "      <td>0</td>\n",
              "      <td>0</td>\n",
              "      <td>0</td>\n",
              "      <td>1</td>\n",
              "      <td>0</td>\n",
              "      <td>0</td>\n",
              "      <td>0</td>\n",
              "      <td>0</td>\n",
              "      <td>0</td>\n",
              "    </tr>\n",
              "    <tr>\n",
              "      <th>19247</th>\n",
              "      <td>11453.0</td>\n",
              "      <td>4.0</td>\n",
              "      <td>6.0</td>\n",
              "      <td>1</td>\n",
              "      <td>7598013</td>\n",
              "      <td>1</td>\n",
              "      <td>0</td>\n",
              "      <td>0</td>\n",
              "      <td>0</td>\n",
              "      <td>2</td>\n",
              "      <td>...</td>\n",
              "      <td>0</td>\n",
              "      <td>0</td>\n",
              "      <td>1</td>\n",
              "      <td>0</td>\n",
              "      <td>0</td>\n",
              "      <td>0</td>\n",
              "      <td>0</td>\n",
              "      <td>0</td>\n",
              "      <td>0</td>\n",
              "      <td>0</td>\n",
              "    </tr>\n",
              "    <tr>\n",
              "      <th>8305</th>\n",
              "      <td>4379.0</td>\n",
              "      <td>0.0</td>\n",
              "      <td>16.0</td>\n",
              "      <td>1</td>\n",
              "      <td>7745225</td>\n",
              "      <td>0</td>\n",
              "      <td>0</td>\n",
              "      <td>0</td>\n",
              "      <td>0</td>\n",
              "      <td>1</td>\n",
              "      <td>...</td>\n",
              "      <td>0</td>\n",
              "      <td>0</td>\n",
              "      <td>0</td>\n",
              "      <td>0</td>\n",
              "      <td>1</td>\n",
              "      <td>0</td>\n",
              "      <td>0</td>\n",
              "      <td>0</td>\n",
              "      <td>0</td>\n",
              "      <td>0</td>\n",
              "    </tr>\n",
              "    <tr>\n",
              "      <th>32763</th>\n",
              "      <td>2034.0</td>\n",
              "      <td>4.0</td>\n",
              "      <td>48.0</td>\n",
              "      <td>1</td>\n",
              "      <td>3138066</td>\n",
              "      <td>1</td>\n",
              "      <td>0</td>\n",
              "      <td>0</td>\n",
              "      <td>0</td>\n",
              "      <td>1</td>\n",
              "      <td>...</td>\n",
              "      <td>0</td>\n",
              "      <td>0</td>\n",
              "      <td>0</td>\n",
              "      <td>0</td>\n",
              "      <td>0</td>\n",
              "      <td>0</td>\n",
              "      <td>0</td>\n",
              "      <td>0</td>\n",
              "      <td>0</td>\n",
              "      <td>0</td>\n",
              "    </tr>\n",
              "    <tr>\n",
              "      <th>48335</th>\n",
              "      <td>3135.0</td>\n",
              "      <td>4.0</td>\n",
              "      <td>126.0</td>\n",
              "      <td>2</td>\n",
              "      <td>4020178</td>\n",
              "      <td>1</td>\n",
              "      <td>0</td>\n",
              "      <td>0</td>\n",
              "      <td>0</td>\n",
              "      <td>2</td>\n",
              "      <td>...</td>\n",
              "      <td>0</td>\n",
              "      <td>0</td>\n",
              "      <td>1</td>\n",
              "      <td>0</td>\n",
              "      <td>0</td>\n",
              "      <td>0</td>\n",
              "      <td>0</td>\n",
              "      <td>0</td>\n",
              "      <td>0</td>\n",
              "      <td>0</td>\n",
              "    </tr>\n",
              "    <tr>\n",
              "      <th>21045</th>\n",
              "      <td>81.0</td>\n",
              "      <td>4.0</td>\n",
              "      <td>307.0</td>\n",
              "      <td>2</td>\n",
              "      <td>776787</td>\n",
              "      <td>1</td>\n",
              "      <td>0</td>\n",
              "      <td>0</td>\n",
              "      <td>0</td>\n",
              "      <td>5</td>\n",
              "      <td>...</td>\n",
              "      <td>0</td>\n",
              "      <td>0</td>\n",
              "      <td>0</td>\n",
              "      <td>0</td>\n",
              "      <td>0</td>\n",
              "      <td>0</td>\n",
              "      <td>0</td>\n",
              "      <td>0</td>\n",
              "      <td>0</td>\n",
              "      <td>0</td>\n",
              "    </tr>\n",
              "    <tr>\n",
              "      <th>20663</th>\n",
              "      <td>1888.0</td>\n",
              "      <td>2.5</td>\n",
              "      <td>44.0</td>\n",
              "      <td>3</td>\n",
              "      <td>1111830</td>\n",
              "      <td>1</td>\n",
              "      <td>0</td>\n",
              "      <td>0</td>\n",
              "      <td>0</td>\n",
              "      <td>2</td>\n",
              "      <td>...</td>\n",
              "      <td>0</td>\n",
              "      <td>0</td>\n",
              "      <td>0</td>\n",
              "      <td>0</td>\n",
              "      <td>0</td>\n",
              "      <td>0</td>\n",
              "      <td>0</td>\n",
              "      <td>0</td>\n",
              "      <td>0</td>\n",
              "      <td>0</td>\n",
              "    </tr>\n",
              "  </tbody>\n",
              "</table>\n",
              "<p>10 rows × 53 columns</p>\n",
              "</div>"
            ],
            "text/plain": [
              "       Ranking  Rating  Number of Reviews  Price Range     ID_TA  sample  \\\n",
              "8590     249.0     0.0              897.0            2    737184       0   \n",
              "39525   1568.0     3.5               90.0            2   6704176       1   \n",
              "34849   1283.0     4.0                9.0            2   9776760       1   \n",
              "495     5701.0     0.0              124.0            2  12516807       0   \n",
              "19247  11453.0     4.0                6.0            1   7598013       1   \n",
              "8305    4379.0     0.0               16.0            1   7745225       0   \n",
              "32763   2034.0     4.0               48.0            1   3138066       1   \n",
              "48335   3135.0     4.0              126.0            2   4020178       1   \n",
              "21045     81.0     4.0              307.0            2    776787       1   \n",
              "20663   1888.0     2.5               44.0            3   1111830       1   \n",
              "\n",
              "       Reviews_txt_NaN  Price Range NAN  Cuisine Style NAN  Cuisines Count  \\\n",
              "8590                 0                0                  0               3   \n",
              "39525                0                0                  0               2   \n",
              "34849                1                0                  0               4   \n",
              "495                  1                0                  0               1   \n",
              "19247                0                0                  0               2   \n",
              "8305                 0                0                  0               1   \n",
              "32763                0                0                  0               1   \n",
              "48335                0                0                  0               2   \n",
              "21045                0                0                  0               5   \n",
              "20663                0                0                  0               2   \n",
              "\n",
              "       ...  City_Oporto  City_Oslo  City_Paris  City_Prague  City_Rome  \\\n",
              "8590   ...            0          0           0            0          0   \n",
              "39525  ...            0          0           0            0          0   \n",
              "34849  ...            0          0           0            0          0   \n",
              "495    ...            0          0           0            0          1   \n",
              "19247  ...            0          0           1            0          0   \n",
              "8305   ...            0          0           0            0          1   \n",
              "32763  ...            0          0           0            0          0   \n",
              "48335  ...            0          0           1            0          0   \n",
              "21045  ...            0          0           0            0          0   \n",
              "20663  ...            0          0           0            0          0   \n",
              "\n",
              "       City_Stockholm  City_Vienna  City_Warsaw  City_Zurich  City_nan  \n",
              "8590                0            0            0            0         0  \n",
              "39525               0            0            0            0         0  \n",
              "34849               0            0            0            0         0  \n",
              "495                 0            0            0            0         0  \n",
              "19247               0            0            0            0         0  \n",
              "8305                0            0            0            0         0  \n",
              "32763               0            0            0            0         0  \n",
              "48335               0            0            0            0         0  \n",
              "21045               0            0            0            0         0  \n",
              "20663               0            0            0            0         0  \n",
              "\n",
              "[10 rows x 53 columns]"
            ]
          },
          "metadata": {
            "tags": []
          },
          "execution_count": 41
        }
      ]
    },
    {
      "cell_type": "code",
      "metadata": {
        "id": "DcL9u1R117lw",
        "colab_type": "code",
        "colab": {},
        "outputId": "8953f31d-a745-4239-8226-873c92f6e942"
      },
      "source": [
        "df_preproc.info()"
      ],
      "execution_count": null,
      "outputs": [
        {
          "output_type": "stream",
          "text": [
            "<class 'pandas.core.frame.DataFrame'>\n",
            "RangeIndex: 50000 entries, 0 to 49999\n",
            "Data columns (total 53 columns):\n",
            "Ranking                            50000 non-null float64\n",
            "Rating                             50000 non-null float64\n",
            "Number of Reviews                  50000 non-null float64\n",
            "Price Range                        50000 non-null int64\n",
            "ID_TA                              50000 non-null int64\n",
            "sample                             50000 non-null int64\n",
            "Reviews_txt_NaN                    50000 non-null int64\n",
            "Price Range NAN                    50000 non-null int64\n",
            "Cuisine Style NAN                  50000 non-null int64\n",
            "Cuisines Count                     50000 non-null int64\n",
            "Number of Reviews NAN              50000 non-null int64\n",
            "mean_Ranking_on_City               50000 non-null float64\n",
            "count_Restorant_in_City            50000 non-null int64\n",
            "norm_Ranking_on_Rest_in_City       50000 non-null float64\n",
            "max_Ranking_on_City                50000 non-null float64\n",
            "norm_Ranking_on_maxRank_in_City    50000 non-null float64\n",
            "Restaurants Count                  50000 non-null int64\n",
            "Population                         50000 non-null float64\n",
            "Restaurants for Population         50000 non-null float64\n",
            "RevTimeDelta                       50000 non-null int64\n",
            "PositiveWords                      50000 non-null float64\n",
            "City_Amsterdam                     50000 non-null uint8\n",
            "City_Athens                        50000 non-null uint8\n",
            "City_Barcelona                     50000 non-null uint8\n",
            "City_Berlin                        50000 non-null uint8\n",
            "City_Bratislava                    50000 non-null uint8\n",
            "City_Brussels                      50000 non-null uint8\n",
            "City_Budapest                      50000 non-null uint8\n",
            "City_Copenhagen                    50000 non-null uint8\n",
            "City_Dublin                        50000 non-null uint8\n",
            "City_Edinburgh                     50000 non-null uint8\n",
            "City_Geneva                        50000 non-null uint8\n",
            "City_Hamburg                       50000 non-null uint8\n",
            "City_Helsinki                      50000 non-null uint8\n",
            "City_Krakow                        50000 non-null uint8\n",
            "City_Lisbon                        50000 non-null uint8\n",
            "City_Ljubljana                     50000 non-null uint8\n",
            "City_London                        50000 non-null uint8\n",
            "City_Luxembourg                    50000 non-null uint8\n",
            "City_Lyon                          50000 non-null uint8\n",
            "City_Madrid                        50000 non-null uint8\n",
            "City_Milan                         50000 non-null uint8\n",
            "City_Munich                        50000 non-null uint8\n",
            "City_Oporto                        50000 non-null uint8\n",
            "City_Oslo                          50000 non-null uint8\n",
            "City_Paris                         50000 non-null uint8\n",
            "City_Prague                        50000 non-null uint8\n",
            "City_Rome                          50000 non-null uint8\n",
            "City_Stockholm                     50000 non-null uint8\n",
            "City_Vienna                        50000 non-null uint8\n",
            "City_Warsaw                        50000 non-null uint8\n",
            "City_Zurich                        50000 non-null uint8\n",
            "City_nan                           50000 non-null uint8\n",
            "dtypes: float64(10), int64(11), uint8(32)\n",
            "memory usage: 9.5 MB\n"
          ],
          "name": "stdout"
        }
      ]
    },
    {
      "cell_type": "code",
      "metadata": {
        "id": "vhxu-ja-17lz",
        "colab_type": "code",
        "colab": {}
      },
      "source": [
        "# Теперь выделим тестовую часть\n",
        "train_data = df_preproc.query('sample == 1').drop(['sample'], axis=1)\n",
        "test_data = df_preproc.query('sample == 0').drop(['sample'], axis=1)\n",
        "\n",
        "y = train_data.Rating.values            # наш таргет\n",
        "X = train_data.drop(['Rating'], axis=1)"
      ],
      "execution_count": null,
      "outputs": []
    },
    {
      "cell_type": "markdown",
      "metadata": {
        "id": "v0V1_J7_17l3",
        "colab_type": "text"
      },
      "source": [
        "**Перед тем как отправлять наши данные на обучение, разделим данные на еще один тест и трейн, для валидации. \n",
        "Это поможет нам проверить, как хорошо наша модель работает, до отправки submissiona на kaggle.**"
      ]
    },
    {
      "cell_type": "code",
      "metadata": {
        "id": "aN360urp17l4",
        "colab_type": "code",
        "colab": {}
      },
      "source": [
        "# Воспользуемся специальной функцие train_test_split для разбивки тестовых данных\n",
        "# выделим 20% данных на валидацию (параметр test_size)\n",
        "X_train, X_test, y_train, y_test = train_test_split(X, y, test_size=0.2, random_state=RANDOM_SEED)"
      ],
      "execution_count": null,
      "outputs": []
    },
    {
      "cell_type": "code",
      "metadata": {
        "id": "fSSr-ydp17l_",
        "colab_type": "code",
        "colab": {},
        "outputId": "aa171374-c417-491d-e5a0-76a13d6293c1"
      },
      "source": [
        "# проверяем\n",
        "test_data.shape, train_data.shape, X.shape, X_train.shape, X_test.shape"
      ],
      "execution_count": null,
      "outputs": [
        {
          "output_type": "execute_result",
          "data": {
            "text/plain": [
              "((10000, 52), (40000, 52), (40000, 51), (32000, 51), (8000, 51))"
            ]
          },
          "metadata": {
            "tags": []
          },
          "execution_count": 45
        }
      ]
    },
    {
      "cell_type": "markdown",
      "metadata": {
        "id": "79k-4due17mF",
        "colab_type": "text"
      },
      "source": [
        "# Model \n",
        "Сам ML"
      ]
    },
    {
      "cell_type": "code",
      "metadata": {
        "id": "-1k4FVrB17mF",
        "colab_type": "code",
        "colab": {}
      },
      "source": [
        "# Импортируем необходимые библиотеки:\n",
        "from sklearn.ensemble import RandomForestRegressor # инструмент для создания и обучения модели\n",
        "from sklearn import metrics # инструменты для оценки точности модели"
      ],
      "execution_count": null,
      "outputs": []
    },
    {
      "cell_type": "code",
      "metadata": {
        "id": "pU26rm0F17mI",
        "colab_type": "code",
        "colab": {}
      },
      "source": [
        "# Создаём модель (НАСТРОЙКИ НЕ ТРОГАЕМ)\n",
        "model = RandomForestRegressor(n_estimators=100, verbose=1, n_jobs=-1, random_state=RANDOM_SEED)"
      ],
      "execution_count": null,
      "outputs": []
    },
    {
      "cell_type": "code",
      "metadata": {
        "id": "KHEUk44P17mL",
        "colab_type": "code",
        "colab": {},
        "outputId": "ef927f04-8e07-49de-9fb2-3508e1e75cfa"
      },
      "source": [
        "# Обучаем модель на тестовом наборе данных\n",
        "model.fit(X_train, y_train)\n",
        "\n",
        "# Используем обученную модель для предсказания рейтинга ресторанов в тестовой выборке.\n",
        "# Предсказанные значения записываем в переменную y_pred\n",
        "y_pred = model.predict(X_test)"
      ],
      "execution_count": null,
      "outputs": [
        {
          "output_type": "stream",
          "text": [
            "[Parallel(n_jobs=-1)]: Using backend ThreadingBackend with 4 concurrent workers.\n",
            "[Parallel(n_jobs=-1)]: Done  42 tasks      | elapsed:    5.9s\n",
            "[Parallel(n_jobs=-1)]: Done 100 out of 100 | elapsed:   13.4s finished\n",
            "[Parallel(n_jobs=4)]: Using backend ThreadingBackend with 4 concurrent workers.\n",
            "[Parallel(n_jobs=4)]: Done  42 tasks      | elapsed:    0.0s\n",
            "[Parallel(n_jobs=4)]: Done 100 out of 100 | elapsed:    0.1s finished\n"
          ],
          "name": "stderr"
        }
      ]
    },
    {
      "cell_type": "code",
      "metadata": {
        "id": "dDh9Xpp317mN",
        "colab_type": "code",
        "colab": {},
        "outputId": "d25c7ae4-0c44-481c-f589-5b8082998526"
      },
      "source": [
        "# Сравниваем предсказанные значения (y_pred) с реальными (y_test), и смотрим насколько они в среднем отличаются\n",
        "# Метрика называется Mean Absolute Error (MAE) и показывает среднее отклонение предсказанных значений от фактических.\n",
        "print('MAE:', metrics.mean_absolute_error(y_test, y_pred))"
      ],
      "execution_count": null,
      "outputs": [
        {
          "output_type": "stream",
          "text": [
            "MAE: 0.20078375\n"
          ],
          "name": "stdout"
        }
      ]
    },
    {
      "cell_type": "code",
      "metadata": {
        "id": "FzxDndDo17mT",
        "colab_type": "code",
        "colab": {},
        "outputId": "6f79de85-4570-4b4b-e319-4b925187b6fd"
      },
      "source": [
        "# в RandomForestRegressor есть возможность вывести самые важные признаки для модели\n",
        "plt.rcParams['figure.figsize'] = (10,10)\n",
        "feat_importances = pd.Series(model.feature_importances_, index=X.columns)\n",
        "feat_importances.nlargest(15).plot(kind='barh')"
      ],
      "execution_count": null,
      "outputs": [
        {
          "output_type": "execute_result",
          "data": {
            "text/plain": [
              "<matplotlib.axes._subplots.AxesSubplot at 0x7fe5e716d518>"
            ]
          },
          "metadata": {
            "tags": []
          },
          "execution_count": 50
        },
        {
          "output_type": "display_data",
          "data": {
            "image/png": "[encoded data removed]",
            "text/plain": [
              "<Figure size 720x720 with 1 Axes>"
            ]
          },
          "metadata": {
            "tags": [],
            "needs_background": "light"
          }
        }
      ]
    },
    {
      "cell_type": "markdown",
      "metadata": {
        "id": "7aeb9xuD17mW",
        "colab_type": "text"
      },
      "source": [
        "# Submission\n",
        "Если все устраевает - готовим Submission на кагл"
      ]
    },
    {
      "cell_type": "code",
      "metadata": {
        "id": "X-5rEI8i17mZ",
        "colab_type": "code",
        "colab": {},
        "outputId": "3f7ff96b-7ee4-4be2-d9ff-5258ee833a59"
      },
      "source": [
        "test_data.sample(10)"
      ],
      "execution_count": null,
      "outputs": [
        {
          "output_type": "execute_result",
          "data": {
            "text/html": [
              "<div>\n",
              "<style scoped>\n",
              "    .dataframe tbody tr th:only-of-type {\n",
              "        vertical-align: middle;\n",
              "    }\n",
              "\n",
              "    .dataframe tbody tr th {\n",
              "        vertical-align: top;\n",
              "    }\n",
              "\n",
              "    .dataframe thead th {\n",
              "        text-align: right;\n",
              "    }\n",
              "</style>\n",
              "<table border=\"1\" class=\"dataframe\">\n",
              "  <thead>\n",
              "    <tr style=\"text-align: right;\">\n",
              "      <th></th>\n",
              "      <th>Ranking</th>\n",
              "      <th>Rating</th>\n",
              "      <th>Number of Reviews</th>\n",
              "      <th>Price Range</th>\n",
              "      <th>ID_TA</th>\n",
              "      <th>Reviews_txt_NaN</th>\n",
              "      <th>Price Range NAN</th>\n",
              "      <th>Cuisine Style NAN</th>\n",
              "      <th>Cuisines Count</th>\n",
              "      <th>Number of Reviews NAN</th>\n",
              "      <th>...</th>\n",
              "      <th>City_Oporto</th>\n",
              "      <th>City_Oslo</th>\n",
              "      <th>City_Paris</th>\n",
              "      <th>City_Prague</th>\n",
              "      <th>City_Rome</th>\n",
              "      <th>City_Stockholm</th>\n",
              "      <th>City_Vienna</th>\n",
              "      <th>City_Warsaw</th>\n",
              "      <th>City_Zurich</th>\n",
              "      <th>City_nan</th>\n",
              "    </tr>\n",
              "  </thead>\n",
              "  <tbody>\n",
              "    <tr>\n",
              "      <th>8854</th>\n",
              "      <td>594.0</td>\n",
              "      <td>0.0</td>\n",
              "      <td>49.0</td>\n",
              "      <td>2</td>\n",
              "      <td>2287478</td>\n",
              "      <td>0</td>\n",
              "      <td>0</td>\n",
              "      <td>0</td>\n",
              "      <td>3</td>\n",
              "      <td>0</td>\n",
              "      <td>...</td>\n",
              "      <td>0</td>\n",
              "      <td>0</td>\n",
              "      <td>0</td>\n",
              "      <td>0</td>\n",
              "      <td>0</td>\n",
              "      <td>0</td>\n",
              "      <td>0</td>\n",
              "      <td>0</td>\n",
              "      <td>0</td>\n",
              "      <td>0</td>\n",
              "    </tr>\n",
              "    <tr>\n",
              "      <th>8463</th>\n",
              "      <td>3612.0</td>\n",
              "      <td>0.0</td>\n",
              "      <td>112.0</td>\n",
              "      <td>1</td>\n",
              "      <td>3255139</td>\n",
              "      <td>0</td>\n",
              "      <td>0</td>\n",
              "      <td>0</td>\n",
              "      <td>3</td>\n",
              "      <td>0</td>\n",
              "      <td>...</td>\n",
              "      <td>0</td>\n",
              "      <td>0</td>\n",
              "      <td>0</td>\n",
              "      <td>0</td>\n",
              "      <td>0</td>\n",
              "      <td>0</td>\n",
              "      <td>0</td>\n",
              "      <td>0</td>\n",
              "      <td>0</td>\n",
              "      <td>0</td>\n",
              "    </tr>\n",
              "    <tr>\n",
              "      <th>1189</th>\n",
              "      <td>13688.0</td>\n",
              "      <td>0.0</td>\n",
              "      <td>4.0</td>\n",
              "      <td>2</td>\n",
              "      <td>5810138</td>\n",
              "      <td>0</td>\n",
              "      <td>1</td>\n",
              "      <td>1</td>\n",
              "      <td>1</td>\n",
              "      <td>0</td>\n",
              "      <td>...</td>\n",
              "      <td>0</td>\n",
              "      <td>0</td>\n",
              "      <td>0</td>\n",
              "      <td>0</td>\n",
              "      <td>0</td>\n",
              "      <td>0</td>\n",
              "      <td>0</td>\n",
              "      <td>0</td>\n",
              "      <td>0</td>\n",
              "      <td>0</td>\n",
              "    </tr>\n",
              "    <tr>\n",
              "      <th>4714</th>\n",
              "      <td>748.0</td>\n",
              "      <td>0.0</td>\n",
              "      <td>38.0</td>\n",
              "      <td>2</td>\n",
              "      <td>7061140</td>\n",
              "      <td>0</td>\n",
              "      <td>0</td>\n",
              "      <td>0</td>\n",
              "      <td>6</td>\n",
              "      <td>0</td>\n",
              "      <td>...</td>\n",
              "      <td>0</td>\n",
              "      <td>0</td>\n",
              "      <td>0</td>\n",
              "      <td>0</td>\n",
              "      <td>0</td>\n",
              "      <td>0</td>\n",
              "      <td>0</td>\n",
              "      <td>0</td>\n",
              "      <td>0</td>\n",
              "      <td>0</td>\n",
              "    </tr>\n",
              "    <tr>\n",
              "      <th>4193</th>\n",
              "      <td>3131.0</td>\n",
              "      <td>0.0</td>\n",
              "      <td>121.0</td>\n",
              "      <td>1</td>\n",
              "      <td>6575627</td>\n",
              "      <td>0</td>\n",
              "      <td>0</td>\n",
              "      <td>0</td>\n",
              "      <td>1</td>\n",
              "      <td>0</td>\n",
              "      <td>...</td>\n",
              "      <td>0</td>\n",
              "      <td>0</td>\n",
              "      <td>0</td>\n",
              "      <td>0</td>\n",
              "      <td>1</td>\n",
              "      <td>0</td>\n",
              "      <td>0</td>\n",
              "      <td>0</td>\n",
              "      <td>0</td>\n",
              "      <td>0</td>\n",
              "    </tr>\n",
              "    <tr>\n",
              "      <th>6153</th>\n",
              "      <td>2862.0</td>\n",
              "      <td>0.0</td>\n",
              "      <td>4.0</td>\n",
              "      <td>3</td>\n",
              "      <td>10509018</td>\n",
              "      <td>1</td>\n",
              "      <td>0</td>\n",
              "      <td>0</td>\n",
              "      <td>5</td>\n",
              "      <td>0</td>\n",
              "      <td>...</td>\n",
              "      <td>0</td>\n",
              "      <td>0</td>\n",
              "      <td>0</td>\n",
              "      <td>0</td>\n",
              "      <td>0</td>\n",
              "      <td>0</td>\n",
              "      <td>0</td>\n",
              "      <td>0</td>\n",
              "      <td>0</td>\n",
              "      <td>0</td>\n",
              "    </tr>\n",
              "    <tr>\n",
              "      <th>5018</th>\n",
              "      <td>1776.0</td>\n",
              "      <td>0.0</td>\n",
              "      <td>325.0</td>\n",
              "      <td>2</td>\n",
              "      <td>8406963</td>\n",
              "      <td>0</td>\n",
              "      <td>0</td>\n",
              "      <td>0</td>\n",
              "      <td>2</td>\n",
              "      <td>0</td>\n",
              "      <td>...</td>\n",
              "      <td>0</td>\n",
              "      <td>0</td>\n",
              "      <td>0</td>\n",
              "      <td>0</td>\n",
              "      <td>1</td>\n",
              "      <td>0</td>\n",
              "      <td>0</td>\n",
              "      <td>0</td>\n",
              "      <td>0</td>\n",
              "      <td>0</td>\n",
              "    </tr>\n",
              "    <tr>\n",
              "      <th>6618</th>\n",
              "      <td>3389.0</td>\n",
              "      <td>0.0</td>\n",
              "      <td>4.0</td>\n",
              "      <td>2</td>\n",
              "      <td>13196774</td>\n",
              "      <td>1</td>\n",
              "      <td>1</td>\n",
              "      <td>1</td>\n",
              "      <td>1</td>\n",
              "      <td>0</td>\n",
              "      <td>...</td>\n",
              "      <td>0</td>\n",
              "      <td>0</td>\n",
              "      <td>0</td>\n",
              "      <td>0</td>\n",
              "      <td>0</td>\n",
              "      <td>0</td>\n",
              "      <td>1</td>\n",
              "      <td>0</td>\n",
              "      <td>0</td>\n",
              "      <td>0</td>\n",
              "    </tr>\n",
              "    <tr>\n",
              "      <th>3186</th>\n",
              "      <td>3418.0</td>\n",
              "      <td>0.0</td>\n",
              "      <td>34.0</td>\n",
              "      <td>1</td>\n",
              "      <td>10174068</td>\n",
              "      <td>1</td>\n",
              "      <td>0</td>\n",
              "      <td>0</td>\n",
              "      <td>1</td>\n",
              "      <td>0</td>\n",
              "      <td>...</td>\n",
              "      <td>0</td>\n",
              "      <td>0</td>\n",
              "      <td>0</td>\n",
              "      <td>0</td>\n",
              "      <td>1</td>\n",
              "      <td>0</td>\n",
              "      <td>0</td>\n",
              "      <td>0</td>\n",
              "      <td>0</td>\n",
              "      <td>0</td>\n",
              "    </tr>\n",
              "    <tr>\n",
              "      <th>8755</th>\n",
              "      <td>9722.0</td>\n",
              "      <td>0.0</td>\n",
              "      <td>11.0</td>\n",
              "      <td>1</td>\n",
              "      <td>7278616</td>\n",
              "      <td>0</td>\n",
              "      <td>0</td>\n",
              "      <td>0</td>\n",
              "      <td>2</td>\n",
              "      <td>0</td>\n",
              "      <td>...</td>\n",
              "      <td>0</td>\n",
              "      <td>0</td>\n",
              "      <td>0</td>\n",
              "      <td>0</td>\n",
              "      <td>0</td>\n",
              "      <td>0</td>\n",
              "      <td>0</td>\n",
              "      <td>0</td>\n",
              "      <td>0</td>\n",
              "      <td>0</td>\n",
              "    </tr>\n",
              "  </tbody>\n",
              "</table>\n",
              "<p>10 rows × 52 columns</p>\n",
              "</div>"
            ],
            "text/plain": [
              "      Ranking  Rating  Number of Reviews  Price Range     ID_TA  \\\n",
              "8854    594.0     0.0               49.0            2   2287478   \n",
              "8463   3612.0     0.0              112.0            1   3255139   \n",
              "1189  13688.0     0.0                4.0            2   5810138   \n",
              "4714    748.0     0.0               38.0            2   7061140   \n",
              "4193   3131.0     0.0              121.0            1   6575627   \n",
              "6153   2862.0     0.0                4.0            3  10509018   \n",
              "5018   1776.0     0.0              325.0            2   8406963   \n",
              "6618   3389.0     0.0                4.0            2  13196774   \n",
              "3186   3418.0     0.0               34.0            1  10174068   \n",
              "8755   9722.0     0.0               11.0            1   7278616   \n",
              "\n",
              "      Reviews_txt_NaN  Price Range NAN  Cuisine Style NAN  Cuisines Count  \\\n",
              "8854                0                0                  0               3   \n",
              "8463                0                0                  0               3   \n",
              "1189                0                1                  1               1   \n",
              "4714                0                0                  0               6   \n",
              "4193                0                0                  0               1   \n",
              "6153                1                0                  0               5   \n",
              "5018                0                0                  0               2   \n",
              "6618                1                1                  1               1   \n",
              "3186                1                0                  0               1   \n",
              "8755                0                0                  0               2   \n",
              "\n",
              "      Number of Reviews NAN  ...  City_Oporto  City_Oslo  City_Paris  \\\n",
              "8854                      0  ...            0          0           0   \n",
              "8463                      0  ...            0          0           0   \n",
              "1189                      0  ...            0          0           0   \n",
              "4714                      0  ...            0          0           0   \n",
              "4193                      0  ...            0          0           0   \n",
              "6153                      0  ...            0          0           0   \n",
              "5018                      0  ...            0          0           0   \n",
              "6618                      0  ...            0          0           0   \n",
              "3186                      0  ...            0          0           0   \n",
              "8755                      0  ...            0          0           0   \n",
              "\n",
              "      City_Prague  City_Rome  City_Stockholm  City_Vienna  City_Warsaw  \\\n",
              "8854            0          0               0            0            0   \n",
              "8463            0          0               0            0            0   \n",
              "1189            0          0               0            0            0   \n",
              "4714            0          0               0            0            0   \n",
              "4193            0          1               0            0            0   \n",
              "6153            0          0               0            0            0   \n",
              "5018            0          1               0            0            0   \n",
              "6618            0          0               0            1            0   \n",
              "3186            0          1               0            0            0   \n",
              "8755            0          0               0            0            0   \n",
              "\n",
              "      City_Zurich  City_nan  \n",
              "8854            0         0  \n",
              "8463            0         0  \n",
              "1189            0         0  \n",
              "4714            0         0  \n",
              "4193            0         0  \n",
              "6153            0         0  \n",
              "5018            0         0  \n",
              "6618            0         0  \n",
              "3186            0         0  \n",
              "8755            0         0  \n",
              "\n",
              "[10 rows x 52 columns]"
            ]
          },
          "metadata": {
            "tags": []
          },
          "execution_count": 51
        }
      ]
    },
    {
      "cell_type": "code",
      "metadata": {
        "id": "g6GrYXee17md",
        "colab_type": "code",
        "colab": {}
      },
      "source": [
        "test_data = test_data.drop(['Rating'], axis=1)"
      ],
      "execution_count": null,
      "outputs": []
    },
    {
      "cell_type": "code",
      "metadata": {
        "id": "1rd2431A17mk",
        "colab_type": "code",
        "colab": {},
        "outputId": "91b7f054-a30f-4d56-cf2e-9e76c49918b9"
      },
      "source": [
        "sample_submission"
      ],
      "execution_count": null,
      "outputs": [
        {
          "output_type": "execute_result",
          "data": {
            "text/html": [
              "<div>\n",
              "<style scoped>\n",
              "    .dataframe tbody tr th:only-of-type {\n",
              "        vertical-align: middle;\n",
              "    }\n",
              "\n",
              "    .dataframe tbody tr th {\n",
              "        vertical-align: top;\n",
              "    }\n",
              "\n",
              "    .dataframe thead th {\n",
              "        text-align: right;\n",
              "    }\n",
              "</style>\n",
              "<table border=\"1\" class=\"dataframe\">\n",
              "  <thead>\n",
              "    <tr style=\"text-align: right;\">\n",
              "      <th></th>\n",
              "      <th>Restaurant_id</th>\n",
              "      <th>Rating</th>\n",
              "    </tr>\n",
              "  </thead>\n",
              "  <tbody>\n",
              "    <tr>\n",
              "      <th>0</th>\n",
              "      <td>id_0</td>\n",
              "      <td>2.0</td>\n",
              "    </tr>\n",
              "    <tr>\n",
              "      <th>1</th>\n",
              "      <td>id_1</td>\n",
              "      <td>2.5</td>\n",
              "    </tr>\n",
              "    <tr>\n",
              "      <th>2</th>\n",
              "      <td>id_2</td>\n",
              "      <td>4.0</td>\n",
              "    </tr>\n",
              "    <tr>\n",
              "      <th>3</th>\n",
              "      <td>id_3</td>\n",
              "      <td>1.0</td>\n",
              "    </tr>\n",
              "    <tr>\n",
              "      <th>4</th>\n",
              "      <td>id_4</td>\n",
              "      <td>4.0</td>\n",
              "    </tr>\n",
              "    <tr>\n",
              "      <th>...</th>\n",
              "      <td>...</td>\n",
              "      <td>...</td>\n",
              "    </tr>\n",
              "    <tr>\n",
              "      <th>9995</th>\n",
              "      <td>id_9995</td>\n",
              "      <td>3.0</td>\n",
              "    </tr>\n",
              "    <tr>\n",
              "      <th>9996</th>\n",
              "      <td>id_9996</td>\n",
              "      <td>1.5</td>\n",
              "    </tr>\n",
              "    <tr>\n",
              "      <th>9997</th>\n",
              "      <td>id_9997</td>\n",
              "      <td>4.5</td>\n",
              "    </tr>\n",
              "    <tr>\n",
              "      <th>9998</th>\n",
              "      <td>id_9998</td>\n",
              "      <td>1.0</td>\n",
              "    </tr>\n",
              "    <tr>\n",
              "      <th>9999</th>\n",
              "      <td>id_9999</td>\n",
              "      <td>2.5</td>\n",
              "    </tr>\n",
              "  </tbody>\n",
              "</table>\n",
              "<p>10000 rows × 2 columns</p>\n",
              "</div>"
            ],
            "text/plain": [
              "     Restaurant_id  Rating\n",
              "0             id_0     2.0\n",
              "1             id_1     2.5\n",
              "2             id_2     4.0\n",
              "3             id_3     1.0\n",
              "4             id_4     4.0\n",
              "...            ...     ...\n",
              "9995       id_9995     3.0\n",
              "9996       id_9996     1.5\n",
              "9997       id_9997     4.5\n",
              "9998       id_9998     1.0\n",
              "9999       id_9999     2.5\n",
              "\n",
              "[10000 rows x 2 columns]"
            ]
          },
          "metadata": {
            "tags": []
          },
          "execution_count": 53
        }
      ]
    },
    {
      "cell_type": "code",
      "metadata": {
        "id": "eALmTNN417mq",
        "colab_type": "code",
        "colab": {},
        "outputId": "e42b563b-b10b-4021-b12b-a670071ecb1e"
      },
      "source": [
        "predict_submission = model.predict(test_data)"
      ],
      "execution_count": null,
      "outputs": [
        {
          "output_type": "stream",
          "text": [
            "[Parallel(n_jobs=4)]: Using backend ThreadingBackend with 4 concurrent workers.\n",
            "[Parallel(n_jobs=4)]: Done  42 tasks      | elapsed:    0.0s\n",
            "[Parallel(n_jobs=4)]: Done 100 out of 100 | elapsed:    0.1s finished\n"
          ],
          "name": "stderr"
        }
      ]
    },
    {
      "cell_type": "code",
      "metadata": {
        "id": "0Ox035mk17mw",
        "colab_type": "code",
        "colab": {},
        "outputId": "05b75f37-0b17-4ef7-fa6f-7079406e7dc0"
      },
      "source": [
        "predict_submission"
      ],
      "execution_count": null,
      "outputs": [
        {
          "output_type": "execute_result",
          "data": {
            "text/plain": [
              "array([3.155, 4.23 , 4.175, ..., 3.055, 4.31 , 4.225])"
            ]
          },
          "metadata": {
            "tags": []
          },
          "execution_count": 55
        }
      ]
    },
    {
      "cell_type": "code",
      "metadata": {
        "id": "UFDHpHOd17m5",
        "colab_type": "code",
        "colab": {},
        "outputId": "142f50d8-769b-44e1-c238-2975e9d5517b"
      },
      "source": [
        "sample_submission['Rating'] = predict_submission\n",
        "sample_submission.to_csv('submission.csv', index=False)\n",
        "sample_submission.head(10)"
      ],
      "execution_count": null,
      "outputs": [
        {
          "output_type": "execute_result",
          "data": {
            "text/html": [
              "<div>\n",
              "<style scoped>\n",
              "    .dataframe tbody tr th:only-of-type {\n",
              "        vertical-align: middle;\n",
              "    }\n",
              "\n",
              "    .dataframe tbody tr th {\n",
              "        vertical-align: top;\n",
              "    }\n",
              "\n",
              "    .dataframe thead th {\n",
              "        text-align: right;\n",
              "    }\n",
              "</style>\n",
              "<table border=\"1\" class=\"dataframe\">\n",
              "  <thead>\n",
              "    <tr style=\"text-align: right;\">\n",
              "      <th></th>\n",
              "      <th>Restaurant_id</th>\n",
              "      <th>Rating</th>\n",
              "    </tr>\n",
              "  </thead>\n",
              "  <tbody>\n",
              "    <tr>\n",
              "      <th>0</th>\n",
              "      <td>id_0</td>\n",
              "      <td>3.155</td>\n",
              "    </tr>\n",
              "    <tr>\n",
              "      <th>1</th>\n",
              "      <td>id_1</td>\n",
              "      <td>4.230</td>\n",
              "    </tr>\n",
              "    <tr>\n",
              "      <th>2</th>\n",
              "      <td>id_2</td>\n",
              "      <td>4.175</td>\n",
              "    </tr>\n",
              "    <tr>\n",
              "      <th>3</th>\n",
              "      <td>id_3</td>\n",
              "      <td>4.355</td>\n",
              "    </tr>\n",
              "    <tr>\n",
              "      <th>4</th>\n",
              "      <td>id_4</td>\n",
              "      <td>4.410</td>\n",
              "    </tr>\n",
              "    <tr>\n",
              "      <th>5</th>\n",
              "      <td>id_5</td>\n",
              "      <td>4.495</td>\n",
              "    </tr>\n",
              "    <tr>\n",
              "      <th>6</th>\n",
              "      <td>id_6</td>\n",
              "      <td>1.945</td>\n",
              "    </tr>\n",
              "    <tr>\n",
              "      <th>7</th>\n",
              "      <td>id_7</td>\n",
              "      <td>2.805</td>\n",
              "    </tr>\n",
              "    <tr>\n",
              "      <th>8</th>\n",
              "      <td>id_8</td>\n",
              "      <td>4.210</td>\n",
              "    </tr>\n",
              "    <tr>\n",
              "      <th>9</th>\n",
              "      <td>id_9</td>\n",
              "      <td>4.690</td>\n",
              "    </tr>\n",
              "  </tbody>\n",
              "</table>\n",
              "</div>"
            ],
            "text/plain": [
              "  Restaurant_id  Rating\n",
              "0          id_0   3.155\n",
              "1          id_1   4.230\n",
              "2          id_2   4.175\n",
              "3          id_3   4.355\n",
              "4          id_4   4.410\n",
              "5          id_5   4.495\n",
              "6          id_6   1.945\n",
              "7          id_7   2.805\n",
              "8          id_8   4.210\n",
              "9          id_9   4.690"
            ]
          },
          "metadata": {
            "tags": []
          },
          "execution_count": 56
        }
      ]
    },
    {
      "cell_type": "markdown",
      "metadata": {
        "id": "JVyHO5ZT17m9",
        "colab_type": "text"
      },
      "source": [
        "# What's next?\n",
        "Или что делать, чтоб улучшить результат:\n",
        "* Обработать оставшиеся признаки в понятный для машины формат\n",
        "* Посмотреть, что еще можно извлечь из признаков\n",
        "* Сгенерировать новые признаки\n",
        "* Подгрузить дополнительные данные, например: по населению или благосостоянию городов\n",
        "* Подобрать состав признаков\n",
        "\n",
        "В общем, процесс творческий и весьма увлекательный! Удачи в соревновании!\n"
      ]
    },
    {
      "cell_type": "code",
      "metadata": {
        "id": "IxD1r3Wn17m-",
        "colab_type": "code",
        "colab": {}
      },
      "source": [
        ""
      ],
      "execution_count": null,
      "outputs": []
    }
  ]
}
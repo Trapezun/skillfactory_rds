{
  "nbformat": 4,
  "nbformat_minor": 0,
  "metadata": {
    "colab": {
      "name": "project_module_2.ipynb",
      "provenance": [],
      "collapsed_sections": [],
      "include_colab_link": true
    },
    "kernelspec": {
      "name": "python3",
      "display_name": "Python 3"
    }
  },
  "cells": [
    {
      "cell_type": "markdown",
      "metadata": {
        "id": "view-in-github",
        "colab_type": "text"
      },
      "source": [
        "<a href=\"https://colab.research.google.com/github/Trapezun/skillfactory_rds/blob/master/project_module_2.ipynb\" target=\"_parent\"><img src=\"https://colab.research.google.com/assets/colab-badge.svg\" alt=\"Open In Colab\"/></a>"
      ]
    },
    {
      "cell_type": "code",
      "metadata": {
        "id": "lwqTct-GaU2b",
        "colab_type": "code",
        "colab": {
          "base_uri": "https://localhost:8080/",
          "height": 51
        },
        "outputId": "c56bb653-c947-49f9-da78-b519026fb83e"
      },
      "source": [
        "import pandas as pd\n",
        "import matplotlib.pyplot as plt\n",
        "import seaborn as sns\n",
        "from itertools import combinations\n",
        "from scipy.stats import ttest_ind\n",
        "import numpy as np\n",
        "import missingno as msno\n"
      ],
      "execution_count": 1,
      "outputs": [
        {
          "output_type": "stream",
          "text": [
            "/usr/local/lib/python3.6/dist-packages/statsmodels/tools/_testing.py:19: FutureWarning: pandas.util.testing is deprecated. Use the functions in the public API at pandas.testing instead.\n",
            "  import pandas.util.testing as tm\n"
          ],
          "name": "stderr"
        }
      ]
    },
    {
      "cell_type": "code",
      "metadata": {
        "id": "8q5BLE_M47dW",
        "colab_type": "code",
        "colab": {
          "base_uri": "https://localhost:8080/",
          "height": 122
        },
        "outputId": "2286edfb-f355-4b23-a752-03ff7f2b0f15"
      },
      "source": [
        "from google.colab import drive\n",
        "drive.mount(\"/content/drive\", force_remount=True)"
      ],
      "execution_count": 2,
      "outputs": [
        {
          "output_type": "stream",
          "text": [
            "Go to this URL in a browser: https://accounts.google.com/o/oauth2/auth?client_id=947318989803-6bn6qk8qdgf4n4g3pfee6491hc0brc4i.apps.googleusercontent.com&redirect_uri=urn%3aietf%3awg%3aoauth%3a2.0%3aoob&response_type=code&scope=email%20https%3a%2f%2fwww.googleapis.com%2fauth%2fdocs.test%20https%3a%2f%2fwww.googleapis.com%2fauth%2fdrive%20https%3a%2f%2fwww.googleapis.com%2fauth%2fdrive.photos.readonly%20https%3a%2f%2fwww.googleapis.com%2fauth%2fpeopleapi.readonly\n",
            "\n",
            "Enter your authorization code:\n",
            "··········\n",
            "Mounted at /content/drive\n"
          ],
          "name": "stdout"
        }
      ]
    },
    {
      "cell_type": "code",
      "metadata": {
        "id": "2uNXQwfXu5aK",
        "colab_type": "code",
        "colab": {}
      },
      "source": [
        "data = pd.read_csv('/content/drive/My Drive/Colab Notebooks/skillfactory project 2/stud_math.xls')\n",
        "pd.set_option('display.max_rows', 50) # показывать больше строк\n",
        "pd.set_option('display.max_columns', 50) # показывать больше колонок"
      ],
      "execution_count": 39,
      "outputs": []
    },
    {
      "cell_type": "markdown",
      "metadata": {
        "id": "5-3Fo1cRoy10",
        "colab_type": "text"
      },
      "source": [
        "# Первичный осмотр данных"
      ]
    },
    {
      "cell_type": "code",
      "metadata": {
        "id": "0kEcAMP9vCU7",
        "colab_type": "code",
        "colab": {
          "base_uri": "https://localhost:8080/",
          "height": 34
        },
        "outputId": "a4482cb3-6eec-4234-b508-769580be5de2"
      },
      "source": [
        "display(data.shape)"
      ],
      "execution_count": 4,
      "outputs": [
        {
          "output_type": "display_data",
          "data": {
            "text/plain": [
              "(395, 30)"
            ]
          },
          "metadata": {
            "tags": []
          }
        }
      ]
    },
    {
      "cell_type": "markdown",
      "metadata": {
        "id": "KCvznfPDowx2",
        "colab_type": "text"
      },
      "source": [
        "Итого у нас 395 записей всего"
      ]
    },
    {
      "cell_type": "code",
      "metadata": {
        "id": "pDIMXCXp5Dxi",
        "colab_type": "code",
        "colab": {
          "base_uri": "https://localhost:8080/",
          "height": 646
        },
        "outputId": "a5ae8f5a-fe52-456b-f54a-7010c1106915"
      },
      "source": [
        "data.info()"
      ],
      "execution_count": 5,
      "outputs": [
        {
          "output_type": "stream",
          "text": [
            "<class 'pandas.core.frame.DataFrame'>\n",
            "RangeIndex: 395 entries, 0 to 394\n",
            "Data columns (total 30 columns):\n",
            " #   Column               Non-Null Count  Dtype  \n",
            "---  ------               --------------  -----  \n",
            " 0   school               395 non-null    object \n",
            " 1   sex                  395 non-null    object \n",
            " 2   age                  395 non-null    int64  \n",
            " 3   address              378 non-null    object \n",
            " 4   famsize              368 non-null    object \n",
            " 5   Pstatus              350 non-null    object \n",
            " 6   Medu                 392 non-null    float64\n",
            " 7   Fedu                 371 non-null    float64\n",
            " 8   Mjob                 376 non-null    object \n",
            " 9   Fjob                 359 non-null    object \n",
            " 10  reason               378 non-null    object \n",
            " 11  guardian             364 non-null    object \n",
            " 12  traveltime           367 non-null    float64\n",
            " 13  studytime            388 non-null    float64\n",
            " 14  failures             373 non-null    float64\n",
            " 15  schoolsup            386 non-null    object \n",
            " 16  famsup               356 non-null    object \n",
            " 17  paid                 355 non-null    object \n",
            " 18  activities           381 non-null    object \n",
            " 19  nursery              379 non-null    object \n",
            " 20  studytime, granular  388 non-null    float64\n",
            " 21  higher               375 non-null    object \n",
            " 22  internet             361 non-null    object \n",
            " 23  romantic             364 non-null    object \n",
            " 24  famrel               368 non-null    float64\n",
            " 25  freetime             384 non-null    float64\n",
            " 26  goout                387 non-null    float64\n",
            " 27  health               380 non-null    float64\n",
            " 28  absences             383 non-null    float64\n",
            " 29  score                389 non-null    float64\n",
            "dtypes: float64(12), int64(1), object(17)\n",
            "memory usage: 92.7+ KB\n"
          ],
          "name": "stdout"
        }
      ]
    },
    {
      "cell_type": "markdown",
      "metadata": {
        "id": "TgTY8u2LpKlm",
        "colab_type": "text"
      },
      "source": [
        "Имеем много колонок с числовыми данными и колонок с текстовыми данными. Почти все колонки имеют пустные значения. Надо будет их обработать перед анализом"
      ]
    },
    {
      "cell_type": "markdown",
      "metadata": {
        "id": "kTxSCIzvpmH0",
        "colab_type": "text"
      },
      "source": [
        "Переименую колонку чтобы было удобнее"
      ]
    },
    {
      "cell_type": "code",
      "metadata": {
        "id": "n7fkZylLu8lN",
        "colab_type": "code",
        "colab": {}
      },
      "source": [
        "data = data.rename(columns={\"studytime, granular\": \"granular\"})"
      ],
      "execution_count": 40,
      "outputs": []
    },
    {
      "cell_type": "markdown",
      "metadata": {
        "id": "cEW0K37sqBeU",
        "colab_type": "text"
      },
      "source": [
        "# Рассмотрим количество пустых значений"
      ]
    },
    {
      "cell_type": "markdown",
      "metadata": {
        "id": "AYNaFlsjpyWc",
        "colab_type": "text"
      },
      "source": [
        "Узнаем для начала в процентном отношении сколько вообще пустых значений в каждой колонке"
      ]
    },
    {
      "cell_type": "code",
      "metadata": {
        "id": "DuDXgcoPvGvL",
        "colab_type": "code",
        "colab": {
          "base_uri": "https://localhost:8080/",
          "height": 493
        },
        "outputId": "44664912-fa35-429d-84e6-032a24aca13a"
      },
      "source": [
        "np.round(data.isna().sum()[data.isna().sum()>0] / data.shape[0], 2)"
      ],
      "execution_count": 7,
      "outputs": [
        {
          "output_type": "execute_result",
          "data": {
            "text/plain": [
              "address       0.04\n",
              "famsize       0.07\n",
              "Pstatus       0.11\n",
              "Medu          0.01\n",
              "Fedu          0.06\n",
              "Mjob          0.05\n",
              "Fjob          0.09\n",
              "reason        0.04\n",
              "guardian      0.08\n",
              "traveltime    0.07\n",
              "studytime     0.02\n",
              "failures      0.06\n",
              "schoolsup     0.02\n",
              "famsup        0.10\n",
              "paid          0.10\n",
              "activities    0.04\n",
              "nursery       0.04\n",
              "granular      0.02\n",
              "higher        0.05\n",
              "internet      0.09\n",
              "romantic      0.08\n",
              "famrel        0.07\n",
              "freetime      0.03\n",
              "goout         0.02\n",
              "health        0.04\n",
              "absences      0.03\n",
              "score         0.02\n",
              "dtype: float64"
            ]
          },
          "metadata": {
            "tags": []
          },
          "execution_count": 7
        }
      ]
    },
    {
      "cell_type": "markdown",
      "metadata": {
        "id": "qftOxzqMvwvw",
        "colab_type": "text"
      },
      "source": [
        "Для всех признаков сначала попробуем дропнуть строки с пропущенными значениями и посмотрим, сколько данных останется:\n"
      ]
    },
    {
      "cell_type": "code",
      "metadata": {
        "id": "rYJrIyRuv2SP",
        "colab_type": "code",
        "colab": {
          "base_uri": "https://localhost:8080/",
          "height": 34
        },
        "outputId": "5ee7f9e3-15fb-40bd-cff1-408184441639"
      },
      "source": [
        "data.dropna().shape[0] / data.shape[0]"
      ],
      "execution_count": 8,
      "outputs": [
        {
          "output_type": "execute_result",
          "data": {
            "text/plain": [
              "0.24556962025316456"
            ]
          },
          "metadata": {
            "tags": []
          },
          "execution_count": 8
        }
      ]
    },
    {
      "cell_type": "markdown",
      "metadata": {
        "id": "1dMpN9SxqhoL",
        "colab_type": "text"
      },
      "source": [
        "Просто так удалить не получится. Надо обрабатывать каждую колонку по отдельности. \n",
        "Покажем пустые значение более наглядно"
      ]
    },
    {
      "cell_type": "code",
      "metadata": {
        "id": "IX3nolz9v2jr",
        "colab_type": "code",
        "colab": {
          "base_uri": "https://localhost:8080/",
          "height": 742
        },
        "outputId": "e1f402e6-f5e7-4b00-a8dd-0125e460187e"
      },
      "source": [
        "fig, ax = plt.subplots(figsize=(20,12))\n",
        "sns_heatmap = sns.heatmap(data.isnull(), yticklabels=False, cbar=False, cmap='viridis')\n"
      ],
      "execution_count": 25,
      "outputs": [
        {
          "output_type": "display_data",
          "data": {
            "image/png": "[encoded data removed]",
            "text/plain": [
              "<Figure size 1440x864 with 1 Axes>"
            ]
          },
          "metadata": {
            "tags": [],
            "needs_background": "light"
          }
        }
      ]
    },
    {
      "cell_type": "markdown",
      "metadata": {
        "id": "8OsBuWCmrNlL",
        "colab_type": "text"
      },
      "source": [
        "Видим не очень приятную картину. Хотя пропусков не много, но они есть почти в каждой колонке. "
      ]
    },
    {
      "cell_type": "markdown",
      "metadata": {
        "id": "dq3Kuw2nwnHv",
        "colab_type": "text"
      },
      "source": [
        "**Важный момент.**  В колонке score тоже есть пустый значения. Их надо удалить тк для нас эти записи безполезны\n"
      ]
    },
    {
      "cell_type": "code",
      "metadata": {
        "id": "JxD2VpcowvDH",
        "colab_type": "code",
        "colab": {}
      },
      "source": [
        "nul =  data[data.score.isnull()].index.tolist()\n",
        "data = data.drop(nul)\n"
      ],
      "execution_count": 41,
      "outputs": []
    },
    {
      "cell_type": "markdown",
      "metadata": {
        "id": "JuKI9Kr1ryuM",
        "colab_type": "text"
      },
      "source": [
        "# Смотрим корреляцию между колонками\n"
      ]
    },
    {
      "cell_type": "markdown",
      "metadata": {
        "id": "TMUvaA5CsKNy",
        "colab_type": "text"
      },
      "source": [
        "Перед тем как работать с численными колонками посмотрим на корреляцию с колонкой **score**."
      ]
    },
    {
      "cell_type": "code",
      "metadata": {
        "id": "JO0VPkI0sHSq",
        "colab_type": "code",
        "colab": {
          "base_uri": "https://localhost:8080/",
          "height": 861
        },
        "outputId": "30282f02-c44a-48da-cfd2-b4a346c04b92"
      },
      "source": [
        "plt.subplots(figsize=(18,15))\n",
        "sns.heatmap(data.corr(),annot=True, square=True, cmap=sns.color_palette(\"coolwarm\", 10000), vmin=-1, center=0)\n",
        "plt.show()"
      ],
      "execution_count": null,
      "outputs": [
        {
          "output_type": "display_data",
          "data": {
            "image/png": "[encoded data removed]",
            "text/plain": [
              "<Figure size 1296x1080 with 2 Axes>"
            ]
          },
          "metadata": {
            "tags": [],
            "needs_background": "light"
          }
        }
      ]
    },
    {
      "cell_type": "markdown",
      "metadata": {
        "id": "o_4sv2J5scEk",
        "colab_type": "text"
      },
      "source": [
        " Как видно, колонка **granular** и **studytime** полностью коррелированы. Удалю **granular**. \n",
        " "
      ]
    },
    {
      "cell_type": "code",
      "metadata": {
        "id": "-03gL_sMtP0d",
        "colab_type": "code",
        "colab": {}
      },
      "source": [
        "data = data.drop('granular', 1)\n"
      ],
      "execution_count": 42,
      "outputs": []
    },
    {
      "cell_type": "markdown",
      "metadata": {
        "id": "t_EQTnieuhQx",
        "colab_type": "text"
      },
      "source": [
        "# Заполняем пустые числовые значения"
      ]
    },
    {
      "cell_type": "markdown",
      "metadata": {
        "id": "BxjqiN1hu8UR",
        "colab_type": "text"
      },
      "source": [
        "Для каждой колонки будут свои значения, которы заменят пустые"
      ]
    },
    {
      "cell_type": "markdown",
      "metadata": {
        "id": "ZA8sF2v_bZfR",
        "colab_type": "text"
      },
      "source": [
        "**Колонки Medu, Fedu, traveltime, famrel, freetime, health, absences,studytime,failures, goout** - беру среднее\n",
        "\n"
      ]
    },
    {
      "cell_type": "code",
      "metadata": {
        "id": "Dm5jLIl2bX3n",
        "colab_type": "code",
        "colab": {}
      },
      "source": [
        "def fillMean(column):\n",
        "  mean = data[column].mean()\n",
        "  data[column] = data[column].fillna(mean)\n",
        "\n",
        "list_of_cols = ['Medu', 'Fedu','traveltime', 'famrel', 'freetime', 'health', 'absences','studytime','failures','goout']\n",
        "for item in list_of_cols:\n",
        "  fillMean(item)\n"
      ],
      "execution_count": 52,
      "outputs": []
    },
    {
      "cell_type": "code",
      "metadata": {
        "id": "B5nx0ibvfxL2",
        "colab_type": "code",
        "colab": {
          "base_uri": "https://localhost:8080/",
          "height": 679
        },
        "outputId": "0c2d1d70-cbbc-494a-d656-f341f5594b11"
      },
      "source": [
        "msno.matrix(data)"
      ],
      "execution_count": 59,
      "outputs": [
        {
          "output_type": "execute_result",
          "data": {
            "text/plain": [
              "<matplotlib.axes._subplots.AxesSubplot at 0x7f97e4f92f28>"
            ]
          },
          "metadata": {
            "tags": []
          },
          "execution_count": 59
        },
        {
          "output_type": "display_data",
          "data": {
            "image/png": "[encoded data removed]",
            "text/plain": [
              "<Figure size 1800x720 with 2 Axes>"
            ]
          },
          "metadata": {
            "tags": [],
            "needs_background": "light"
          }
        }
      ]
    },
    {
      "cell_type": "markdown",
      "metadata": {
        "id": "jUwQQjlqznLV",
        "colab_type": "text"
      },
      "source": [
        "# Рассмотрим разброс числовых значений"
      ]
    },
    {
      "cell_type": "code",
      "metadata": {
        "id": "8Ue34oafzxAr",
        "colab_type": "code",
        "colab": {}
      },
      "source": [
        "def bar(column):  \n",
        "  plt.figure(figsize=(5,2))\n",
        "  sns.boxplot(data[column])"
      ],
      "execution_count": 54,
      "outputs": []
    },
    {
      "cell_type": "code",
      "metadata": {
        "id": "a2lwHWEFz2vr",
        "colab_type": "code",
        "colab": {
          "base_uri": "https://localhost:8080/",
          "height": 1000
        },
        "outputId": "fa6b38b8-b1f1-4b23-e3bb-3e51e3a1c491"
      },
      "source": [
        "for item in list_of_cols:\n",
        "   bar(item)   "
      ],
      "execution_count": 55,
      "outputs": [
        {
          "output_type": "display_data",
          "data": {
            "image/png": "[encoded data removed]",
            "text/plain": [
              "<Figure size 360x144 with 1 Axes>"
            ]
          },
          "metadata": {
            "tags": [],
            "needs_background": "light"
          }
        },
        {
          "output_type": "display_data",
          "data": {
            "image/png": "[encoded data removed]",
            "text/plain": [
              "<Figure size 360x144 with 1 Axes>"
            ]
          },
          "metadata": {
            "tags": [],
            "needs_background": "light"
          }
        },
        {
          "output_type": "display_data",
          "data": {
            "image/png": "[encoded data removed]",
            "text/plain": [
              "<Figure size 360x144 with 1 Axes>"
            ]
          },
          "metadata": {
            "tags": [],
            "needs_background": "light"
          }
        },
        {
          "output_type": "display_data",
          "data": {
            "image/png": "[encoded data removed]",
            "text/plain": [
              "<Figure size 360x144 with 1 Axes>"
            ]
          },
          "metadata": {
            "tags": [],
            "needs_background": "light"
          }
        },
        {
          "output_type": "display_data",
          "data": {
            "image/png": "[encoded data removed]",
            "text/plain": [
              "<Figure size 360x144 with 1 Axes>"
            ]
          },
          "metadata": {
            "tags": [],
            "needs_background": "light"
          }
        },
        {
          "output_type": "display_data",
          "data": {
            "image/png": "[encoded data removed]",
            "text/plain": [
              "<Figure size 360x144 with 1 Axes>"
            ]
          },
          "metadata": {
            "tags": [],
            "needs_background": "light"
          }
        },
        {
          "output_type": "display_data",
          "data": {
            "image/png": "[encoded data removed]",
            "text/plain": [
              "<Figure size 360x144 with 1 Axes>"
            ]
          },
          "metadata": {
            "tags": [],
            "needs_background": "light"
          }
        },
        {
          "output_type": "display_data",
          "data": {
            "image/png": "[encoded data removed]",
            "text/plain": [
              "<Figure size 360x144 with 1 Axes>"
            ]
          },
          "metadata": {
            "tags": [],
            "needs_background": "light"
          }
        },
        {
          "output_type": "display_data",
          "data": {
            "image/png": "[encoded data removed]",
            "text/plain": [
              "<Figure size 360x144 with 1 Axes>"
            ]
          },
          "metadata": {
            "tags": [],
            "needs_background": "light"
          }
        },
        {
          "output_type": "display_data",
          "data": {
            "image/png": "[encoded data removed]",
            "text/plain": [
              "<Figure size 360x144 with 1 Axes>"
            ]
          },
          "metadata": {
            "tags": [],
            "needs_background": "light"
          }
        }
      ]
    },
    {
      "cell_type": "markdown",
      "metadata": {
        "id": "jOKu4T9lg9Ic",
        "colab_type": "text"
      },
      "source": [
        "Работаем с **Fedu**"
      ]
    },
    {
      "cell_type": "code",
      "metadata": {
        "id": "g4A16MCBgl01",
        "colab_type": "code",
        "colab": {
          "base_uri": "https://localhost:8080/",
          "height": 153
        },
        "outputId": "d59c7519-f828-4c42-b936-b3ad765ad709"
      },
      "source": [
        "data[\"Fedu\"].value_counts()"
      ],
      "execution_count": 60,
      "outputs": [
        {
          "output_type": "execute_result",
          "data": {
            "text/plain": [
              "2.000000     105\n",
              "3.000000      94\n",
              "4.000000      88\n",
              "1.000000      75\n",
              "2.627397      24\n",
              "0.000000       2\n",
              "40.000000      1\n",
              "Name: Fedu, dtype: int64"
            ]
          },
          "metadata": {
            "tags": []
          },
          "execution_count": 60
        }
      ]
    },
    {
      "cell_type": "markdown",
      "metadata": {
        "id": "eEorm0XuhDM9",
        "colab_type": "text"
      },
      "source": [
        "Уберем значения 0 и 40"
      ]
    },
    {
      "cell_type": "code",
      "metadata": {
        "id": "eRps8bNChG9V",
        "colab_type": "code",
        "colab": {}
      },
      "source": [
        "delFedu = data[(data['Fedu']==0) | (data['Fedu']==40) ].index.tolist()\n",
        "data = data.drop(delFedu)\n"
      ],
      "execution_count": 64,
      "outputs": []
    },
    {
      "cell_type": "code",
      "metadata": {
        "id": "5vGB1V2ihmdm",
        "colab_type": "code",
        "colab": {
          "base_uri": "https://localhost:8080/",
          "height": 296
        },
        "outputId": "93873a3a-b43a-4356-e435-130c2cee59e0"
      },
      "source": [
        " sns.boxplot(data['Fedu'])"
      ],
      "execution_count": 66,
      "outputs": [
        {
          "output_type": "execute_result",
          "data": {
            "text/plain": [
              "<matplotlib.axes._subplots.AxesSubplot at 0x7f97e4e25e80>"
            ]
          },
          "metadata": {
            "tags": []
          },
          "execution_count": 66
        },
        {
          "output_type": "display_data",
          "data": {
            "image/png": "[encoded data removed]",
            "text/plain": [
              "<Figure size 432x288 with 1 Axes>"
            ]
          },
          "metadata": {
            "tags": [],
            "needs_background": "light"
          }
        }
      ]
    },
    {
      "cell_type": "markdown",
      "metadata": {
        "id": "Qr6ennVRhzsz",
        "colab_type": "text"
      },
      "source": [
        "Работаем с **traveltime** "
      ]
    },
    {
      "cell_type": "code",
      "metadata": {
        "id": "ovgfGQayh6eD",
        "colab_type": "code",
        "colab": {
          "base_uri": "https://localhost:8080/",
          "height": 119
        },
        "outputId": "02069ab1-c70c-4a94-de73-174b11c5d8e9"
      },
      "source": [
        "data[\"traveltime\"].value_counts()"
      ],
      "execution_count": 68,
      "outputs": [
        {
          "output_type": "execute_result",
          "data": {
            "text/plain": [
              "1.000000    239\n",
              "2.000000     92\n",
              "1.434903     28\n",
              "3.000000     20\n",
              "4.000000      7\n",
              "Name: traveltime, dtype: int64"
            ]
          },
          "metadata": {
            "tags": []
          },
          "execution_count": 68
        }
      ]
    },
    {
      "cell_type": "code",
      "metadata": {
        "id": "-AHKwfqbiFVL",
        "colab_type": "code",
        "colab": {}
      },
      "source": [
        "delTraveltime = data[(data['traveltime']==4)].index.tolist()\n",
        "data = data.drop(delTraveltime)"
      ],
      "execution_count": 69,
      "outputs": []
    },
    {
      "cell_type": "markdown",
      "metadata": {
        "id": "Uf6X3mAwiXUD",
        "colab_type": "text"
      },
      "source": [
        "Работаю с **famrel** "
      ]
    },
    {
      "cell_type": "code",
      "metadata": {
        "id": "Ys2Q_dvOia6D",
        "colab_type": "code",
        "colab": {
          "base_uri": "https://localhost:8080/",
          "height": 153
        },
        "outputId": "9aeecc48-b28f-47d7-f137-81db1789d830"
      },
      "source": [
        "data[\"famrel\"].value_counts()"
      ],
      "execution_count": 71,
      "outputs": [
        {
          "output_type": "execute_result",
          "data": {
            "text/plain": [
              " 4.000000    173\n",
              " 5.000000     94\n",
              " 3.000000     61\n",
              " 3.930939     27\n",
              " 2.000000     17\n",
              " 1.000000      6\n",
              "-1.000000      1\n",
              "Name: famrel, dtype: int64"
            ]
          },
          "metadata": {
            "tags": []
          },
          "execution_count": 71
        }
      ]
    },
    {
      "cell_type": "markdown",
      "metadata": {
        "id": "2NU0TXJbiejz",
        "colab_type": "text"
      },
      "source": [
        "Удалю только то, что равно -1, остальные оставлю\n"
      ]
    },
    {
      "cell_type": "code",
      "metadata": {
        "id": "VLVHO2u4ilXD",
        "colab_type": "code",
        "colab": {}
      },
      "source": [
        "delFamrel = data[(data['famrel']==-1)].index.tolist()\n",
        "data = data.drop(delFamrel)"
      ],
      "execution_count": 72,
      "outputs": []
    },
    {
      "cell_type": "markdown",
      "metadata": {
        "id": "oGwaf6iIi4in",
        "colab_type": "text"
      },
      "source": [
        "Работаю с  **freetime**"
      ]
    },
    {
      "cell_type": "code",
      "metadata": {
        "id": "NOG47WOii-IY",
        "colab_type": "code",
        "colab": {
          "base_uri": "https://localhost:8080/",
          "height": 136
        },
        "outputId": "2aa545d3-c85e-4664-bee4-c2f8668a3629"
      },
      "source": [
        "data[\"freetime\"].value_counts()"
      ],
      "execution_count": 74,
      "outputs": [
        {
          "output_type": "execute_result",
          "data": {
            "text/plain": [
              "3.000000    147\n",
              "4.000000    108\n",
              "2.000000     61\n",
              "5.000000     35\n",
              "1.000000     18\n",
              "3.223684      9\n",
              "Name: freetime, dtype: int64"
            ]
          },
          "metadata": {
            "tags": []
          },
          "execution_count": 74
        }
      ]
    },
    {
      "cell_type": "markdown",
      "metadata": {
        "id": "DGwpCwymjPlj",
        "colab_type": "text"
      },
      "source": [
        "Странное значение 3.223684. Удалю его\n"
      ]
    },
    {
      "cell_type": "code",
      "metadata": {
        "id": "xu_D4QJDjTRq",
        "colab_type": "code",
        "colab": {}
      },
      "source": [
        "delFreetime = data[(data['freetime']>3) & (data['freetime']<4)].index.tolist()\n",
        "data = data.drop(delFreetime)"
      ],
      "execution_count": 79,
      "outputs": []
    },
    {
      "cell_type": "code",
      "metadata": {
        "id": "UntcsNmjkTo1",
        "colab_type": "code",
        "colab": {
          "base_uri": "https://localhost:8080/",
          "height": 119
        },
        "outputId": "45e4e8f1-126e-4e93-e4fe-52d3cda5fb74"
      },
      "source": [
        "data[\"freetime\"].value_counts()"
      ],
      "execution_count": 80,
      "outputs": [
        {
          "output_type": "execute_result",
          "data": {
            "text/plain": [
              "3.0    147\n",
              "4.0    108\n",
              "2.0     61\n",
              "5.0     35\n",
              "1.0     18\n",
              "Name: freetime, dtype: int64"
            ]
          },
          "metadata": {
            "tags": []
          },
          "execution_count": 80
        }
      ]
    },
    {
      "cell_type": "markdown",
      "metadata": {
        "id": "ogbzEvyWkdxC",
        "colab_type": "text"
      },
      "source": [
        "Работаю с **absences** "
      ]
    },
    {
      "cell_type": "code",
      "metadata": {
        "id": "nQnV6YZSkakL",
        "colab_type": "code",
        "colab": {
          "base_uri": "https://localhost:8080/",
          "height": 629
        },
        "outputId": "f8a401ce-567f-4d8a-a4b2-458202dfd29f"
      },
      "source": [
        "data[\"absences\"].value_counts()"
      ],
      "execution_count": 84,
      "outputs": [
        {
          "output_type": "execute_result",
          "data": {
            "text/plain": [
              "0.000000      105\n",
              "2.000000       58\n",
              "4.000000       51\n",
              "6.000000       28\n",
              "8.000000       18\n",
              "10.000000      17\n",
              "12.000000      12\n",
              "7.320106       11\n",
              "14.000000       9\n",
              "16.000000       7\n",
              "3.000000        7\n",
              "5.000000        5\n",
              "18.000000       5\n",
              "7.000000        5\n",
              "9.000000        3\n",
              "20.000000       3\n",
              "22.000000       3\n",
              "1.000000        3\n",
              "13.000000       2\n",
              "15.000000       2\n",
              "56.000000       1\n",
              "19.000000       1\n",
              "26.000000       1\n",
              "24.000000       1\n",
              "38.000000       1\n",
              "28.000000       1\n",
              "25.000000       1\n",
              "40.000000       1\n",
              "385.000000      1\n",
              "75.000000       1\n",
              "23.000000       1\n",
              "11.000000       1\n",
              "17.000000       1\n",
              "212.000000      1\n",
              "21.000000       1\n",
              "Name: absences, dtype: int64"
            ]
          },
          "metadata": {
            "tags": []
          },
          "execution_count": 84
        }
      ]
    },
    {
      "cell_type": "code",
      "metadata": {
        "id": "tck58wwrlKNt",
        "colab_type": "code",
        "colab": {
          "base_uri": "https://localhost:8080/",
          "height": 34
        },
        "outputId": "b504c058-5c95-4915-ca0b-c24f11133f1e"
      },
      "source": [
        "median = data[\"absences\"].median()\n",
        "IQR = data[\"absences\"].quantile(0.75) - data[\"absences\"].quantile(0.25)\n",
        "perc25 = data[\"absences\"].quantile(0.25)\n",
        "perc75 = data[\"absences\"].quantile(0.75)\n",
        "print('25-й перцентиль: {},'.format(perc25), '75-й перцентиль: {},'.format(perc75)\n",
        "      , \"IQR: {}, \".format(IQR),\"Границы выбросов: [{f}, {l}].\".format(f=perc25 - 1.5*IQR, l=perc75 + 1.5*IQR))"
      ],
      "execution_count": 85,
      "outputs": [
        {
          "output_type": "stream",
          "text": [
            "25-й перцентиль: 0.0, 75-й перцентиль: 8.0, IQR: 8.0,  Границы выбросов: [-12.0, 20.0].\n"
          ],
          "name": "stdout"
        }
      ]
    },
    {
      "cell_type": "markdown",
      "metadata": {
        "id": "KL1weYCblYlU",
        "colab_type": "text"
      },
      "source": [
        "Удаляю все что больше 20. И странное значение 7.320106"
      ]
    },
    {
      "cell_type": "code",
      "metadata": {
        "id": "5M2itfiYlgaT",
        "colab_type": "code",
        "colab": {}
      },
      "source": [
        "delAbsences = data[(data['absences']>20)].index.tolist()\n",
        "data = data.drop(delAbsences)\n",
        "\n",
        "delAbsences = data[(data['absences']>7) & (data['absences']<8)].index.tolist()\n",
        "data = data.drop(delAbsences)\n"
      ],
      "execution_count": null,
      "outputs": []
    },
    {
      "cell_type": "markdown",
      "metadata": {
        "id": "L7Nh8RiRmioR",
        "colab_type": "text"
      },
      "source": [
        "Работаю с **studytime**"
      ]
    },
    {
      "cell_type": "code",
      "metadata": {
        "id": "aIWBHSvemmUJ",
        "colab_type": "code",
        "colab": {
          "base_uri": "https://localhost:8080/",
          "height": 119
        },
        "outputId": "cf437dec-7394-4c51-ac39-aaec4c9d683f"
      },
      "source": [
        "data[\"studytime\"].value_counts()"
      ],
      "execution_count": 94,
      "outputs": [
        {
          "output_type": "execute_result",
          "data": {
            "text/plain": [
              "2.000000    168\n",
              "1.000000     91\n",
              "3.000000     56\n",
              "4.000000     24\n",
              "2.036649      4\n",
              "Name: studytime, dtype: int64"
            ]
          },
          "metadata": {
            "tags": []
          },
          "execution_count": 94
        }
      ]
    },
    {
      "cell_type": "markdown",
      "metadata": {
        "id": "hsc7p2PRmo1R",
        "colab_type": "text"
      },
      "source": [
        "Удалю 2.036649"
      ]
    },
    {
      "cell_type": "code",
      "metadata": {
        "id": "-o52OOwKms3p",
        "colab_type": "code",
        "colab": {}
      },
      "source": [
        "delStudytime = data[(data['studytime']>2) & (data['studytime']<3)].index.tolist()\n",
        "data = data.drop(delStudytime)"
      ],
      "execution_count": 95,
      "outputs": []
    },
    {
      "cell_type": "markdown",
      "metadata": {
        "id": "r9hYxwwZm6vq",
        "colab_type": "text"
      },
      "source": [
        "Работаю с **failures** "
      ]
    },
    {
      "cell_type": "code",
      "metadata": {
        "id": "ecUofGTxm-1g",
        "colab_type": "code",
        "colab": {
          "base_uri": "https://localhost:8080/",
          "height": 119
        },
        "outputId": "6decef46-ff3d-4a5e-bf4f-1f3f27ccee0c"
      },
      "source": [
        "data[\"failures\"].value_counts()"
      ],
      "execution_count": 96,
      "outputs": [
        {
          "output_type": "execute_result",
          "data": {
            "text/plain": [
              "0.000000    260\n",
              "1.000000     41\n",
              "0.326975     16\n",
              "2.000000     11\n",
              "3.000000     11\n",
              "Name: failures, dtype: int64"
            ]
          },
          "metadata": {
            "tags": []
          },
          "execution_count": 96
        }
      ]
    },
    {
      "cell_type": "markdown",
      "metadata": {
        "id": "p6LBAPBGnG26",
        "colab_type": "text"
      },
      "source": [
        "Удалю 0.326975"
      ]
    },
    {
      "cell_type": "code",
      "metadata": {
        "id": "rh5XpbBnnJJr",
        "colab_type": "code",
        "colab": {}
      },
      "source": [
        "delFailures = data[(data['failures']>0) & (data['failures']<1)].index.tolist()\n",
        "data = data.drop(delFailures)"
      ],
      "execution_count": 97,
      "outputs": []
    },
    {
      "cell_type": "markdown",
      "metadata": {
        "id": "CpZ0EdKP044q",
        "colab_type": "text"
      },
      "source": [
        "# Заполняем пустые номинативные значения"
      ]
    },
    {
      "cell_type": "code",
      "metadata": {
        "id": "C0_qY-na1URa",
        "colab_type": "code",
        "colab": {
          "base_uri": "https://localhost:8080/",
          "height": 34
        },
        "outputId": "64084054-b02f-4f29-c589-5e51ab6eaefd"
      },
      "source": [
        "colsnum = data.select_dtypes(include='object').columns.tolist()"
      ],
      "execution_count": 112,
      "outputs": [
        {
          "output_type": "stream",
          "text": [
            "['school', 'sex', 'address', 'famsize', 'Pstatus', 'Mjob', 'Fjob', 'reason', 'guardian', 'schoolsup', 'famsup', 'paid', 'activities', 'nursery', 'higher', 'internet', 'romantic']\n"
          ],
          "name": "stdout"
        }
      ]
    },
    {
      "cell_type": "code",
      "metadata": {
        "id": "aq4mIsLx7sIn",
        "colab_type": "code",
        "colab": {
          "base_uri": "https://localhost:8080/",
          "height": 173
        },
        "outputId": "9f3066e0-9d18-4356-eacd-c55a68e3d080"
      },
      "source": [
        "data.select_dtypes(include='object').describe()"
      ],
      "execution_count": 108,
      "outputs": [
        {
          "output_type": "execute_result",
          "data": {
            "text/html": [
              "<div>\n",
              "<style scoped>\n",
              "    .dataframe tbody tr th:only-of-type {\n",
              "        vertical-align: middle;\n",
              "    }\n",
              "\n",
              "    .dataframe tbody tr th {\n",
              "        vertical-align: top;\n",
              "    }\n",
              "\n",
              "    .dataframe thead th {\n",
              "        text-align: right;\n",
              "    }\n",
              "</style>\n",
              "<table border=\"1\" class=\"dataframe\">\n",
              "  <thead>\n",
              "    <tr style=\"text-align: right;\">\n",
              "      <th></th>\n",
              "      <th>school</th>\n",
              "      <th>sex</th>\n",
              "      <th>address</th>\n",
              "      <th>famsize</th>\n",
              "      <th>Pstatus</th>\n",
              "      <th>Mjob</th>\n",
              "      <th>Fjob</th>\n",
              "      <th>reason</th>\n",
              "      <th>guardian</th>\n",
              "      <th>schoolsup</th>\n",
              "      <th>famsup</th>\n",
              "      <th>paid</th>\n",
              "      <th>activities</th>\n",
              "      <th>nursery</th>\n",
              "      <th>higher</th>\n",
              "      <th>internet</th>\n",
              "      <th>romantic</th>\n",
              "    </tr>\n",
              "  </thead>\n",
              "  <tbody>\n",
              "    <tr>\n",
              "      <th>count</th>\n",
              "      <td>323</td>\n",
              "      <td>323</td>\n",
              "      <td>323</td>\n",
              "      <td>323</td>\n",
              "      <td>323</td>\n",
              "      <td>323</td>\n",
              "      <td>323</td>\n",
              "      <td>323</td>\n",
              "      <td>323</td>\n",
              "      <td>323</td>\n",
              "      <td>323</td>\n",
              "      <td>323</td>\n",
              "      <td>323</td>\n",
              "      <td>323</td>\n",
              "      <td>323</td>\n",
              "      <td>323</td>\n",
              "      <td>323</td>\n",
              "    </tr>\n",
              "    <tr>\n",
              "      <th>unique</th>\n",
              "      <td>2</td>\n",
              "      <td>2</td>\n",
              "      <td>3</td>\n",
              "      <td>3</td>\n",
              "      <td>3</td>\n",
              "      <td>6</td>\n",
              "      <td>6</td>\n",
              "      <td>5</td>\n",
              "      <td>4</td>\n",
              "      <td>3</td>\n",
              "      <td>3</td>\n",
              "      <td>3</td>\n",
              "      <td>3</td>\n",
              "      <td>3</td>\n",
              "      <td>3</td>\n",
              "      <td>3</td>\n",
              "      <td>3</td>\n",
              "    </tr>\n",
              "    <tr>\n",
              "      <th>top</th>\n",
              "      <td>GP</td>\n",
              "      <td>F</td>\n",
              "      <td>U</td>\n",
              "      <td>GT3</td>\n",
              "      <td>T</td>\n",
              "      <td>other</td>\n",
              "      <td>other</td>\n",
              "      <td>course</td>\n",
              "      <td>mother</td>\n",
              "      <td>no</td>\n",
              "      <td>yes</td>\n",
              "      <td>no</td>\n",
              "      <td>yes</td>\n",
              "      <td>yes</td>\n",
              "      <td>yes</td>\n",
              "      <td>yes</td>\n",
              "      <td>no</td>\n",
              "    </tr>\n",
              "    <tr>\n",
              "      <th>freq</th>\n",
              "      <td>281</td>\n",
              "      <td>171</td>\n",
              "      <td>241</td>\n",
              "      <td>214</td>\n",
              "      <td>263</td>\n",
              "      <td>111</td>\n",
              "      <td>161</td>\n",
              "      <td>114</td>\n",
              "      <td>203</td>\n",
              "      <td>275</td>\n",
              "      <td>180</td>\n",
              "      <td>165</td>\n",
              "      <td>162</td>\n",
              "      <td>247</td>\n",
              "      <td>298</td>\n",
              "      <td>244</td>\n",
              "      <td>201</td>\n",
              "    </tr>\n",
              "  </tbody>\n",
              "</table>\n",
              "</div>"
            ],
            "text/plain": [
              "       school  sex address famsize Pstatus   Mjob   Fjob  reason guardian  \\\n",
              "count     323  323     323     323     323    323    323     323      323   \n",
              "unique      2    2       3       3       3      6      6       5        4   \n",
              "top        GP    F       U     GT3       T  other  other  course   mother   \n",
              "freq      281  171     241     214     263    111    161     114      203   \n",
              "\n",
              "       schoolsup famsup paid activities nursery higher internet romantic  \n",
              "count        323    323  323        323     323    323      323      323  \n",
              "unique         3      3    3          3       3      3        3        3  \n",
              "top           no    yes   no        yes     yes    yes      yes       no  \n",
              "freq         275    180  165        162     247    298      244      201  "
            ]
          },
          "metadata": {
            "tags": []
          },
          "execution_count": 108
        }
      ]
    },
    {
      "cell_type": "markdown",
      "metadata": {
        "id": "RJVIxSZI5dIH",
        "colab_type": "text"
      },
      "source": [
        "Судя по данным в них нет не стандартных значений. Поэтмому просто заменим все пустоты на слово None\n"
      ]
    },
    {
      "cell_type": "code",
      "metadata": {
        "id": "uJgn4EqX5uEG",
        "colab_type": "code",
        "colab": {}
      },
      "source": [
        "for col in colsnum:\n",
        "  data[col] = data[col].astype(str).apply(lambda x: None if pd.isnull(x) else x)"
      ],
      "execution_count": 113,
      "outputs": []
    },
    {
      "cell_type": "code",
      "metadata": {
        "id": "eA37_AF8ASso",
        "colab_type": "code",
        "colab": {}
      },
      "source": [
        "def get_boxplot(column):\n",
        "    fig, ax = plt.subplots(figsize = (14, 4))\n",
        "    sns.boxplot(x=column, y='score', \n",
        "                data=data.loc[data.loc[:, column].isin(data.loc[:, column].value_counts().index)],\n",
        "               ax=ax)\n",
        "    plt.xticks(rotation=45)\n",
        "    ax.set_title('Boxplot for ' + column)\n",
        "    plt.show()\n",
        "\n",
        "def get_stat_dif(column):\n",
        "    cols = data.loc[:, column].value_counts().index    \n",
        "    combinations_all = list(combinations(cols, 2))\n",
        "    for comb in combinations_all:              \n",
        "        ind = ttest_ind(data.loc[data.loc[:, column] == comb[0], 'score'], \n",
        "                        data.loc[data.loc[:, column] == comb[1], 'score'])\n",
        "\n",
        "        if ind.pvalue <= 0.05/len(combinations_all): # Учли поправку Бонферони            \n",
        "            print(ind)\n",
        "\n",
        "            print('Найдены статистически значимые различия для колонки', column)\n",
        "            break"
      ],
      "execution_count": 106,
      "outputs": []
    },
    {
      "cell_type": "markdown",
      "metadata": {
        "id": "X4irUsTR5cV_",
        "colab_type": "text"
      },
      "source": [
        "Рассмотрим распределение **score** в зависимости от значения переменных"
      ]
    },
    {
      "cell_type": "code",
      "metadata": {
        "id": "-R31CJwhAfZE",
        "colab_type": "code",
        "colab": {
          "base_uri": "https://localhost:8080/",
          "height": 153
        },
        "outputId": "22307e76-7e70-4f23-87ee-ba949d55dde2"
      },
      "source": [
        "for col in colsnum:\n",
        "    #get_boxplot(col)\n",
        "    get_stat_dif(col)\n",
        "\n"
      ],
      "execution_count": 117,
      "outputs": [
        {
          "output_type": "stream",
          "text": [
            "Ttest_indResult(statistic=-2.309882885444423, pvalue=0.021528719881201464)\n",
            "Найдены статистически значимые различия для колонки sex\n",
            "Ttest_indResult(statistic=2.7328851852467495, pvalue=0.006642148772041484)\n",
            "Найдены статистически значимые различия для колонки address\n",
            "Ttest_indResult(statistic=-3.113289279559609, pvalue=0.0026190123482948513)\n",
            "Найдены статистически значимые различия для колонки Mjob\n",
            "Ttest_indResult(statistic=2.6140860762799876, pvalue=0.009384894156114062)\n",
            "Найдены статистически значимые различия для колонки higher\n"
          ],
          "name": "stdout"
        }
      ]
    },
    {
      "cell_type": "markdown",
      "metadata": {
        "id": "dG2B15_h7sMu",
        "colab_type": "text"
      },
      "source": [
        "У нас получилось, что есть статистически значимые различия для колонок sex, address, Mjob, и higher\n"
      ]
    },
    {
      "cell_type": "markdown",
      "metadata": {
        "id": "MWYBPA1BACL0",
        "colab_type": "text"
      },
      "source": [
        "Выделим колонки, которые влияют на **score**"
      ]
    },
    {
      "cell_type": "code",
      "metadata": {
        "id": "WS1YEYiS9zcM",
        "colab_type": "code",
        "colab": {
          "base_uri": "https://localhost:8080/",
          "height": 204
        },
        "outputId": "e6bccfc9-192d-453f-ca04-fea816486e86"
      },
      "source": [
        "data_for_model = data.loc[:,  ['age','Medu','Fedu','studytime','failures','goout','traveltime', 'famrel', 'freetime', 'health', 'absences', 'higher', 'sex','address', 'Mjob', 'score']]\n",
        "data_for_model.head() "
      ],
      "execution_count": 119,
      "outputs": [
        {
          "output_type": "execute_result",
          "data": {
            "text/html": [
              "<div>\n",
              "<style scoped>\n",
              "    .dataframe tbody tr th:only-of-type {\n",
              "        vertical-align: middle;\n",
              "    }\n",
              "\n",
              "    .dataframe tbody tr th {\n",
              "        vertical-align: top;\n",
              "    }\n",
              "\n",
              "    .dataframe thead th {\n",
              "        text-align: right;\n",
              "    }\n",
              "</style>\n",
              "<table border=\"1\" class=\"dataframe\">\n",
              "  <thead>\n",
              "    <tr style=\"text-align: right;\">\n",
              "      <th></th>\n",
              "      <th>age</th>\n",
              "      <th>Medu</th>\n",
              "      <th>Fedu</th>\n",
              "      <th>studytime</th>\n",
              "      <th>failures</th>\n",
              "      <th>goout</th>\n",
              "      <th>traveltime</th>\n",
              "      <th>famrel</th>\n",
              "      <th>freetime</th>\n",
              "      <th>health</th>\n",
              "      <th>absences</th>\n",
              "      <th>higher</th>\n",
              "      <th>sex</th>\n",
              "      <th>address</th>\n",
              "      <th>Mjob</th>\n",
              "      <th>score</th>\n",
              "    </tr>\n",
              "  </thead>\n",
              "  <tbody>\n",
              "    <tr>\n",
              "      <th>0</th>\n",
              "      <td>18</td>\n",
              "      <td>4.0</td>\n",
              "      <td>4.0</td>\n",
              "      <td>2.0</td>\n",
              "      <td>0.0</td>\n",
              "      <td>4.0</td>\n",
              "      <td>2.0</td>\n",
              "      <td>4.0</td>\n",
              "      <td>3.0</td>\n",
              "      <td>3.0</td>\n",
              "      <td>6.0</td>\n",
              "      <td>yes</td>\n",
              "      <td>F</td>\n",
              "      <td>U</td>\n",
              "      <td>at_home</td>\n",
              "      <td>30.0</td>\n",
              "    </tr>\n",
              "    <tr>\n",
              "      <th>1</th>\n",
              "      <td>17</td>\n",
              "      <td>1.0</td>\n",
              "      <td>1.0</td>\n",
              "      <td>2.0</td>\n",
              "      <td>0.0</td>\n",
              "      <td>3.0</td>\n",
              "      <td>1.0</td>\n",
              "      <td>5.0</td>\n",
              "      <td>3.0</td>\n",
              "      <td>3.0</td>\n",
              "      <td>4.0</td>\n",
              "      <td>yes</td>\n",
              "      <td>F</td>\n",
              "      <td>U</td>\n",
              "      <td>at_home</td>\n",
              "      <td>30.0</td>\n",
              "    </tr>\n",
              "    <tr>\n",
              "      <th>2</th>\n",
              "      <td>15</td>\n",
              "      <td>1.0</td>\n",
              "      <td>1.0</td>\n",
              "      <td>2.0</td>\n",
              "      <td>3.0</td>\n",
              "      <td>2.0</td>\n",
              "      <td>1.0</td>\n",
              "      <td>4.0</td>\n",
              "      <td>3.0</td>\n",
              "      <td>3.0</td>\n",
              "      <td>10.0</td>\n",
              "      <td>yes</td>\n",
              "      <td>F</td>\n",
              "      <td>U</td>\n",
              "      <td>at_home</td>\n",
              "      <td>50.0</td>\n",
              "    </tr>\n",
              "    <tr>\n",
              "      <th>3</th>\n",
              "      <td>15</td>\n",
              "      <td>4.0</td>\n",
              "      <td>2.0</td>\n",
              "      <td>3.0</td>\n",
              "      <td>0.0</td>\n",
              "      <td>2.0</td>\n",
              "      <td>1.0</td>\n",
              "      <td>3.0</td>\n",
              "      <td>2.0</td>\n",
              "      <td>5.0</td>\n",
              "      <td>2.0</td>\n",
              "      <td>yes</td>\n",
              "      <td>F</td>\n",
              "      <td>U</td>\n",
              "      <td>health</td>\n",
              "      <td>75.0</td>\n",
              "    </tr>\n",
              "    <tr>\n",
              "      <th>4</th>\n",
              "      <td>16</td>\n",
              "      <td>3.0</td>\n",
              "      <td>3.0</td>\n",
              "      <td>2.0</td>\n",
              "      <td>0.0</td>\n",
              "      <td>2.0</td>\n",
              "      <td>1.0</td>\n",
              "      <td>4.0</td>\n",
              "      <td>3.0</td>\n",
              "      <td>5.0</td>\n",
              "      <td>4.0</td>\n",
              "      <td>yes</td>\n",
              "      <td>F</td>\n",
              "      <td>U</td>\n",
              "      <td>other</td>\n",
              "      <td>50.0</td>\n",
              "    </tr>\n",
              "  </tbody>\n",
              "</table>\n",
              "</div>"
            ],
            "text/plain": [
              "   age  Medu  Fedu  studytime  failures  goout  traveltime  famrel  freetime  \\\n",
              "0   18   4.0   4.0        2.0       0.0    4.0         2.0     4.0       3.0   \n",
              "1   17   1.0   1.0        2.0       0.0    3.0         1.0     5.0       3.0   \n",
              "2   15   1.0   1.0        2.0       3.0    2.0         1.0     4.0       3.0   \n",
              "3   15   4.0   2.0        3.0       0.0    2.0         1.0     3.0       2.0   \n",
              "4   16   3.0   3.0        2.0       0.0    2.0         1.0     4.0       3.0   \n",
              "\n",
              "   health  absences higher sex address     Mjob  score  \n",
              "0     3.0       6.0    yes   F       U  at_home   30.0  \n",
              "1     3.0       4.0    yes   F       U  at_home   30.0  \n",
              "2     3.0      10.0    yes   F       U  at_home   50.0  \n",
              "3     5.0       2.0    yes   F       U   health   75.0  \n",
              "4     5.0       4.0    yes   F       U    other   50.0  "
            ]
          },
          "metadata": {
            "tags": []
          },
          "execution_count": 119
        }
      ]
    },
    {
      "cell_type": "markdown",
      "metadata": {
        "id": "O65uvklHALNC",
        "colab_type": "text"
      },
      "source": [
        "# Выводы"
      ]
    },
    {
      "cell_type": "markdown",
      "metadata": {
        "id": "VWW-H7rWAQ_F",
        "colab_type": "text"
      },
      "source": [
        "Итак, в результате EDA для анализа влияния условий жизни учащихся на успеваемость по математике были получены следующие выводы:\n",
        "\n",
        "1. С пустыми значениями следующая ситуация. В каждой характеристике  их не много, но они есть почти у каждой. Тк данных не очень много, то нельзя просто так взять и выкинуть сточку с пустыми значениями. Пришлось их заполнять промежуточными данными без потери корреляции со score\n",
        "\n",
        "2. Были обнаружены пустые значения в столбце score. Такие строчки пришлось удалить. \n",
        "\n",
        "3. В данных были обнаружены выборосы, а так же не корректные данные (дробные числа вместо целых)\n",
        "\n",
        "4. Интересна прямая корреляция итоговых оценок со следующими параметрами\n",
        "\n",
        "Medu — образование матери - чем выше, тем лучше. \n",
        "\n",
        "studytime - чем выше, тем лучше учеба\n",
        "\n",
        "failures — сильное влияние\n",
        "\n",
        "goout — чем больше проводит время с друзьями, тем хуже учеба\n",
        "\n",
        "higher - важно, тк желание получить высшее образование тянет за собой желание \n",
        "поулчать хорошие оценки\n",
        "\n",
        "sex  - у мальчиков оценки выше\n",
        "\n",
        "address - кто из города у того оценки выше\n",
        "\n",
        "Mjob - у кого мама имеет хорошую работу, у того оценки выше\n",
        "\n",
        "\n",
        "\n",
        "\n"
      ]
    },
    {
      "cell_type": "markdown",
      "metadata": {
        "id": "sjaMdDf9DGti",
        "colab_type": "text"
      },
      "source": [
        "Краткий вывод такой - чтобы лучше учиться нужно желание получить высшее образование и больше времени учелять учебе. Так же крайне важно сглаживать последствия внеучебных неудач. \n",
        "Кроме того, важно какое образование у родителей.\n"
      ]
    }
  ]
}
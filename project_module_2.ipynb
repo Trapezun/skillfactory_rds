{
  "nbformat": 4,
  "nbformat_minor": 0,
  "metadata": {
    "colab": {
      "name": "project_module_2.ipynb",
      "provenance": [],
      "collapsed_sections": [],
      "include_colab_link": true
    },
    "kernelspec": {
      "name": "python3",
      "display_name": "Python 3"
    }
  },
  "cells": [
    {
      "cell_type": "markdown",
      "metadata": {
        "id": "view-in-github",
        "colab_type": "text"
      },
      "source": [
        "<a href=\"https://colab.research.google.com/github/Trapezun/skillfactory_rds/blob/master/project_module_2.ipynb\" target=\"_parent\"><img src=\"https://colab.research.google.com/assets/colab-badge.svg\" alt=\"Open In Colab\"/></a>"
      ]
    },
    {
      "cell_type": "code",
      "metadata": {
        "id": "lwqTct-GaU2b",
        "colab_type": "code",
        "outputId": "04075b52-5bb6-4262-e4ce-0b19d7837214",
        "colab": {
          "base_uri": "https://localhost:8080/",
          "height": 51
        }
      },
      "source": [
        "import pandas as pd\n",
        "import matplotlib.pyplot as plt\n",
        "import seaborn as sns\n",
        "from itertools import combinations\n",
        "from scipy.stats import ttest_ind\n",
        "import numpy as np\n"
      ],
      "execution_count": 0,
      "outputs": [
        {
          "output_type": "stream",
          "text": [
            "/usr/local/lib/python3.6/dist-packages/statsmodels/tools/_testing.py:19: FutureWarning: pandas.util.testing is deprecated. Use the functions in the public API at pandas.testing instead.\n",
            "  import pandas.util.testing as tm\n"
          ],
          "name": "stderr"
        }
      ]
    },
    {
      "cell_type": "code",
      "metadata": {
        "id": "8q5BLE_M47dW",
        "colab_type": "code",
        "outputId": "de36ec8d-8411-4040-d938-4bfc162445c4",
        "colab": {
          "base_uri": "https://localhost:8080/",
          "height": 122
        }
      },
      "source": [
        "from google.colab import drive\n",
        "drive.mount(\"/content/drive\", force_remount=True)"
      ],
      "execution_count": 0,
      "outputs": [
        {
          "output_type": "stream",
          "text": [
            "Go to this URL in a browser: https://accounts.google.com/o/oauth2/auth?client_id=947318989803-6bn6qk8qdgf4n4g3pfee6491hc0brc4i.apps.googleusercontent.com&redirect_uri=urn%3aietf%3awg%3aoauth%3a2.0%3aoob&response_type=code&scope=email%20https%3a%2f%2fwww.googleapis.com%2fauth%2fdocs.test%20https%3a%2f%2fwww.googleapis.com%2fauth%2fdrive%20https%3a%2f%2fwww.googleapis.com%2fauth%2fdrive.photos.readonly%20https%3a%2f%2fwww.googleapis.com%2fauth%2fpeopleapi.readonly\n",
            "\n",
            "Enter your authorization code:\n",
            "··········\n",
            "Mounted at /content/drive\n"
          ],
          "name": "stdout"
        }
      ]
    },
    {
      "cell_type": "code",
      "metadata": {
        "id": "2uNXQwfXu5aK",
        "colab_type": "code",
        "colab": {}
      },
      "source": [
        "data = pd.read_csv('/content/drive/My Drive/Colab Notebooks/skillfactory project 2/stud_math.xls')\n",
        "pd.set_option('display.max_rows', 50) # показывать больше строк\n",
        "pd.set_option('display.max_columns', 50) # показывать больше колонок"
      ],
      "execution_count": 0,
      "outputs": []
    },
    {
      "cell_type": "markdown",
      "metadata": {
        "id": "5-3Fo1cRoy10",
        "colab_type": "text"
      },
      "source": [
        "# Первичный осмотр данных"
      ]
    },
    {
      "cell_type": "code",
      "metadata": {
        "id": "0kEcAMP9vCU7",
        "colab_type": "code",
        "outputId": "a729ea97-b1db-450a-f11f-48d14501daae",
        "colab": {
          "base_uri": "https://localhost:8080/",
          "height": 34
        }
      },
      "source": [
        "display(data.shape)"
      ],
      "execution_count": 0,
      "outputs": [
        {
          "output_type": "display_data",
          "data": {
            "text/plain": [
              "(395, 30)"
            ]
          },
          "metadata": {
            "tags": []
          }
        }
      ]
    },
    {
      "cell_type": "markdown",
      "metadata": {
        "id": "KCvznfPDowx2",
        "colab_type": "text"
      },
      "source": [
        "Итого у нас 395 записей всего"
      ]
    },
    {
      "cell_type": "code",
      "metadata": {
        "id": "pDIMXCXp5Dxi",
        "colab_type": "code",
        "outputId": "ecaf6c70-9449-46ae-8aa9-4a05d3ddb2ac",
        "colab": {
          "base_uri": "https://localhost:8080/",
          "height": 646
        }
      },
      "source": [
        "data.info()"
      ],
      "execution_count": 0,
      "outputs": [
        {
          "output_type": "stream",
          "text": [
            "<class 'pandas.core.frame.DataFrame'>\n",
            "RangeIndex: 395 entries, 0 to 394\n",
            "Data columns (total 30 columns):\n",
            " #   Column               Non-Null Count  Dtype  \n",
            "---  ------               --------------  -----  \n",
            " 0   school               395 non-null    object \n",
            " 1   sex                  395 non-null    object \n",
            " 2   age                  395 non-null    int64  \n",
            " 3   address              378 non-null    object \n",
            " 4   famsize              368 non-null    object \n",
            " 5   Pstatus              350 non-null    object \n",
            " 6   Medu                 392 non-null    float64\n",
            " 7   Fedu                 371 non-null    float64\n",
            " 8   Mjob                 376 non-null    object \n",
            " 9   Fjob                 359 non-null    object \n",
            " 10  reason               378 non-null    object \n",
            " 11  guardian             364 non-null    object \n",
            " 12  traveltime           367 non-null    float64\n",
            " 13  studytime            388 non-null    float64\n",
            " 14  failures             373 non-null    float64\n",
            " 15  schoolsup            386 non-null    object \n",
            " 16  famsup               356 non-null    object \n",
            " 17  paid                 355 non-null    object \n",
            " 18  activities           381 non-null    object \n",
            " 19  nursery              379 non-null    object \n",
            " 20  studytime, granular  388 non-null    float64\n",
            " 21  higher               375 non-null    object \n",
            " 22  internet             361 non-null    object \n",
            " 23  romantic             364 non-null    object \n",
            " 24  famrel               368 non-null    float64\n",
            " 25  freetime             384 non-null    float64\n",
            " 26  goout                387 non-null    float64\n",
            " 27  health               380 non-null    float64\n",
            " 28  absences             383 non-null    float64\n",
            " 29  score                389 non-null    float64\n",
            "dtypes: float64(12), int64(1), object(17)\n",
            "memory usage: 92.7+ KB\n"
          ],
          "name": "stdout"
        }
      ]
    },
    {
      "cell_type": "markdown",
      "metadata": {
        "id": "TgTY8u2LpKlm",
        "colab_type": "text"
      },
      "source": [
        "Имеем много колонок с числовыми данными и колонок с текстовыми данными. Почти все колонки имеют пустные значения. Надо будет их обработать перед анализом"
      ]
    },
    {
      "cell_type": "markdown",
      "metadata": {
        "id": "kTxSCIzvpmH0",
        "colab_type": "text"
      },
      "source": [
        "Переименую колонку чтобы было удобнее"
      ]
    },
    {
      "cell_type": "code",
      "metadata": {
        "id": "n7fkZylLu8lN",
        "colab_type": "code",
        "colab": {}
      },
      "source": [
        "data = data.rename(columns={\"studytime, granular\": \"granular\"})"
      ],
      "execution_count": 0,
      "outputs": []
    },
    {
      "cell_type": "markdown",
      "metadata": {
        "id": "cEW0K37sqBeU",
        "colab_type": "text"
      },
      "source": [
        "# Рассмотрим количество пустых значений"
      ]
    },
    {
      "cell_type": "markdown",
      "metadata": {
        "id": "AYNaFlsjpyWc",
        "colab_type": "text"
      },
      "source": [
        "Узнаем для начала в процентном отношении сколько вообще пустых значений в каждой колонке"
      ]
    },
    {
      "cell_type": "code",
      "metadata": {
        "id": "DuDXgcoPvGvL",
        "colab_type": "code",
        "outputId": "3ce5b148-1bae-4bfd-b541-b04de1df9297",
        "colab": {
          "base_uri": "https://localhost:8080/",
          "height": 493
        }
      },
      "source": [
        "np.round(data.isna().sum()[data.isna().sum()>0] / data.shape[0], 2)"
      ],
      "execution_count": 0,
      "outputs": [
        {
          "output_type": "execute_result",
          "data": {
            "text/plain": [
              "address       0.04\n",
              "famsize       0.07\n",
              "Pstatus       0.11\n",
              "Medu          0.01\n",
              "Fedu          0.06\n",
              "Mjob          0.05\n",
              "Fjob          0.09\n",
              "reason        0.04\n",
              "guardian      0.08\n",
              "traveltime    0.07\n",
              "studytime     0.02\n",
              "failures      0.06\n",
              "schoolsup     0.02\n",
              "famsup        0.10\n",
              "paid          0.10\n",
              "activities    0.04\n",
              "nursery       0.04\n",
              "granular      0.02\n",
              "higher        0.05\n",
              "internet      0.09\n",
              "romantic      0.08\n",
              "famrel        0.07\n",
              "freetime      0.03\n",
              "goout         0.02\n",
              "health        0.04\n",
              "absences      0.03\n",
              "score         0.02\n",
              "dtype: float64"
            ]
          },
          "metadata": {
            "tags": []
          },
          "execution_count": 9
        }
      ]
    },
    {
      "cell_type": "markdown",
      "metadata": {
        "id": "qftOxzqMvwvw",
        "colab_type": "text"
      },
      "source": [
        "Для всех признаков сначала попробуем дропнуть строки с пропущенными значениями и посмотрим, сколько данных останется:\n"
      ]
    },
    {
      "cell_type": "code",
      "metadata": {
        "id": "rYJrIyRuv2SP",
        "colab_type": "code",
        "outputId": "620d3835-3163-414c-8376-ae3ea21b996d",
        "colab": {
          "base_uri": "https://localhost:8080/",
          "height": 34
        }
      },
      "source": [
        "data.dropna().shape[0] / data.shape[0]"
      ],
      "execution_count": 0,
      "outputs": [
        {
          "output_type": "execute_result",
          "data": {
            "text/plain": [
              "0.24556962025316456"
            ]
          },
          "metadata": {
            "tags": []
          },
          "execution_count": 15
        }
      ]
    },
    {
      "cell_type": "markdown",
      "metadata": {
        "id": "1dMpN9SxqhoL",
        "colab_type": "text"
      },
      "source": [
        "Просто так удалить не получится. Надо обрабатывать каждую колонку по отдельности. \n",
        "Покажем пустые значение более наглядно"
      ]
    },
    {
      "cell_type": "code",
      "metadata": {
        "id": "IX3nolz9v2jr",
        "colab_type": "code",
        "outputId": "c6bbeada-7b21-42e4-8366-0b1227eba8a2",
        "colab": {
          "base_uri": "https://localhost:8080/",
          "height": 742
        }
      },
      "source": [
        "fig, ax = plt.subplots(figsize=(20,12))\n",
        "sns_heatmap = sns.heatmap(data.isnull(), yticklabels=False, cbar=False, cmap='viridis')\n"
      ],
      "execution_count": 0,
      "outputs": [
        {
          "output_type": "display_data",
          "data": {
            "image/png": "[encoded data removed]",
            "text/plain": [
              "<Figure size 1440x864 with 1 Axes>"
            ]
          },
          "metadata": {
            "tags": [],
            "needs_background": "light"
          }
        }
      ]
    },
    {
      "cell_type": "markdown",
      "metadata": {
        "id": "8OsBuWCmrNlL",
        "colab_type": "text"
      },
      "source": [
        "Видим не очень приятную картину. Хотя пропусков не много, но они есть почти в каждой колонке. "
      ]
    },
    {
      "cell_type": "markdown",
      "metadata": {
        "id": "dq3Kuw2nwnHv",
        "colab_type": "text"
      },
      "source": [
        "**Важный момент.**  В колонке score тоже есть пустый значения. Их надо удалить тк для нас эти записи безполезны\n"
      ]
    },
    {
      "cell_type": "code",
      "metadata": {
        "id": "JxD2VpcowvDH",
        "colab_type": "code",
        "colab": {}
      },
      "source": [
        "nul =  data[data.score.isnull()].index.tolist()\n",
        "data = data.drop(nul)\n"
      ],
      "execution_count": 0,
      "outputs": []
    },
    {
      "cell_type": "markdown",
      "metadata": {
        "id": "JuKI9Kr1ryuM",
        "colab_type": "text"
      },
      "source": [
        "# Удаляем ненужные числовые колонки\n"
      ]
    },
    {
      "cell_type": "markdown",
      "metadata": {
        "id": "TMUvaA5CsKNy",
        "colab_type": "text"
      },
      "source": [
        "Перед тем как работать с численными колонками посмотрим на корреляцию с колонкой **score**. Может какие-то колонки можно вообще удалить и не тратить на них время"
      ]
    },
    {
      "cell_type": "code",
      "metadata": {
        "id": "JO0VPkI0sHSq",
        "colab_type": "code",
        "outputId": "30282f02-c44a-48da-cfd2-b4a346c04b92",
        "colab": {
          "base_uri": "https://localhost:8080/",
          "height": 861
        }
      },
      "source": [
        "plt.subplots(figsize=(18,15))\n",
        "sns.heatmap(data.corr(),annot=True, square=True, cmap=sns.color_palette(\"coolwarm\", 10000), vmin=-1, center=0)\n",
        "plt.show()"
      ],
      "execution_count": 0,
      "outputs": [
        {
          "output_type": "display_data",
          "data": {
            "image/png": "[encoded data removed]",
            "text/plain": [
              "<Figure size 1296x1080 with 2 Axes>"
            ]
          },
          "metadata": {
            "tags": [],
            "needs_background": "light"
          }
        }
      ]
    },
    {
      "cell_type": "markdown",
      "metadata": {
        "id": "o_4sv2J5scEk",
        "colab_type": "text"
      },
      "source": [
        " Как видно, колонка **granular** и **studytime** полностью коррелированы. Удалю **granular**. Колонки **Fedu**, **traveltime**, **famrel**, **freetime**, **health**, **absences** вообще никак не влияют на **score**, их тоже можно удалить  \n",
        " "
      ]
    },
    {
      "cell_type": "code",
      "metadata": {
        "id": "-03gL_sMtP0d",
        "colab_type": "code",
        "colab": {}
      },
      "source": [
        "data = data.drop('granular', 1)\n",
        "data = data.drop('traveltime', 1)\n",
        "data = data.drop('famrel', 1)\n",
        "data = data.drop('freetime', 1)\n",
        "data = data.drop('health', 1)\n",
        "data = data.drop('absences', 1)\n",
        "data = data.drop('Fedu', 1)\n",
        "\n"
      ],
      "execution_count": 0,
      "outputs": []
    },
    {
      "cell_type": "markdown",
      "metadata": {
        "id": "jTR-HGKauY9s",
        "colab_type": "text"
      },
      "source": [
        "Смотрим, что получилось\n"
      ]
    },
    {
      "cell_type": "code",
      "metadata": {
        "id": "33roeb1muDDC",
        "colab_type": "code",
        "outputId": "ac98ba60-b670-4c2f-a3b6-9203df837100",
        "colab": {
          "base_uri": "https://localhost:8080/",
          "height": 861
        }
      },
      "source": [
        "plt.subplots(figsize=(18,15))\n",
        "sns.heatmap(data.corr(),annot=True, square=True, cmap=sns.color_palette(\"coolwarm\", 10000), vmin=-1, center=0)\n",
        "plt.show()"
      ],
      "execution_count": 0,
      "outputs": [
        {
          "output_type": "display_data",
          "data": {
            "image/png": "[encoded data removed]",
            "text/plain": [
              "<Figure size 1296x1080 with 2 Axes>"
            ]
          },
          "metadata": {
            "tags": [],
            "needs_background": "light"
          }
        }
      ]
    },
    {
      "cell_type": "markdown",
      "metadata": {
        "id": "t_EQTnieuhQx",
        "colab_type": "text"
      },
      "source": [
        "# Заполняем пустые числовые значения"
      ]
    },
    {
      "cell_type": "markdown",
      "metadata": {
        "id": "BxjqiN1hu8UR",
        "colab_type": "text"
      },
      "source": [
        "Сделаю функцию, которая будет заполнять пустые значения разными данными. И будем считать как поменялась корреляция. В зависимости от этого поставим значения"
      ]
    },
    {
      "cell_type": "code",
      "metadata": {
        "id": "Dk168XFH0Nma",
        "colab_type": "code",
        "colab": {}
      },
      "source": [
        "def testfill(column):\n",
        "  list_to_check = [0, data[column].min(), data[column].max(), data[column].mean(), data[column].median(),\\\n",
        "                    data[column].quantile(0.3), data[column].quantile(0.4), data[column].quantile(0.6),\\\n",
        "                    data[column].quantile(0.7)]                    \n",
        "  list_of_names = ['0', 'min', 'max', 'mean', 'median', 'quantile 0.3', 'quantile 0.4', 'quantile 0.6', 'quantile 0.7']\n",
        "  list_of_methods = ['bfill', 'ffill']\n",
        "  \n",
        "  print('Base for {}: {}'.format(column, data[column].corr(data.score)))\n",
        "  for index, el in enumerate(list_to_check):    \n",
        "    print('method: {}, correlation value: {:.4f}'.format(list_of_names[index], \\\n",
        "                                                    data[column].fillna(el).corr(data.score)))\n",
        "  for el in list_of_methods:\n",
        "    print('method: {}, correlation value: {:.4f}'.format(el, \\\n",
        "                                                     data[column].fillna(method=el).corr(data.score)))\n",
        "  print('--------------') \n",
        "\n",
        "\n",
        "  "
      ],
      "execution_count": 0,
      "outputs": []
    },
    {
      "cell_type": "code",
      "metadata": {
        "id": "RWwnbIdB0ox4",
        "colab_type": "code",
        "outputId": "e6730b65-0b07-498d-ede7-0831e594347e",
        "colab": {
          "base_uri": "https://localhost:8080/",
          "height": 901
        }
      },
      "source": [
        "lst=['Medu','studytime','failures','goout']\n",
        "for item in lst:\n",
        "   testfill(item)   \n",
        "\n",
        "\n"
      ],
      "execution_count": 0,
      "outputs": [
        {
          "output_type": "stream",
          "text": [
            "Base for Medu: 0.21334872375060193\n",
            "method: 0, correlation value: 0.2280\n",
            "method: min, correlation value: 0.2280\n",
            "method: max, correlation value: 0.2009\n",
            "method: mean, correlation value: 0.2116\n",
            "method: median, correlation value: 0.2098\n",
            "method: quantile 0.3, correlation value: 0.2173\n",
            "method: quantile 0.4, correlation value: 0.2173\n",
            "method: quantile 0.6, correlation value: 0.2098\n",
            "method: quantile 0.7, correlation value: 0.2009\n",
            "method: bfill, correlation value: 0.2016\n",
            "method: ffill, correlation value: 0.2122\n",
            "--------------\n",
            "Base for studytime: 0.11574134847030247\n",
            "method: 0, correlation value: 0.0822\n",
            "method: min, correlation value: 0.0990\n",
            "method: max, correlation value: 0.1358\n",
            "method: mean, correlation value: 0.1148\n",
            "method: median, correlation value: 0.1143\n",
            "method: quantile 0.3, correlation value: 0.1143\n",
            "method: quantile 0.4, correlation value: 0.1143\n",
            "method: quantile 0.6, correlation value: 0.1143\n",
            "method: quantile 0.7, correlation value: 0.1143\n",
            "method: bfill, correlation value: 0.1188\n",
            "method: ffill, correlation value: 0.1149\n",
            "--------------\n",
            "Base for failures: -0.3443382999897429\n",
            "method: 0, correlation value: -0.3372\n",
            "method: min, correlation value: -0.3372\n",
            "method: max, correlation value: -0.2177\n",
            "method: mean, correlation value: -0.3336\n",
            "method: median, correlation value: -0.3372\n",
            "method: quantile 0.3, correlation value: -0.3372\n",
            "method: quantile 0.4, correlation value: -0.3372\n",
            "method: quantile 0.6, correlation value: -0.3372\n",
            "method: quantile 0.7, correlation value: -0.3372\n",
            "method: bfill, correlation value: -0.3280\n",
            "method: ffill, correlation value: -0.3348\n",
            "--------------\n",
            "Base for goout: -0.1296849276085437\n",
            "method: 0, correlation value: -0.1038\n",
            "method: min, correlation value: -0.1129\n",
            "method: max, correlation value: -0.1356\n",
            "method: mean, correlation value: -0.1283\n",
            "method: median, correlation value: -0.1277\n",
            "method: quantile 0.3, correlation value: -0.1210\n",
            "method: quantile 0.4, correlation value: -0.1277\n",
            "method: quantile 0.6, correlation value: -0.1277\n",
            "method: quantile 0.7, correlation value: -0.1326\n",
            "method: bfill, correlation value: -0.1169\n",
            "method: ffill, correlation value: -0.1401\n",
            "--------------\n"
          ],
          "name": "stdout"
        }
      ]
    },
    {
      "cell_type": "markdown",
      "metadata": {
        "id": "-NVsGIxuvlNY",
        "colab_type": "text"
      },
      "source": [
        "Итого:\n",
        "\n",
        "\n",
        "*   Medu - ставим 0\n",
        "*   studytime - ставим max\n",
        "*   failures - ставим 0\n",
        "*   goout - ставим ffill"
      ]
    },
    {
      "cell_type": "code",
      "metadata": {
        "id": "x3aMdVhEyLin",
        "colab_type": "code",
        "colab": {}
      },
      "source": [
        "data.Medu.fillna(0, inplace=True)\n",
        "data.failures.fillna(0, inplace=True)\n",
        "data.studytime.fillna(data.studytime.max(), inplace=True)\n",
        "data.studytime.fillna(data.studytime.max(), inplace=True)\n",
        "data.goout.fillna(data.goout.fillna(method='ffill'), inplace=True)"
      ],
      "execution_count": 0,
      "outputs": []
    },
    {
      "cell_type": "markdown",
      "metadata": {
        "id": "jUwQQjlqznLV",
        "colab_type": "text"
      },
      "source": [
        "# Рассмотрим разброс числовых значений"
      ]
    },
    {
      "cell_type": "code",
      "metadata": {
        "id": "8Ue34oafzxAr",
        "colab_type": "code",
        "colab": {}
      },
      "source": [
        "def bar(column):  \n",
        "  plt.figure(figsize=(5,2))\n",
        "  sns.boxplot(data[column])"
      ],
      "execution_count": 0,
      "outputs": []
    },
    {
      "cell_type": "code",
      "metadata": {
        "id": "a2lwHWEFz2vr",
        "colab_type": "code",
        "outputId": "f025f11d-b66b-4f02-d9f7-3b8293c18214",
        "colab": {
          "base_uri": "https://localhost:8080/",
          "height": 787
        }
      },
      "source": [
        "lst=['age','Medu','studytime','failures','goout']\n",
        "for item in lst:\n",
        "   bar(item)   "
      ],
      "execution_count": 0,
      "outputs": [
        {
          "output_type": "display_data",
          "data": {
            "image/png": "[encoded data removed]",
            "text/plain": [
              "<Figure size 360x144 with 1 Axes>"
            ]
          },
          "metadata": {
            "tags": [],
            "needs_background": "light"
          }
        },
        {
          "output_type": "display_data",
          "data": {
            "image/png": "[encoded data removed]",
            "text/plain": [
              "<Figure size 360x144 with 1 Axes>"
            ]
          },
          "metadata": {
            "tags": [],
            "needs_background": "light"
          }
        },
        {
          "output_type": "display_data",
          "data": {
            "image/png": "[encoded data removed]",
            "text/plain": [
              "<Figure size 360x144 with 1 Axes>"
            ]
          },
          "metadata": {
            "tags": [],
            "needs_background": "light"
          }
        },
        {
          "output_type": "display_data",
          "data": {
            "image/png": "[encoded data removed]",
            "text/plain": [
              "<Figure size 360x144 with 1 Axes>"
            ]
          },
          "metadata": {
            "tags": [],
            "needs_background": "light"
          }
        },
        {
          "output_type": "display_data",
          "data": {
            "image/png": "[encoded data removed]",
            "text/plain": [
              "<Figure size 360x144 with 1 Axes>"
            ]
          },
          "metadata": {
            "tags": [],
            "needs_background": "light"
          }
        }
      ]
    },
    {
      "cell_type": "markdown",
      "metadata": {
        "id": "5MDYp_Kh0vTF",
        "colab_type": "text"
      },
      "source": [
        "В числовых данных выбросов нет. "
      ]
    },
    {
      "cell_type": "markdown",
      "metadata": {
        "id": "CpZ0EdKP044q",
        "colab_type": "text"
      },
      "source": [
        "# Заполняем пустые номинативные значения"
      ]
    },
    {
      "cell_type": "code",
      "metadata": {
        "id": "C0_qY-na1URa",
        "colab_type": "code",
        "colab": {}
      },
      "source": [
        "colsnum = data.select_dtypes(include='object').columns.tolist()"
      ],
      "execution_count": 0,
      "outputs": []
    },
    {
      "cell_type": "code",
      "metadata": {
        "id": "aq4mIsLx7sIn",
        "colab_type": "code",
        "outputId": "9b576b2e-9ffe-4cbe-f3df-0bf5afa571cf",
        "colab": {
          "base_uri": "https://localhost:8080/",
          "height": 173
        }
      },
      "source": [
        "data.select_dtypes(include='object').describe()"
      ],
      "execution_count": 0,
      "outputs": [
        {
          "output_type": "execute_result",
          "data": {
            "text/html": [
              "<div>\n",
              "<style scoped>\n",
              "    .dataframe tbody tr th:only-of-type {\n",
              "        vertical-align: middle;\n",
              "    }\n",
              "\n",
              "    .dataframe tbody tr th {\n",
              "        vertical-align: top;\n",
              "    }\n",
              "\n",
              "    .dataframe thead th {\n",
              "        text-align: right;\n",
              "    }\n",
              "</style>\n",
              "<table border=\"1\" class=\"dataframe\">\n",
              "  <thead>\n",
              "    <tr style=\"text-align: right;\">\n",
              "      <th></th>\n",
              "      <th>school</th>\n",
              "      <th>sex</th>\n",
              "      <th>address</th>\n",
              "      <th>famsize</th>\n",
              "      <th>Pstatus</th>\n",
              "      <th>Mjob</th>\n",
              "      <th>Fjob</th>\n",
              "      <th>reason</th>\n",
              "      <th>guardian</th>\n",
              "      <th>schoolsup</th>\n",
              "      <th>famsup</th>\n",
              "      <th>paid</th>\n",
              "      <th>activities</th>\n",
              "      <th>nursery</th>\n",
              "      <th>higher</th>\n",
              "      <th>internet</th>\n",
              "      <th>romantic</th>\n",
              "    </tr>\n",
              "  </thead>\n",
              "  <tbody>\n",
              "    <tr>\n",
              "      <th>count</th>\n",
              "      <td>389</td>\n",
              "      <td>389</td>\n",
              "      <td>374</td>\n",
              "      <td>362</td>\n",
              "      <td>344</td>\n",
              "      <td>370</td>\n",
              "      <td>353</td>\n",
              "      <td>372</td>\n",
              "      <td>358</td>\n",
              "      <td>380</td>\n",
              "      <td>351</td>\n",
              "      <td>350</td>\n",
              "      <td>375</td>\n",
              "      <td>374</td>\n",
              "      <td>369</td>\n",
              "      <td>355</td>\n",
              "      <td>358</td>\n",
              "    </tr>\n",
              "    <tr>\n",
              "      <th>unique</th>\n",
              "      <td>2</td>\n",
              "      <td>2</td>\n",
              "      <td>2</td>\n",
              "      <td>2</td>\n",
              "      <td>2</td>\n",
              "      <td>5</td>\n",
              "      <td>5</td>\n",
              "      <td>4</td>\n",
              "      <td>3</td>\n",
              "      <td>2</td>\n",
              "      <td>2</td>\n",
              "      <td>2</td>\n",
              "      <td>2</td>\n",
              "      <td>2</td>\n",
              "      <td>2</td>\n",
              "      <td>2</td>\n",
              "      <td>2</td>\n",
              "    </tr>\n",
              "    <tr>\n",
              "      <th>top</th>\n",
              "      <td>GP</td>\n",
              "      <td>F</td>\n",
              "      <td>U</td>\n",
              "      <td>GT3</td>\n",
              "      <td>T</td>\n",
              "      <td>other</td>\n",
              "      <td>other</td>\n",
              "      <td>course</td>\n",
              "      <td>mother</td>\n",
              "      <td>no</td>\n",
              "      <td>yes</td>\n",
              "      <td>no</td>\n",
              "      <td>yes</td>\n",
              "      <td>yes</td>\n",
              "      <td>yes</td>\n",
              "      <td>yes</td>\n",
              "      <td>no</td>\n",
              "    </tr>\n",
              "    <tr>\n",
              "      <th>freq</th>\n",
              "      <td>344</td>\n",
              "      <td>204</td>\n",
              "      <td>291</td>\n",
              "      <td>255</td>\n",
              "      <td>308</td>\n",
              "      <td>127</td>\n",
              "      <td>194</td>\n",
              "      <td>135</td>\n",
              "      <td>248</td>\n",
              "      <td>331</td>\n",
              "      <td>216</td>\n",
              "      <td>197</td>\n",
              "      <td>192</td>\n",
              "      <td>297</td>\n",
              "      <td>350</td>\n",
              "      <td>300</td>\n",
              "      <td>235</td>\n",
              "    </tr>\n",
              "  </tbody>\n",
              "</table>\n",
              "</div>"
            ],
            "text/plain": [
              "       school  sex address famsize Pstatus   Mjob   Fjob  reason guardian  \\\n",
              "count     389  389     374     362     344    370    353     372      358   \n",
              "unique      2    2       2       2       2      5      5       4        3   \n",
              "top        GP    F       U     GT3       T  other  other  course   mother   \n",
              "freq      344  204     291     255     308    127    194     135      248   \n",
              "\n",
              "       schoolsup famsup paid activities nursery higher internet romantic  \n",
              "count        380    351  350        375     374    369      355      358  \n",
              "unique         2      2    2          2       2      2        2        2  \n",
              "top           no    yes   no        yes     yes    yes      yes       no  \n",
              "freq         331    216  197        192     297    350      300      235  "
            ]
          },
          "metadata": {
            "tags": []
          },
          "execution_count": 11
        }
      ]
    },
    {
      "cell_type": "markdown",
      "metadata": {
        "id": "RJVIxSZI5dIH",
        "colab_type": "text"
      },
      "source": [
        "Судя по данным в них нет не стандартных значений. Поэтмому просто заменим все пустоты на слово None\n"
      ]
    },
    {
      "cell_type": "code",
      "metadata": {
        "id": "uJgn4EqX5uEG",
        "colab_type": "code",
        "colab": {}
      },
      "source": [
        "for col in colsnum:\n",
        "  data[col] = data[col].astype(str).apply(lambda x: None if pd.isnull(x) else x)"
      ],
      "execution_count": 0,
      "outputs": []
    },
    {
      "cell_type": "code",
      "metadata": {
        "id": "eA37_AF8ASso",
        "colab_type": "code",
        "colab": {}
      },
      "source": [
        "def get_boxplot(column):\n",
        "    fig, ax = plt.subplots(figsize = (14, 4))\n",
        "    sns.boxplot(x=column, y='score', \n",
        "                data=data.loc[data.loc[:, column].isin(data.loc[:, column].value_counts().index)],\n",
        "               ax=ax)\n",
        "    plt.xticks(rotation=45)\n",
        "    ax.set_title('Boxplot for ' + column)\n",
        "    plt.show()\n",
        "\n",
        "def get_stat_dif(column):\n",
        "    cols = data.loc[:, column].value_counts().index    \n",
        "    combinations_all = list(combinations(cols, 2))\n",
        "    for comb in combinations_all:              \n",
        "        ind = ttest_ind(data.loc[data.loc[:, column] == comb[0], 'score'], \n",
        "                        data.loc[data.loc[:, column] == comb[1], 'score'])\n",
        "\n",
        "        if ind.pvalue <= 0.05/len(combinations_all): # Учли поправку Бонферони            \n",
        "            print(ind)\n",
        "\n",
        "            print('Найдены статистически значимые различия для колонки', column)\n",
        "            break"
      ],
      "execution_count": 0,
      "outputs": []
    },
    {
      "cell_type": "markdown",
      "metadata": {
        "id": "X4irUsTR5cV_",
        "colab_type": "text"
      },
      "source": [
        "Рассмотрим распределение **score** в зависимости от значения переменных"
      ]
    },
    {
      "cell_type": "code",
      "metadata": {
        "id": "-R31CJwhAfZE",
        "colab_type": "code",
        "outputId": "b2ddf900-4dae-41ca-8925-4cc21e61ea53",
        "colab": {
          "base_uri": "https://localhost:8080/",
          "height": 153
        }
      },
      "source": [
        "for col in colsnum:\n",
        "    get_boxplot(col)\n",
        "    get_stat_dif(col)\n",
        "\n"
      ],
      "execution_count": 0,
      "outputs": [
        {
          "output_type": "stream",
          "text": [
            "Ttest_indResult(statistic=3.6177131328347674, pvalue=0.0003388477332989921)\n",
            "Найдены статистически значимые различия для колонки higher\n",
            "Ttest_indResult(statistic=2.6934488906986855, pvalue=0.007406360719202365)\n",
            "Найдены статистически значимые различия для колонки romantic\n",
            "Ttest_indResult(statistic=3.6177131328347674, pvalue=0.0003388477332989921)\n",
            "Найдены статистически значимые различия для колонки higher\n",
            "Ttest_indResult(statistic=2.6934488906986855, pvalue=0.007406360719202365)\n",
            "Найдены статистически значимые различия для колонки romantic\n"
          ],
          "name": "stdout"
        }
      ]
    },
    {
      "cell_type": "markdown",
      "metadata": {
        "id": "dG2B15_h7sMu",
        "colab_type": "text"
      },
      "source": [
        "У нас получилось, что есть статистически значимые различия для колонок romantic и higher\n"
      ]
    },
    {
      "cell_type": "markdown",
      "metadata": {
        "id": "MWYBPA1BACL0",
        "colab_type": "text"
      },
      "source": [
        "Выделим колонки, которые влияют на **score**"
      ]
    },
    {
      "cell_type": "code",
      "metadata": {
        "id": "WS1YEYiS9zcM",
        "colab_type": "code",
        "outputId": "7af1fe44-21fe-4a85-c22e-74c1315abba0",
        "colab": {
          "base_uri": "https://localhost:8080/",
          "height": 204
        }
      },
      "source": [
        "data_for_model = data.loc[:, ['age','Medu','studytime','failures','goout', 'higher', 'romantic', 'score']]\n",
        "data_for_model.head()"
      ],
      "execution_count": 0,
      "outputs": [
        {
          "output_type": "execute_result",
          "data": {
            "text/html": [
              "<div>\n",
              "<style scoped>\n",
              "    .dataframe tbody tr th:only-of-type {\n",
              "        vertical-align: middle;\n",
              "    }\n",
              "\n",
              "    .dataframe tbody tr th {\n",
              "        vertical-align: top;\n",
              "    }\n",
              "\n",
              "    .dataframe thead th {\n",
              "        text-align: right;\n",
              "    }\n",
              "</style>\n",
              "<table border=\"1\" class=\"dataframe\">\n",
              "  <thead>\n",
              "    <tr style=\"text-align: right;\">\n",
              "      <th></th>\n",
              "      <th>age</th>\n",
              "      <th>Medu</th>\n",
              "      <th>studytime</th>\n",
              "      <th>failures</th>\n",
              "      <th>goout</th>\n",
              "      <th>higher</th>\n",
              "      <th>romantic</th>\n",
              "      <th>score</th>\n",
              "    </tr>\n",
              "  </thead>\n",
              "  <tbody>\n",
              "    <tr>\n",
              "      <th>0</th>\n",
              "      <td>18</td>\n",
              "      <td>4.0</td>\n",
              "      <td>2.0</td>\n",
              "      <td>0.0</td>\n",
              "      <td>4.0</td>\n",
              "      <td>yes</td>\n",
              "      <td>no</td>\n",
              "      <td>30.0</td>\n",
              "    </tr>\n",
              "    <tr>\n",
              "      <th>1</th>\n",
              "      <td>17</td>\n",
              "      <td>1.0</td>\n",
              "      <td>2.0</td>\n",
              "      <td>0.0</td>\n",
              "      <td>3.0</td>\n",
              "      <td>yes</td>\n",
              "      <td>no</td>\n",
              "      <td>30.0</td>\n",
              "    </tr>\n",
              "    <tr>\n",
              "      <th>2</th>\n",
              "      <td>15</td>\n",
              "      <td>1.0</td>\n",
              "      <td>2.0</td>\n",
              "      <td>3.0</td>\n",
              "      <td>2.0</td>\n",
              "      <td>yes</td>\n",
              "      <td>nan</td>\n",
              "      <td>50.0</td>\n",
              "    </tr>\n",
              "    <tr>\n",
              "      <th>3</th>\n",
              "      <td>15</td>\n",
              "      <td>4.0</td>\n",
              "      <td>3.0</td>\n",
              "      <td>0.0</td>\n",
              "      <td>2.0</td>\n",
              "      <td>yes</td>\n",
              "      <td>yes</td>\n",
              "      <td>75.0</td>\n",
              "    </tr>\n",
              "    <tr>\n",
              "      <th>4</th>\n",
              "      <td>16</td>\n",
              "      <td>3.0</td>\n",
              "      <td>2.0</td>\n",
              "      <td>0.0</td>\n",
              "      <td>2.0</td>\n",
              "      <td>yes</td>\n",
              "      <td>no</td>\n",
              "      <td>50.0</td>\n",
              "    </tr>\n",
              "  </tbody>\n",
              "</table>\n",
              "</div>"
            ],
            "text/plain": [
              "   age  Medu  studytime  failures  goout higher romantic  score\n",
              "0   18   4.0        2.0       0.0    4.0    yes       no   30.0\n",
              "1   17   1.0        2.0       0.0    3.0    yes       no   30.0\n",
              "2   15   1.0        2.0       3.0    2.0    yes      nan   50.0\n",
              "3   15   4.0        3.0       0.0    2.0    yes      yes   75.0\n",
              "4   16   3.0        2.0       0.0    2.0    yes       no   50.0"
            ]
          },
          "metadata": {
            "tags": []
          },
          "execution_count": 52
        }
      ]
    },
    {
      "cell_type": "markdown",
      "metadata": {
        "id": "O65uvklHALNC",
        "colab_type": "text"
      },
      "source": [
        "# Выводы"
      ]
    },
    {
      "cell_type": "markdown",
      "metadata": {
        "id": "VWW-H7rWAQ_F",
        "colab_type": "text"
      },
      "source": [
        "Итак, в результате EDA для анализа влияния условий жизни учащихся на успеваемость по математике были получены следующие выводы:\n",
        "\n",
        "1. С пустыми значениями следующая ситуация. В каждой характеристике  их не много, но они есть почти у каждой. Тк данных не очень много, то нельзя просто так взять и выкинуть сточку с пустыми значениями. Пришлось их заполнять промежуточными данными без потери корреляции со score\n",
        "\n",
        "2. Были обнаружены пустые значения в столбце score. Такие строчки пришлось удалить. \n",
        "\n",
        "3. Выбросов в данных не обнаружено, что данные достаточно чистые.\n",
        "\n",
        "4. Самые важные параметры, которые предлагается использовать в дальнейшем для построения модели, это age, Medu, studytime, failures , goout, higher, romantic\n",
        "\n",
        "5. Интересна ситуация с тем, какие условия влияют на оценки. \n",
        "\n",
        "Medu — образование матери - чем выше, тем лучше. Любопытно, что Fedu — образование отца не играет большой роли.\n",
        "\n",
        "studytime - чем выше, тем лучше учеба\n",
        "\n",
        "failures — сильное влияние\n",
        "\n",
        "goout — чем больше проводит время с друзьями, тем хуже учеба\n",
        "\n",
        "higher - важно, тк желание получить высшее образование тянет за собой желание \n",
        "поулчать хорошие оценки\n",
        "\n",
        "romantic - чем больше проводит время в отношениях, тем хуже оценки\n",
        "\n",
        "\n",
        "\n"
      ]
    },
    {
      "cell_type": "markdown",
      "metadata": {
        "id": "sjaMdDf9DGti",
        "colab_type": "text"
      },
      "source": [
        "Краткий вывод такой - чтобы лучше учиться нужно желание получить высшее образование и больше времени учелять учебе. Так же крайне важно сглаживать последствия внеучебных неудач. \n",
        "Кроме того, важно какое образование у родителей, особенно матери\n"
      ]
    }
  ]
}